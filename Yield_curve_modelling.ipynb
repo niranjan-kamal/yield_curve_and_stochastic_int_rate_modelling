{
 "cells": [
  {
   "cell_type": "code",
   "execution_count": 1,
   "id": "3b747eb8",
   "metadata": {},
   "outputs": [],
   "source": [
    "import pandas as pd\n",
    "import matplotlib.pyplot as plt\n",
    "import numpy as np\n",
    "from scipy.optimize import curve_fit\n",
    "from scipy.optimize import minimize"
   ]
  },
  {
   "cell_type": "markdown",
   "id": "9befed0f",
   "metadata": {},
   "source": [
    "### Import data"
   ]
  },
  {
   "cell_type": "code",
   "execution_count": 2,
   "id": "f6b83882",
   "metadata": {},
   "outputs": [],
   "source": [
    "# Import data\n",
    "data_7_16_2025 = pd.read_csv('daily-treasury-rates.csv')"
   ]
  },
  {
   "cell_type": "code",
   "execution_count": 3,
   "id": "5723cca1",
   "metadata": {},
   "outputs": [
    {
     "data": {
      "text/html": [
       "<div>\n",
       "<style scoped>\n",
       "    .dataframe tbody tr th:only-of-type {\n",
       "        vertical-align: middle;\n",
       "    }\n",
       "\n",
       "    .dataframe tbody tr th {\n",
       "        vertical-align: top;\n",
       "    }\n",
       "\n",
       "    .dataframe thead th {\n",
       "        text-align: right;\n",
       "    }\n",
       "</style>\n",
       "<table border=\"1\" class=\"dataframe\">\n",
       "  <thead>\n",
       "    <tr style=\"text-align: right;\">\n",
       "      <th></th>\n",
       "      <th>Date</th>\n",
       "      <th>1 Mo</th>\n",
       "      <th>1.5 Mo</th>\n",
       "      <th>2 Mo</th>\n",
       "      <th>3 Mo</th>\n",
       "      <th>4 Mo</th>\n",
       "      <th>6 Mo</th>\n",
       "      <th>1 Yr</th>\n",
       "      <th>2 Yr</th>\n",
       "      <th>3 Yr</th>\n",
       "      <th>5 Yr</th>\n",
       "      <th>7 Yr</th>\n",
       "      <th>10 Yr</th>\n",
       "      <th>20 Yr</th>\n",
       "      <th>30 Yr</th>\n",
       "    </tr>\n",
       "  </thead>\n",
       "  <tbody>\n",
       "    <tr>\n",
       "      <th>0</th>\n",
       "      <td>7/16/2025</td>\n",
       "      <td>4.36</td>\n",
       "      <td>4.40</td>\n",
       "      <td>4.45</td>\n",
       "      <td>4.41</td>\n",
       "      <td>4.42</td>\n",
       "      <td>4.31</td>\n",
       "      <td>4.08</td>\n",
       "      <td>3.88</td>\n",
       "      <td>3.86</td>\n",
       "      <td>3.99</td>\n",
       "      <td>4.21</td>\n",
       "      <td>4.46</td>\n",
       "      <td>5.01</td>\n",
       "      <td>5.01</td>\n",
       "    </tr>\n",
       "    <tr>\n",
       "      <th>1</th>\n",
       "      <td>7/15/2025</td>\n",
       "      <td>4.36</td>\n",
       "      <td>4.40</td>\n",
       "      <td>4.46</td>\n",
       "      <td>4.42</td>\n",
       "      <td>4.43</td>\n",
       "      <td>4.33</td>\n",
       "      <td>4.12</td>\n",
       "      <td>3.95</td>\n",
       "      <td>3.93</td>\n",
       "      <td>4.05</td>\n",
       "      <td>4.26</td>\n",
       "      <td>4.50</td>\n",
       "      <td>5.02</td>\n",
       "      <td>5.01</td>\n",
       "    </tr>\n",
       "    <tr>\n",
       "      <th>2</th>\n",
       "      <td>7/14/2025</td>\n",
       "      <td>4.37</td>\n",
       "      <td>4.41</td>\n",
       "      <td>4.46</td>\n",
       "      <td>4.42</td>\n",
       "      <td>4.42</td>\n",
       "      <td>4.31</td>\n",
       "      <td>4.08</td>\n",
       "      <td>3.90</td>\n",
       "      <td>3.86</td>\n",
       "      <td>3.98</td>\n",
       "      <td>4.19</td>\n",
       "      <td>4.43</td>\n",
       "      <td>4.97</td>\n",
       "      <td>4.97</td>\n",
       "    </tr>\n",
       "    <tr>\n",
       "      <th>3</th>\n",
       "      <td>7/11/2025</td>\n",
       "      <td>4.37</td>\n",
       "      <td>4.39</td>\n",
       "      <td>4.47</td>\n",
       "      <td>4.41</td>\n",
       "      <td>4.42</td>\n",
       "      <td>4.31</td>\n",
       "      <td>4.09</td>\n",
       "      <td>3.90</td>\n",
       "      <td>3.86</td>\n",
       "      <td>3.99</td>\n",
       "      <td>4.19</td>\n",
       "      <td>4.43</td>\n",
       "      <td>4.96</td>\n",
       "      <td>4.96</td>\n",
       "    </tr>\n",
       "    <tr>\n",
       "      <th>4</th>\n",
       "      <td>7/10/2025</td>\n",
       "      <td>4.36</td>\n",
       "      <td>4.39</td>\n",
       "      <td>4.47</td>\n",
       "      <td>4.42</td>\n",
       "      <td>4.42</td>\n",
       "      <td>4.31</td>\n",
       "      <td>4.07</td>\n",
       "      <td>3.86</td>\n",
       "      <td>3.82</td>\n",
       "      <td>3.93</td>\n",
       "      <td>4.12</td>\n",
       "      <td>4.35</td>\n",
       "      <td>4.87</td>\n",
       "      <td>4.86</td>\n",
       "    </tr>\n",
       "    <tr>\n",
       "      <th>...</th>\n",
       "      <td>...</td>\n",
       "      <td>...</td>\n",
       "      <td>...</td>\n",
       "      <td>...</td>\n",
       "      <td>...</td>\n",
       "      <td>...</td>\n",
       "      <td>...</td>\n",
       "      <td>...</td>\n",
       "      <td>...</td>\n",
       "      <td>...</td>\n",
       "      <td>...</td>\n",
       "      <td>...</td>\n",
       "      <td>...</td>\n",
       "      <td>...</td>\n",
       "      <td>...</td>\n",
       "    </tr>\n",
       "    <tr>\n",
       "      <th>129</th>\n",
       "      <td>1/8/2025</td>\n",
       "      <td>4.41</td>\n",
       "      <td>NaN</td>\n",
       "      <td>4.34</td>\n",
       "      <td>4.35</td>\n",
       "      <td>4.31</td>\n",
       "      <td>4.25</td>\n",
       "      <td>4.19</td>\n",
       "      <td>4.28</td>\n",
       "      <td>4.31</td>\n",
       "      <td>4.45</td>\n",
       "      <td>4.56</td>\n",
       "      <td>4.67</td>\n",
       "      <td>4.97</td>\n",
       "      <td>4.91</td>\n",
       "    </tr>\n",
       "    <tr>\n",
       "      <th>130</th>\n",
       "      <td>1/7/2025</td>\n",
       "      <td>4.42</td>\n",
       "      <td>NaN</td>\n",
       "      <td>4.35</td>\n",
       "      <td>4.35</td>\n",
       "      <td>4.31</td>\n",
       "      <td>4.24</td>\n",
       "      <td>4.19</td>\n",
       "      <td>4.30</td>\n",
       "      <td>4.33</td>\n",
       "      <td>4.46</td>\n",
       "      <td>4.57</td>\n",
       "      <td>4.67</td>\n",
       "      <td>4.97</td>\n",
       "      <td>4.91</td>\n",
       "    </tr>\n",
       "    <tr>\n",
       "      <th>131</th>\n",
       "      <td>1/6/2025</td>\n",
       "      <td>4.43</td>\n",
       "      <td>NaN</td>\n",
       "      <td>4.36</td>\n",
       "      <td>4.35</td>\n",
       "      <td>4.31</td>\n",
       "      <td>4.24</td>\n",
       "      <td>4.17</td>\n",
       "      <td>4.28</td>\n",
       "      <td>4.30</td>\n",
       "      <td>4.42</td>\n",
       "      <td>4.52</td>\n",
       "      <td>4.62</td>\n",
       "      <td>4.91</td>\n",
       "      <td>4.85</td>\n",
       "    </tr>\n",
       "    <tr>\n",
       "      <th>132</th>\n",
       "      <td>1/3/2025</td>\n",
       "      <td>4.44</td>\n",
       "      <td>NaN</td>\n",
       "      <td>4.35</td>\n",
       "      <td>4.34</td>\n",
       "      <td>4.31</td>\n",
       "      <td>4.25</td>\n",
       "      <td>4.18</td>\n",
       "      <td>4.28</td>\n",
       "      <td>4.32</td>\n",
       "      <td>4.41</td>\n",
       "      <td>4.51</td>\n",
       "      <td>4.60</td>\n",
       "      <td>4.88</td>\n",
       "      <td>4.82</td>\n",
       "    </tr>\n",
       "    <tr>\n",
       "      <th>133</th>\n",
       "      <td>1/2/2025</td>\n",
       "      <td>4.45</td>\n",
       "      <td>NaN</td>\n",
       "      <td>4.36</td>\n",
       "      <td>4.36</td>\n",
       "      <td>4.31</td>\n",
       "      <td>4.25</td>\n",
       "      <td>4.17</td>\n",
       "      <td>4.25</td>\n",
       "      <td>4.29</td>\n",
       "      <td>4.38</td>\n",
       "      <td>4.47</td>\n",
       "      <td>4.57</td>\n",
       "      <td>4.86</td>\n",
       "      <td>4.79</td>\n",
       "    </tr>\n",
       "  </tbody>\n",
       "</table>\n",
       "<p>134 rows × 15 columns</p>\n",
       "</div>"
      ],
      "text/plain": [
       "          Date  1 Mo  1.5 Mo  2 Mo  3 Mo  4 Mo  6 Mo  1 Yr  2 Yr  3 Yr  5 Yr  \\\n",
       "0    7/16/2025  4.36    4.40  4.45  4.41  4.42  4.31  4.08  3.88  3.86  3.99   \n",
       "1    7/15/2025  4.36    4.40  4.46  4.42  4.43  4.33  4.12  3.95  3.93  4.05   \n",
       "2    7/14/2025  4.37    4.41  4.46  4.42  4.42  4.31  4.08  3.90  3.86  3.98   \n",
       "3    7/11/2025  4.37    4.39  4.47  4.41  4.42  4.31  4.09  3.90  3.86  3.99   \n",
       "4    7/10/2025  4.36    4.39  4.47  4.42  4.42  4.31  4.07  3.86  3.82  3.93   \n",
       "..         ...   ...     ...   ...   ...   ...   ...   ...   ...   ...   ...   \n",
       "129   1/8/2025  4.41     NaN  4.34  4.35  4.31  4.25  4.19  4.28  4.31  4.45   \n",
       "130   1/7/2025  4.42     NaN  4.35  4.35  4.31  4.24  4.19  4.30  4.33  4.46   \n",
       "131   1/6/2025  4.43     NaN  4.36  4.35  4.31  4.24  4.17  4.28  4.30  4.42   \n",
       "132   1/3/2025  4.44     NaN  4.35  4.34  4.31  4.25  4.18  4.28  4.32  4.41   \n",
       "133   1/2/2025  4.45     NaN  4.36  4.36  4.31  4.25  4.17  4.25  4.29  4.38   \n",
       "\n",
       "     7 Yr  10 Yr  20 Yr  30 Yr  \n",
       "0    4.21   4.46   5.01   5.01  \n",
       "1    4.26   4.50   5.02   5.01  \n",
       "2    4.19   4.43   4.97   4.97  \n",
       "3    4.19   4.43   4.96   4.96  \n",
       "4    4.12   4.35   4.87   4.86  \n",
       "..    ...    ...    ...    ...  \n",
       "129  4.56   4.67   4.97   4.91  \n",
       "130  4.57   4.67   4.97   4.91  \n",
       "131  4.52   4.62   4.91   4.85  \n",
       "132  4.51   4.60   4.88   4.82  \n",
       "133  4.47   4.57   4.86   4.79  \n",
       "\n",
       "[134 rows x 15 columns]"
      ]
     },
     "execution_count": 3,
     "metadata": {},
     "output_type": "execute_result"
    }
   ],
   "source": [
    "data_7_16_2025"
   ]
  },
  {
   "cell_type": "markdown",
   "id": "01c3b21b",
   "metadata": {},
   "source": [
    "### Plotting the data"
   ]
  },
  {
   "cell_type": "code",
   "execution_count": 4,
   "id": "f6cc8ccf",
   "metadata": {},
   "outputs": [
    {
     "data": {
      "text/html": [
       "<div>\n",
       "<style scoped>\n",
       "    .dataframe tbody tr th:only-of-type {\n",
       "        vertical-align: middle;\n",
       "    }\n",
       "\n",
       "    .dataframe tbody tr th {\n",
       "        vertical-align: top;\n",
       "    }\n",
       "\n",
       "    .dataframe thead th {\n",
       "        text-align: right;\n",
       "    }\n",
       "</style>\n",
       "<table border=\"1\" class=\"dataframe\">\n",
       "  <thead>\n",
       "    <tr style=\"text-align: right;\">\n",
       "      <th></th>\n",
       "      <th>Date</th>\n",
       "      <th>1 Mo</th>\n",
       "      <th>1.5 Mo</th>\n",
       "      <th>2 Mo</th>\n",
       "      <th>3 Mo</th>\n",
       "      <th>4 Mo</th>\n",
       "      <th>6 Mo</th>\n",
       "      <th>1 Yr</th>\n",
       "      <th>2 Yr</th>\n",
       "      <th>3 Yr</th>\n",
       "      <th>5 Yr</th>\n",
       "      <th>7 Yr</th>\n",
       "      <th>10 Yr</th>\n",
       "      <th>20 Yr</th>\n",
       "      <th>30 Yr</th>\n",
       "    </tr>\n",
       "  </thead>\n",
       "  <tbody>\n",
       "    <tr>\n",
       "      <th>0</th>\n",
       "      <td>7/16/2025</td>\n",
       "      <td>4.36</td>\n",
       "      <td>4.4</td>\n",
       "      <td>4.45</td>\n",
       "      <td>4.41</td>\n",
       "      <td>4.42</td>\n",
       "      <td>4.31</td>\n",
       "      <td>4.08</td>\n",
       "      <td>3.88</td>\n",
       "      <td>3.86</td>\n",
       "      <td>3.99</td>\n",
       "      <td>4.21</td>\n",
       "      <td>4.46</td>\n",
       "      <td>5.01</td>\n",
       "      <td>5.01</td>\n",
       "    </tr>\n",
       "  </tbody>\n",
       "</table>\n",
       "</div>"
      ],
      "text/plain": [
       "        Date  1 Mo  1.5 Mo  2 Mo  3 Mo  4 Mo  6 Mo  1 Yr  2 Yr  3 Yr  5 Yr  \\\n",
       "0  7/16/2025  4.36     4.4  4.45  4.41  4.42  4.31  4.08  3.88  3.86  3.99   \n",
       "\n",
       "   7 Yr  10 Yr  20 Yr  30 Yr  \n",
       "0  4.21   4.46   5.01   5.01  "
      ]
     },
     "execution_count": 4,
     "metadata": {},
     "output_type": "execute_result"
    }
   ],
   "source": [
    "# only first row\n",
    "date_7_16_2025 = data_7_16_2025.iloc[0:1]\n",
    "date_7_16_2025.reset_index(drop=True , inplace=True)\n",
    "date_7_16_2025"
   ]
  },
  {
   "cell_type": "code",
   "execution_count": 5,
   "id": "749c9e2f",
   "metadata": {},
   "outputs": [
    {
     "data": {
      "image/png": "[encoded data removed]",
      "text/plain": [
       "<Figure size 1000x500 with 1 Axes>"
      ]
     },
     "metadata": {},
     "output_type": "display_data"
    }
   ],
   "source": [
    "# Plotting the data\n",
    "plt.figure(figsize=(10, 5))\n",
    "plt.plot(date_7_16_2025.columns[1:], date_7_16_2025.iloc[0, 1:], marker='o')\n",
    "plt.title('Yield Curve for 07/16/2025')\n",
    "plt.xlabel('Maturity')\n",
    "plt.ylabel('Yield (%)')\n",
    "plt.xticks(rotation=45)\n",
    "plt.grid()\n",
    "plt.tight_layout()\n",
    "plt.show()"
   ]
  },
  {
   "cell_type": "markdown",
   "id": "807f6acc",
   "metadata": {},
   "source": [
    "### Data preparation"
   ]
  },
  {
   "cell_type": "code",
   "execution_count": 6,
   "id": "cf5f92eb",
   "metadata": {},
   "outputs": [],
   "source": [
    "# def maturity in years\n",
    "def convert_maturity_to_years(maturity):\n",
    "    if 'Yr' in maturity:\n",
    "        return float(maturity.replace('Yr', '').strip())\n",
    "    elif 'Mo' in maturity:\n",
    "        return float(maturity.replace('Mo', '').strip()) / 12"
   ]
  },
  {
   "cell_type": "code",
   "execution_count": 7,
   "id": "bec6c267",
   "metadata": {},
   "outputs": [
    {
     "data": {
      "text/html": [
       "<div>\n",
       "<style scoped>\n",
       "    .dataframe tbody tr th:only-of-type {\n",
       "        vertical-align: middle;\n",
       "    }\n",
       "\n",
       "    .dataframe tbody tr th {\n",
       "        vertical-align: top;\n",
       "    }\n",
       "\n",
       "    .dataframe thead th {\n",
       "        text-align: right;\n",
       "    }\n",
       "</style>\n",
       "<table border=\"1\" class=\"dataframe\">\n",
       "  <thead>\n",
       "    <tr style=\"text-align: right;\">\n",
       "      <th></th>\n",
       "      <th>Maturity</th>\n",
       "      <th>Yield %</th>\n",
       "      <th>Maturity (Years)</th>\n",
       "    </tr>\n",
       "  </thead>\n",
       "  <tbody>\n",
       "    <tr>\n",
       "      <th>0</th>\n",
       "      <td>1 Mo</td>\n",
       "      <td>4.36</td>\n",
       "      <td>0.083</td>\n",
       "    </tr>\n",
       "    <tr>\n",
       "      <th>1</th>\n",
       "      <td>1.5 Mo</td>\n",
       "      <td>4.4</td>\n",
       "      <td>0.125</td>\n",
       "    </tr>\n",
       "    <tr>\n",
       "      <th>2</th>\n",
       "      <td>2 Mo</td>\n",
       "      <td>4.45</td>\n",
       "      <td>0.167</td>\n",
       "    </tr>\n",
       "    <tr>\n",
       "      <th>3</th>\n",
       "      <td>3 Mo</td>\n",
       "      <td>4.41</td>\n",
       "      <td>0.250</td>\n",
       "    </tr>\n",
       "    <tr>\n",
       "      <th>4</th>\n",
       "      <td>4 Mo</td>\n",
       "      <td>4.42</td>\n",
       "      <td>0.333</td>\n",
       "    </tr>\n",
       "    <tr>\n",
       "      <th>5</th>\n",
       "      <td>6 Mo</td>\n",
       "      <td>4.31</td>\n",
       "      <td>0.500</td>\n",
       "    </tr>\n",
       "    <tr>\n",
       "      <th>6</th>\n",
       "      <td>1 Yr</td>\n",
       "      <td>4.08</td>\n",
       "      <td>1.000</td>\n",
       "    </tr>\n",
       "    <tr>\n",
       "      <th>7</th>\n",
       "      <td>2 Yr</td>\n",
       "      <td>3.88</td>\n",
       "      <td>2.000</td>\n",
       "    </tr>\n",
       "    <tr>\n",
       "      <th>8</th>\n",
       "      <td>3 Yr</td>\n",
       "      <td>3.86</td>\n",
       "      <td>3.000</td>\n",
       "    </tr>\n",
       "    <tr>\n",
       "      <th>9</th>\n",
       "      <td>5 Yr</td>\n",
       "      <td>3.99</td>\n",
       "      <td>5.000</td>\n",
       "    </tr>\n",
       "    <tr>\n",
       "      <th>10</th>\n",
       "      <td>7 Yr</td>\n",
       "      <td>4.21</td>\n",
       "      <td>7.000</td>\n",
       "    </tr>\n",
       "    <tr>\n",
       "      <th>11</th>\n",
       "      <td>10 Yr</td>\n",
       "      <td>4.46</td>\n",
       "      <td>10.000</td>\n",
       "    </tr>\n",
       "    <tr>\n",
       "      <th>12</th>\n",
       "      <td>20 Yr</td>\n",
       "      <td>5.01</td>\n",
       "      <td>20.000</td>\n",
       "    </tr>\n",
       "    <tr>\n",
       "      <th>13</th>\n",
       "      <td>30 Yr</td>\n",
       "      <td>5.01</td>\n",
       "      <td>30.000</td>\n",
       "    </tr>\n",
       "  </tbody>\n",
       "</table>\n",
       "</div>"
      ],
      "text/plain": [
       "   Maturity Yield %  Maturity (Years)\n",
       "0      1 Mo    4.36             0.083\n",
       "1    1.5 Mo     4.4             0.125\n",
       "2      2 Mo    4.45             0.167\n",
       "3      3 Mo    4.41             0.250\n",
       "4      4 Mo    4.42             0.333\n",
       "5      6 Mo    4.31             0.500\n",
       "6      1 Yr    4.08             1.000\n",
       "7      2 Yr    3.88             2.000\n",
       "8      3 Yr    3.86             3.000\n",
       "9      5 Yr    3.99             5.000\n",
       "10     7 Yr    4.21             7.000\n",
       "11    10 Yr    4.46            10.000\n",
       "12    20 Yr    5.01            20.000\n",
       "13    30 Yr    5.01            30.000"
      ]
     },
     "execution_count": 7,
     "metadata": {},
     "output_type": "execute_result"
    }
   ],
   "source": [
    "# transpose the data for better readability and remove date row and rename columns\n",
    "data_7_16_2025 = date_7_16_2025.T\n",
    "data_7_16_2025.columns = ['Yield %']\n",
    "data_7_16_2025 = data_7_16_2025.iloc[1:]\n",
    "data_7_16_2025.reset_index(inplace=True)\n",
    "data_7_16_2025.rename(columns={'index': 'Maturity'}, inplace=True)\n",
    "\n",
    "# Adding the 'Maturity' column as a numeric type as a new column. If Yr , then extract the number. If Mo, then convert to years dividing by 12.\n",
    "data_7_16_2025['Maturity (Years)'] = round(data_7_16_2025['Maturity'].apply(convert_maturity_to_years),3)\n",
    "data_7_16_2025"
   ]
  },
  {
   "cell_type": "markdown",
   "id": "4f83acd7",
   "metadata": {},
   "source": [
    "## Nelson Siegel Model"
   ]
  },
  {
   "cell_type": "markdown",
   "id": "7dbe2dd2",
   "metadata": {},
   "source": [
    "### Calibration using non linear curve fitting"
   ]
  },
  {
   "cell_type": "code",
   "execution_count": 8,
   "id": "e5d509ef",
   "metadata": {},
   "outputs": [],
   "source": [
    "# NS model calibration\n",
    "def nelson_siegel_model(t, beta0, beta1, beta2, lambd):\n",
    "    t = np.array(t)\n",
    "    # Avoid division by zero for very small t\n",
    "    t = np.where(t == 0, 1e-6, t)\n",
    "    term1 = (1 - np.exp(-lambd * t)) / (lambd * t)\n",
    "    term2 = term1 - np.exp(-lambd * t)\n",
    "    return beta0 + beta1 * term1 + beta2 * term2"
   ]
  },
  {
   "cell_type": "code",
   "execution_count": 9,
   "id": "f655e360",
   "metadata": {},
   "outputs": [
    {
     "name": "stdout",
     "output_type": "stream",
     "text": [
      "Fitted parameters:\n",
      "beta0 = 5.4196\n",
      "beta1 = -0.9010\n",
      "beta2 = -3.6287\n",
      "lambda = 0.4512\n"
     ]
    },
    {
     "name": "stderr",
     "output_type": "stream",
     "text": [
      "C:\\Users\\Niranjan\\AppData\\Local\\Temp\\ipykernel_10860\\2122595789.py:6: RuntimeWarning: overflow encountered in exp\n",
      "  term1 = (1 - np.exp(-lambd * t)) / (lambd * t)\n",
      "C:\\Users\\Niranjan\\AppData\\Local\\Temp\\ipykernel_10860\\2122595789.py:7: RuntimeWarning: overflow encountered in exp\n",
      "  term2 = term1 - np.exp(-lambd * t)\n",
      "C:\\Users\\Niranjan\\AppData\\Local\\Temp\\ipykernel_10860\\2122595789.py:7: RuntimeWarning: invalid value encountered in subtract\n",
      "  term2 = term1 - np.exp(-lambd * t)\n"
     ]
    }
   ],
   "source": [
    "maturities = data_7_16_2025[\"Maturity (Years)\"].values\n",
    "yields = data_7_16_2025[\"Yield %\"].values\n",
    "\n",
    "# Initial guess: beta0, beta1, beta2, lambda\n",
    "initial_guess = [1.0 , 1.0, 1.0, 1.0]\n",
    "\n",
    "# Fit the curve\n",
    "popt, _ = curve_fit(nelson_siegel_model, maturities, yields, p0=initial_guess, maxfev=10000)\n",
    "beta0, beta1, beta2, lambd = popt\n",
    "\n",
    "print(f\"Fitted parameters:\")\n",
    "print(f\"beta0 = {beta0:.4f}\")\n",
    "print(f\"beta1 = {beta1:.4f}\")\n",
    "print(f\"beta2 = {beta2:.4f}\")\n",
    "print(f\"lambda = {lambd:.4f}\")"
   ]
  },
  {
   "cell_type": "code",
   "execution_count": 10,
   "id": "465ab21e",
   "metadata": {},
   "outputs": [
    {
     "data": {
      "image/png": "[encoded data removed]",
      "text/plain": [
       "<Figure size 1000x500 with 1 Axes>"
      ]
     },
     "metadata": {},
     "output_type": "display_data"
    }
   ],
   "source": [
    "# Add fitted values to the DataFrame\n",
    "data_7_16_2025['Fitted Yield %'] = nelson_siegel_model(maturities, *popt)\n",
    "# round the fitted values to 3 decimal places\n",
    "data_7_16_2025['Fitted Yield %'] = data_7_16_2025['Fitted Yield %'].round(3)\n",
    "# Plotting the original yields and fitted curve vs the maturities\n",
    "plt.figure(figsize=(10, 5))\n",
    "plt.plot(data_7_16_2025['Maturity'], data_7_16_2025['Yield %'], marker='o', label='Observed Yield')\n",
    "plt.plot(data_7_16_2025['Maturity'], data_7_16_2025['Fitted Yield %'], marker='x', linestyle='--', label='Fitted Yield using curve fitting')\n",
    "plt.title('Yield Curve Fitting using Nelson-Siegel Model')\n",
    "plt.xlabel('Maturity')\n",
    "plt.ylabel('Yield (%)')\n",
    "plt.xticks(rotation=45)\n",
    "plt.legend()\n",
    "plt.grid()\n",
    "plt.show()\n"
   ]
  },
  {
   "cell_type": "markdown",
   "id": "c3a5271a",
   "metadata": {},
   "source": [
    "### Calibration using MLE"
   ]
  },
  {
   "cell_type": "code",
   "execution_count": 11,
   "id": "07e3fd15",
   "metadata": {},
   "outputs": [],
   "source": [
    "def neg_log_likelihood(params_mle, t, y):\n",
    "    beta0_mle, beta1_mle, beta2_mle, lambd_mle, sigma_mle = params_mle\n",
    "    y_hat = nelson_siegel_model(t, beta0_mle, beta1_mle, beta2_mle, lambd_mle)\n",
    "    n = len(y)\n",
    "    # NLL for Gaussian\n",
    "    nll = 0.5 * n * np.log(2 * np.pi * sigma_mle ** 2) + 0.5 * np.sum((y - y_hat) ** 2) / sigma_mle ** 2\n",
    "    return nll\n"
   ]
  },
  {
   "cell_type": "code",
   "execution_count": 12,
   "id": "232842bf",
   "metadata": {},
   "outputs": [
    {
     "name": "stdout",
     "output_type": "stream",
     "text": [
      "Fitted parameters (MLE):\n",
      "beta0_mle = 5.4196\n",
      "beta1_mle = -0.9010\n",
      "beta2_mle = -3.6287\n",
      "lambda_mle = 0.4512\n",
      "sigma_mle = 0.0538\n"
     ]
    }
   ],
   "source": [
    "initial_guess = [4.0, -1.0, 1.0, 1.0, 0.1]\n",
    "bounds = [(-10, 20), (-20, 20), (-20, 20), (1e-6, 10), (1e-6, 2)]  # reasonable bounds\n",
    "\n",
    "result = minimize(\n",
    "    neg_log_likelihood,\n",
    "    initial_guess,\n",
    "    args=(maturities, yields),\n",
    "    bounds=bounds,\n",
    "    method='L-BFGS-B'\n",
    ")\n",
    "\n",
    "beta0_mle, beta1_mle, beta2_mle, lambd_mle, sigma_mle = result.x\n",
    "\n",
    "print(\"Fitted parameters (MLE):\")\n",
    "print(f\"beta0_mle = {beta0_mle:.4f}\")\n",
    "print(f\"beta1_mle = {beta1_mle:.4f}\")\n",
    "print(f\"beta2_mle = {beta2_mle:.4f}\")\n",
    "print(f\"lambda_mle = {lambd_mle:.4f}\")\n",
    "print(f\"sigma_mle = {sigma_mle:.4f}\")"
   ]
  },
  {
   "cell_type": "code",
   "execution_count": 13,
   "id": "275b5e84",
   "metadata": {},
   "outputs": [],
   "source": [
    "# adding fitted values to the DataFrame\n",
    "data_7_16_2025['Fitted Yield % MLE'] = nelson_siegel_model(maturities, beta0_mle, beta1_mle, beta2_mle, lambd_mle)\n",
    "# round the fitted values to 3 decimal places\n",
    "data_7_16_2025['Fitted Yield % MLE'] = data_7_16_2025['Fitted Yield % MLE'].round(3)\n"
   ]
  },
  {
   "cell_type": "code",
   "execution_count": 14,
   "id": "4f0e32bf",
   "metadata": {},
   "outputs": [
    {
     "data": {
      "image/png": "[encoded data removed]",
      "text/plain": [
       "<Figure size 1000x500 with 1 Axes>"
      ]
     },
     "metadata": {},
     "output_type": "display_data"
    }
   ],
   "source": [
    "#plotting  original yields, fitted , MLE fitted vs maturities\n",
    "plt.figure(figsize=(10, 5))\n",
    "plt.plot(data_7_16_2025['Maturity'], data_7_16_2025['Yield %'], marker='o',color = 'b', label='Observed Yield')\n",
    "plt.plot(data_7_16_2025['Maturity'], data_7_16_2025['Fitted Yield %'], marker='x',color = 'r', linestyle='--', label='Fitted Yield using curve fitting')\n",
    "plt.plot(data_7_16_2025['Maturity'], data_7_16_2025['Fitted Yield % MLE'], marker='s',color = 'g', linestyle=':', label='Fitted Yield using MLE')\n",
    "plt.title('Yield Curve Fitting using Nelson-Siegel Model')\n",
    "plt.xlabel('Maturity')\n",
    "plt.ylabel('Yield (%)')\n",
    "plt.xticks(rotation=45)\n",
    "plt.legend()\n",
    "plt.grid()\n",
    "plt.show()"
   ]
  },
  {
   "cell_type": "markdown",
   "id": "7ec31594",
   "metadata": {},
   "source": [
    "### Why did we get the same optimized parameters for mle and non linear curve fitting?\n",
    "Nonlinear curve fitting (least squares) and Maximum Likelihood Estimation (MLE) both solve for the parameters that best fit your data.\n",
    "\n",
    "If you assume Gaussian (normal) errors, then minimizing sum of squared errors (SSE) (what curve fitting does) is mathematically equivalent to maximizing the likelihood (MLE).\n",
    "\n",
    "So both methods, when applied correctly to the same model and data, will yield the same optimal parameters."
   ]
  },
  {
   "cell_type": "markdown",
   "id": "99054e93",
   "metadata": {},
   "source": [
    "### Testing the data"
   ]
  },
  {
   "cell_type": "code",
   "execution_count": 15,
   "id": "4a273570",
   "metadata": {},
   "outputs": [
    {
     "name": "stdout",
     "output_type": "stream",
     "text": [
      "Yields for specific maturities:\n",
      "Maturity: 0.08 years, Yield: 4.4688 %\n",
      "Maturity: 0.12 years, Yield: 4.4450 %\n",
      "Maturity: 0.17 years, Yield: 4.4219 %\n",
      "Maturity: 0.21 years, Yield: 4.3994 %\n",
      "Maturity: 0.25 years, Yield: 4.3777 %\n",
      "Maturity: 0.29 years, Yield: 4.3566 %\n",
      "Maturity: 0.33 years, Yield: 4.3361 %\n",
      "Maturity: 0.38 years, Yield: 4.3163 %\n",
      "Maturity: 0.42 years, Yield: 4.2970 %\n",
      "Maturity: 0.46 years, Yield: 4.2784 %\n",
      "Maturity: 0.50 years, Yield: 4.2604 %\n",
      "Maturity: 0.54 years, Yield: 4.2429 %\n",
      "Maturity: 0.58 years, Yield: 4.2260 %\n",
      "Maturity: 0.62 years, Yield: 4.2096 %\n",
      "Maturity: 0.67 years, Yield: 4.1938 %\n",
      "Maturity: 0.71 years, Yield: 4.1785 %\n",
      "Maturity: 0.75 years, Yield: 4.1637 %\n",
      "Maturity: 0.79 years, Yield: 4.1494 %\n",
      "Maturity: 0.83 years, Yield: 4.1356 %\n",
      "Maturity: 0.88 years, Yield: 4.1223 %\n",
      "Maturity: 0.92 years, Yield: 4.1094 %\n",
      "Maturity: 0.96 years, Yield: 4.0970 %\n",
      "Maturity: 1.00 years, Yield: 4.0850 %\n",
      "Maturity: 2.00 years, Yield: 3.9077 %\n",
      "Maturity: 3.00 years, Yield: 3.8749 %\n",
      "Maturity: 4.00 years, Yield: 3.9196 %\n",
      "Maturity: 5.00 years, Yield: 4.0023 %\n",
      "Maturity: 6.00 years, Yield: 4.1001 %\n",
      "Maturity: 7.00 years, Yield: 4.2005 %\n",
      "Maturity: 8.00 years, Yield: 4.2968 %\n",
      "Maturity: 9.00 years, Yield: 4.3858 %\n",
      "Maturity: 10.00 years, Yield: 4.4665 %\n",
      "Maturity: 11.00 years, Yield: 4.5386 %\n",
      "Maturity: 12.00 years, Yield: 4.6028 %\n",
      "Maturity: 13.00 years, Yield: 4.6598 %\n",
      "Maturity: 14.00 years, Yield: 4.7103 %\n",
      "Maturity: 15.00 years, Yield: 4.7552 %\n",
      "Maturity: 16.00 years, Yield: 4.7952 %\n",
      "Maturity: 17.00 years, Yield: 4.8310 %\n",
      "Maturity: 18.00 years, Yield: 4.8631 %\n",
      "Maturity: 19.00 years, Yield: 4.8920 %\n",
      "Maturity: 20.00 years, Yield: 4.9181 %\n",
      "Maturity: 21.00 years, Yield: 4.9418 %\n",
      "Maturity: 22.00 years, Yield: 4.9634 %\n",
      "Maturity: 23.00 years, Yield: 4.9832 %\n",
      "Maturity: 24.00 years, Yield: 5.0013 %\n",
      "Maturity: 25.00 years, Yield: 5.0180 %\n",
      "Maturity: 26.00 years, Yield: 5.0335 %\n",
      "Maturity: 27.00 years, Yield: 5.0478 %\n",
      "Maturity: 28.00 years, Yield: 5.0610 %\n",
      "Maturity: 29.00 years, Yield: 5.0734 %\n",
      "Maturity: 30.00 years, Yield: 5.0849 %\n"
     ]
    }
   ],
   "source": [
    "# find the yeild for 1 Mo, 1.5 Mo, 2 Mo, 2.5 Mo, 3 Mo, 3.5 Mo, 4 Mo, 4.5 Mo, 5 Mo, 5.5 Mo, 6 Mo, 6.5 Mo, 7 Mo, 7.5 Mo, 8 Mo, 8.5 Mo, 9 Mo, 9.5 Mo, 10 Mo, 10.5 Mo, 11 Mo, 11.5 Mo, 12 Mo, 1 Yr, 2 Yr, 3 Yr, 4 Yr, 5 Yr, 6 Yr, 7 Yr, 8 Yr, 9 Yr, 10 Yr, 11 Yr, 12 Yr, 13 Yr, 14 Yr, 15 Yr, 16 Yr, 17 Yr, 18 Yr, 19 Yr, 20 Yr, 21 Yr, 22 Yr, 23 Yr, 24 Yr, 25 Yr, 26 Yr, 27 Yr, 28 Yr, 29 Yr, 30 Yr\n",
    "maturities_to_check = [1/12, 1.5/12, 2/12, 2.5/12, 3/12, 3.5/12, 4/12, 4.5/12, 5/12, 5.5/12, 6/12, 6.5/12, 7/12, 7.5/12, 8/12, 8.5/12, 9/12, 9.5/12, 10/12, 10.5/12, 11/12, 11.5/12, 1, 2, 3, 4, 5, 6, 7, 8, 9, 10, 11, 12, 13, 14, 15, 16, 17, 18, 19, 20, 21, 22, 23, 24, 25, 26, 27, 28, 29, 30]\n",
    "yields_to_check = nelson_siegel_model(maturities_to_check, beta0, beta1, beta2, lambd)\n",
    "print(\"Yields for specific maturities:\")\n",
    "for maturity, yield_value in zip(maturities_to_check, yields_to_check):\n",
    "    print(f\"Maturity: {maturity:.2f} years, Yield: {yield_value:.4f} %\")\n"
   ]
  },
  {
   "cell_type": "code",
   "execution_count": 16,
   "id": "fa5a7b85",
   "metadata": {},
   "outputs": [
    {
     "data": {
      "image/png": "[encoded data removed]",
      "text/plain": [
       "<Figure size 1000x500 with 1 Axes>"
      ]
     },
     "metadata": {},
     "output_type": "display_data"
    }
   ],
   "source": [
    "# plot the test yields with yields number on each point with equal spacing and the values not clashing on each other\n",
    "plt.figure(figsize=(10, 5))\n",
    "plt.plot(maturities_to_check, yields_to_check, marker='o', label='Test Yields')\n",
    "\n",
    "plt.title('Test Yields for Specific Maturities')\n",
    "plt.xlabel('Maturity (Years)')\n",
    "plt.ylabel('Yield (%)')\n",
    "plt.xticks(rotation=45)\n",
    "plt.legend()\n",
    "plt.grid()\n",
    "plt.tight_layout()\n",
    "plt.show()\n"
   ]
  },
  {
   "cell_type": "code",
   "execution_count": 17,
   "id": "1623ce77",
   "metadata": {},
   "outputs": [
    {
     "data": {
      "application/vnd.plotly.v1+json": {
       "config": {
        "plotlyServerURL": "https://plot.ly"
       },
       "data": [
        {
         "marker": {
          "size": 8
         },
         "mode": "markers+lines",
         "name": "Test Yields",
         "type": "scatter",
         "x": [
          0.08333333333333333,
          0.125,
          0.16666666666666666,
          0.20833333333333334,
          0.25,
          0.2916666666666667,
          0.3333333333333333,
          0.375,
          0.4166666666666667,
          0.4583333333333333,
          0.5,
          0.5416666666666666,
          0.5833333333333334,
          0.625,
          0.6666666666666666,
          0.7083333333333334,
          0.75,
          0.7916666666666666,
          0.8333333333333334,
          0.875,
          0.9166666666666666,
          0.9583333333333334,
          1,
          2,
          3,
          4,
          5,
          6,
          7,
          8,
          9,
          10,
          11,
          12,
          13,
          14,
          15,
          16,
          17,
          18,
          19,
          20,
          21,
          22,
          23,
          24,
          25,
          26,
          27,
          28,
          29,
          30
         ],
         "y": [
          4.468813746709833,
          4.444995897979654,
          4.421878567876206,
          4.3994463225312455,
          4.37768404215125,
          4.356576914837856,
          4.336110430527769,
          4.3162703750498554,
          4.2970428242971925,
          4.278414138511851,
          4.260370956680287,
          4.242900191037183,
          4.225989021675693,
          4.2096248912620435,
          4.193795499852499,
          4.178488799810693,
          4.163692990823487,
          4.149396515013354,
          4.135588052145547,
          4.122256514928155,
          4.109391044403317,
          4.09698100542781,
          4.085015982241336,
          3.9077322100980805,
          3.8749358445943924,
          3.9196164733118755,
          4.002264972906608,
          4.100120307193938,
          4.200519920954955,
          4.296809474049563,
          4.385843703197903,
          4.466472627360314,
          4.538635013869279,
          4.602823838700494,
          4.659777872598451,
          4.710309353885196,
          4.75521247615065,
          4.795218996994031,
          4.830980610873792,
          4.863065930455255,
          4.891964932087581,
          4.918096758334429,
          4.9418185921276985,
          4.96343439450628,
          4.983202923014301,
          5.001344800704218,
          5.018048596728349,
          5.033475975952836,
          5.047766017490319,
          5.061038814757222,
          5.073398466868307,
          5.084935561090566
         ]
        }
       ],
       "layout": {
        "height": 400,
        "legend": {
         "x": 0.01,
         "y": 0.99
        },
        "template": {
         "data": {
          "bar": [
           {
            "error_x": {
             "color": "#f2f5fa"
            },
            "error_y": {
             "color": "#f2f5fa"
            },
            "marker": {
             "line": {
              "color": "rgb(17,17,17)",
              "width": 0.5
             },
             "pattern": {
              "fillmode": "overlay",
              "size": 10,
              "solidity": 0.2
             }
            },
            "type": "bar"
           }
          ],
          "barpolar": [
           {
            "marker": {
             "line": {
              "color": "rgb(17,17,17)",
              "width": 0.5
             },
             "pattern": {
              "fillmode": "overlay",
              "size": 10,
              "solidity": 0.2
             }
            },
            "type": "barpolar"
           }
          ],
          "carpet": [
           {
            "aaxis": {
             "endlinecolor": "#A2B1C6",
             "gridcolor": "#506784",
             "linecolor": "#506784",
             "minorgridcolor": "#506784",
             "startlinecolor": "#A2B1C6"
            },
            "baxis": {
             "endlinecolor": "#A2B1C6",
             "gridcolor": "#506784",
             "linecolor": "#506784",
             "minorgridcolor": "#506784",
             "startlinecolor": "#A2B1C6"
            },
            "type": "carpet"
           }
          ],
          "choropleth": [
           {
            "colorbar": {
             "outlinewidth": 0,
             "ticks": ""
            },
            "type": "choropleth"
           }
          ],
          "contour": [
           {
            "colorbar": {
             "outlinewidth": 0,
             "ticks": ""
            },
            "colorscale": [
             [
              0,
              "#0d0887"
             ],
             [
              0.1111111111111111,
              "#46039f"
             ],
             [
              0.2222222222222222,
              "#7201a8"
             ],
             [
              0.3333333333333333,
              "#9c179e"
             ],
             [
              0.4444444444444444,
              "#bd3786"
             ],
             [
              0.5555555555555556,
              "#d8576b"
             ],
             [
              0.6666666666666666,
              "#ed7953"
             ],
             [
              0.7777777777777778,
              "#fb9f3a"
             ],
             [
              0.8888888888888888,
              "#fdca26"
             ],
             [
              1,
              "#f0f921"
             ]
            ],
            "type": "contour"
           }
          ],
          "contourcarpet": [
           {
            "colorbar": {
             "outlinewidth": 0,
             "ticks": ""
            },
            "type": "contourcarpet"
           }
          ],
          "heatmap": [
           {
            "colorbar": {
             "outlinewidth": 0,
             "ticks": ""
            },
            "colorscale": [
             [
              0,
              "#0d0887"
             ],
             [
              0.1111111111111111,
              "#46039f"
             ],
             [
              0.2222222222222222,
              "#7201a8"
             ],
             [
              0.3333333333333333,
              "#9c179e"
             ],
             [
              0.4444444444444444,
              "#bd3786"
             ],
             [
              0.5555555555555556,
              "#d8576b"
             ],
             [
              0.6666666666666666,
              "#ed7953"
             ],
             [
              0.7777777777777778,
              "#fb9f3a"
             ],
             [
              0.8888888888888888,
              "#fdca26"
             ],
             [
              1,
              "#f0f921"
             ]
            ],
            "type": "heatmap"
           }
          ],
          "heatmapgl": [
           {
            "colorbar": {
             "outlinewidth": 0,
             "ticks": ""
            },
            "colorscale": [
             [
              0,
              "#0d0887"
             ],
             [
              0.1111111111111111,
              "#46039f"
             ],
             [
              0.2222222222222222,
              "#7201a8"
             ],
             [
              0.3333333333333333,
              "#9c179e"
             ],
             [
              0.4444444444444444,
              "#bd3786"
             ],
             [
              0.5555555555555556,
              "#d8576b"
             ],
             [
              0.6666666666666666,
              "#ed7953"
             ],
             [
              0.7777777777777778,
              "#fb9f3a"
             ],
             [
              0.8888888888888888,
              "#fdca26"
             ],
             [
              1,
              "#f0f921"
             ]
            ],
            "type": "heatmapgl"
           }
          ],
          "histogram": [
           {
            "marker": {
             "pattern": {
              "fillmode": "overlay",
              "size": 10,
              "solidity": 0.2
             }
            },
            "type": "histogram"
           }
          ],
          "histogram2d": [
           {
            "colorbar": {
             "outlinewidth": 0,
             "ticks": ""
            },
            "colorscale": [
             [
              0,
              "#0d0887"
             ],
             [
              0.1111111111111111,
              "#46039f"
             ],
             [
              0.2222222222222222,
              "#7201a8"
             ],
             [
              0.3333333333333333,
              "#9c179e"
             ],
             [
              0.4444444444444444,
              "#bd3786"
             ],
             [
              0.5555555555555556,
              "#d8576b"
             ],
             [
              0.6666666666666666,
              "#ed7953"
             ],
             [
              0.7777777777777778,
              "#fb9f3a"
             ],
             [
              0.8888888888888888,
              "#fdca26"
             ],
             [
              1,
              "#f0f921"
             ]
            ],
            "type": "histogram2d"
           }
          ],
          "histogram2dcontour": [
           {
            "colorbar": {
             "outlinewidth": 0,
             "ticks": ""
            },
            "colorscale": [
             [
              0,
              "#0d0887"
             ],
             [
              0.1111111111111111,
              "#46039f"
             ],
             [
              0.2222222222222222,
              "#7201a8"
             ],
             [
              0.3333333333333333,
              "#9c179e"
             ],
             [
              0.4444444444444444,
              "#bd3786"
             ],
             [
              0.5555555555555556,
              "#d8576b"
             ],
             [
              0.6666666666666666,
              "#ed7953"
             ],
             [
              0.7777777777777778,
              "#fb9f3a"
             ],
             [
              0.8888888888888888,
              "#fdca26"
             ],
             [
              1,
              "#f0f921"
             ]
            ],
            "type": "histogram2dcontour"
           }
          ],
          "mesh3d": [
           {
            "colorbar": {
             "outlinewidth": 0,
             "ticks": ""
            },
            "type": "mesh3d"
           }
          ],
          "parcoords": [
           {
            "line": {
             "colorbar": {
              "outlinewidth": 0,
              "ticks": ""
             }
            },
            "type": "parcoords"
           }
          ],
          "pie": [
           {
            "automargin": true,
            "type": "pie"
           }
          ],
          "scatter": [
           {
            "marker": {
             "line": {
              "color": "#283442"
             }
            },
            "type": "scatter"
           }
          ],
          "scatter3d": [
           {
            "line": {
             "colorbar": {
              "outlinewidth": 0,
              "ticks": ""
             }
            },
            "marker": {
             "colorbar": {
              "outlinewidth": 0,
              "ticks": ""
             }
            },
            "type": "scatter3d"
           }
          ],
          "scattercarpet": [
           {
            "marker": {
             "colorbar": {
              "outlinewidth": 0,
              "ticks": ""
             }
            },
            "type": "scattercarpet"
           }
          ],
          "scattergeo": [
           {
            "marker": {
             "colorbar": {
              "outlinewidth": 0,
              "ticks": ""
             }
            },
            "type": "scattergeo"
           }
          ],
          "scattergl": [
           {
            "marker": {
             "line": {
              "color": "#283442"
             }
            },
            "type": "scattergl"
           }
          ],
          "scattermapbox": [
           {
            "marker": {
             "colorbar": {
              "outlinewidth": 0,
              "ticks": ""
             }
            },
            "type": "scattermapbox"
           }
          ],
          "scatterpolar": [
           {
            "marker": {
             "colorbar": {
              "outlinewidth": 0,
              "ticks": ""
             }
            },
            "type": "scatterpolar"
           }
          ],
          "scatterpolargl": [
           {
            "marker": {
             "colorbar": {
              "outlinewidth": 0,
              "ticks": ""
             }
            },
            "type": "scatterpolargl"
           }
          ],
          "scatterternary": [
           {
            "marker": {
             "colorbar": {
              "outlinewidth": 0,
              "ticks": ""
             }
            },
            "type": "scatterternary"
           }
          ],
          "surface": [
           {
            "colorbar": {
             "outlinewidth": 0,
             "ticks": ""
            },
            "colorscale": [
             [
              0,
              "#0d0887"
             ],
             [
              0.1111111111111111,
              "#46039f"
             ],
             [
              0.2222222222222222,
              "#7201a8"
             ],
             [
              0.3333333333333333,
              "#9c179e"
             ],
             [
              0.4444444444444444,
              "#bd3786"
             ],
             [
              0.5555555555555556,
              "#d8576b"
             ],
             [
              0.6666666666666666,
              "#ed7953"
             ],
             [
              0.7777777777777778,
              "#fb9f3a"
             ],
             [
              0.8888888888888888,
              "#fdca26"
             ],
             [
              1,
              "#f0f921"
             ]
            ],
            "type": "surface"
           }
          ],
          "table": [
           {
            "cells": {
             "fill": {
              "color": "#506784"
             },
             "line": {
              "color": "rgb(17,17,17)"
             }
            },
            "header": {
             "fill": {
              "color": "#2a3f5f"
             },
             "line": {
              "color": "rgb(17,17,17)"
             }
            },
            "type": "table"
           }
          ]
         },
         "layout": {
          "annotationdefaults": {
           "arrowcolor": "#f2f5fa",
           "arrowhead": 0,
           "arrowwidth": 1
          },
          "autotypenumbers": "strict",
          "coloraxis": {
           "colorbar": {
            "outlinewidth": 0,
            "ticks": ""
           }
          },
          "colorscale": {
           "diverging": [
            [
             0,
             "#8e0152"
            ],
            [
             0.1,
             "#c51b7d"
            ],
            [
             0.2,
             "#de77ae"
            ],
            [
             0.3,
             "#f1b6da"
            ],
            [
             0.4,
             "#fde0ef"
            ],
            [
             0.5,
             "#f7f7f7"
            ],
            [
             0.6,
             "#e6f5d0"
            ],
            [
             0.7,
             "#b8e186"
            ],
            [
             0.8,
             "#7fbc41"
            ],
            [
             0.9,
             "#4d9221"
            ],
            [
             1,
             "#276419"
            ]
           ],
           "sequential": [
            [
             0,
             "#0d0887"
            ],
            [
             0.1111111111111111,
             "#46039f"
            ],
            [
             0.2222222222222222,
             "#7201a8"
            ],
            [
             0.3333333333333333,
             "#9c179e"
            ],
            [
             0.4444444444444444,
             "#bd3786"
            ],
            [
             0.5555555555555556,
             "#d8576b"
            ],
            [
             0.6666666666666666,
             "#ed7953"
            ],
            [
             0.7777777777777778,
             "#fb9f3a"
            ],
            [
             0.8888888888888888,
             "#fdca26"
            ],
            [
             1,
             "#f0f921"
            ]
           ],
           "sequentialminus": [
            [
             0,
             "#0d0887"
            ],
            [
             0.1111111111111111,
             "#46039f"
            ],
            [
             0.2222222222222222,
             "#7201a8"
            ],
            [
             0.3333333333333333,
             "#9c179e"
            ],
            [
             0.4444444444444444,
             "#bd3786"
            ],
            [
             0.5555555555555556,
             "#d8576b"
            ],
            [
             0.6666666666666666,
             "#ed7953"
            ],
            [
             0.7777777777777778,
             "#fb9f3a"
            ],
            [
             0.8888888888888888,
             "#fdca26"
            ],
            [
             1,
             "#f0f921"
            ]
           ]
          },
          "colorway": [
           "#636efa",
           "#EF553B",
           "#00cc96",
           "#ab63fa",
           "#FFA15A",
           "#19d3f3",
           "#FF6692",
           "#B6E880",
           "#FF97FF",
           "#FECB52"
          ],
          "font": {
           "color": "#f2f5fa"
          },
          "geo": {
           "bgcolor": "rgb(17,17,17)",
           "lakecolor": "rgb(17,17,17)",
           "landcolor": "rgb(17,17,17)",
           "showlakes": true,
           "showland": true,
           "subunitcolor": "#506784"
          },
          "hoverlabel": {
           "align": "left"
          },
          "hovermode": "closest",
          "mapbox": {
           "style": "dark"
          },
          "paper_bgcolor": "rgb(17,17,17)",
          "plot_bgcolor": "rgb(17,17,17)",
          "polar": {
           "angularaxis": {
            "gridcolor": "#506784",
            "linecolor": "#506784",
            "ticks": ""
           },
           "bgcolor": "rgb(17,17,17)",
           "radialaxis": {
            "gridcolor": "#506784",
            "linecolor": "#506784",
            "ticks": ""
           }
          },
          "scene": {
           "xaxis": {
            "backgroundcolor": "rgb(17,17,17)",
            "gridcolor": "#506784",
            "gridwidth": 2,
            "linecolor": "#506784",
            "showbackground": true,
            "ticks": "",
            "zerolinecolor": "#C8D4E3"
           },
           "yaxis": {
            "backgroundcolor": "rgb(17,17,17)",
            "gridcolor": "#506784",
            "gridwidth": 2,
            "linecolor": "#506784",
            "showbackground": true,
            "ticks": "",
            "zerolinecolor": "#C8D4E3"
           },
           "zaxis": {
            "backgroundcolor": "rgb(17,17,17)",
            "gridcolor": "#506784",
            "gridwidth": 2,
            "linecolor": "#506784",
            "showbackground": true,
            "ticks": "",
            "zerolinecolor": "#C8D4E3"
           }
          },
          "shapedefaults": {
           "line": {
            "color": "#f2f5fa"
           }
          },
          "sliderdefaults": {
           "bgcolor": "#C8D4E3",
           "bordercolor": "rgb(17,17,17)",
           "borderwidth": 1,
           "tickwidth": 0
          },
          "ternary": {
           "aaxis": {
            "gridcolor": "#506784",
            "linecolor": "#506784",
            "ticks": ""
           },
           "baxis": {
            "gridcolor": "#506784",
            "linecolor": "#506784",
            "ticks": ""
           },
           "bgcolor": "rgb(17,17,17)",
           "caxis": {
            "gridcolor": "#506784",
            "linecolor": "#506784",
            "ticks": ""
           }
          },
          "title": {
           "x": 0.05
          },
          "updatemenudefaults": {
           "bgcolor": "#506784",
           "borderwidth": 0
          },
          "xaxis": {
           "automargin": true,
           "gridcolor": "#283442",
           "linecolor": "#506784",
           "ticks": "",
           "title": {
            "standoff": 15
           },
           "zerolinecolor": "#283442",
           "zerolinewidth": 2
          },
          "yaxis": {
           "automargin": true,
           "gridcolor": "#283442",
           "linecolor": "#506784",
           "ticks": "",
           "title": {
            "standoff": 15
           },
           "zerolinecolor": "#283442",
           "zerolinewidth": 2
          }
         }
        },
        "title": {
         "text": "Test Yields for Specific Maturities"
        },
        "width": 900,
        "xaxis": {
         "tickangle": 45,
         "title": {
          "text": "Maturity (Years)"
         }
        },
        "yaxis": {
         "title": {
          "text": "Yield (%)"
         }
        }
       }
      }
     },
     "metadata": {},
     "output_type": "display_data"
    }
   ],
   "source": [
    "import plotly.graph_objects as go\n",
    "\n",
    "fig = go.Figure()\n",
    "fig.add_trace(go.Scatter(\n",
    "    x=maturities_to_check,\n",
    "    y=yields_to_check,\n",
    "    mode='markers+lines',\n",
    "    name='Test Yields',\n",
    "    marker=dict(size=8)\n",
    "))\n",
    "\n",
    "fig.update_layout(\n",
    "    title='Test Yields for Specific Maturities',\n",
    "    xaxis_title='Maturity (Years)',\n",
    "    yaxis_title='Yield (%)',\n",
    "    xaxis=dict(tickangle=45),\n",
    "    legend=dict(x=0.01, y=0.99),\n",
    "    template='plotly_dark',  # <-- set background to black\n",
    "    width=900,\n",
    "    height=400\n",
    ")"
   ]
  },
  {
   "cell_type": "markdown",
   "id": "9b8158b0",
   "metadata": {},
   "source": [
    "## Nelson Siegel Svensson Model"
   ]
  },
  {
   "cell_type": "markdown",
   "id": "36516941",
   "metadata": {},
   "source": []
  }
 ],
 "metadata": {
  "kernelspec": {
   "display_name": "trading",
   "language": "python",
   "name": "python3"
  },
  "language_info": {
   "codemirror_mode": {
    "name": "ipython",
    "version": 3
   },
   "file_extension": ".py",
   "mimetype": "text/x-python",
   "name": "python",
   "nbconvert_exporter": "python",
   "pygments_lexer": "ipython3",
   "version": "3.11.11"
  }
 },
 "nbformat": 4,
 "nbformat_minor": 5
}
