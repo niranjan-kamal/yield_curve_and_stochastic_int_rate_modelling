{
 "cells": [
  {
   "cell_type": "code",
   "execution_count": 36,
   "id": "3b747eb8",
   "metadata": {},
   "outputs": [],
   "source": [
    "import pandas as pd\n",
    "import matplotlib.pyplot as plt\n",
    "import numpy as np\n",
    "from scipy.optimize import curve_fit\n",
    "from scipy.optimize import minimize"
   ]
  },
  {
   "cell_type": "markdown",
   "id": "9befed0f",
   "metadata": {},
   "source": [
    "### Import data"
   ]
  },
  {
   "cell_type": "code",
   "execution_count": 37,
   "id": "f6b83882",
   "metadata": {},
   "outputs": [],
   "source": [
    "# Import data\n",
    "data_7_16_2025 = pd.read_csv('daily-treasury-rates.csv')"
   ]
  },
  {
   "cell_type": "code",
   "execution_count": 38,
   "id": "5723cca1",
   "metadata": {},
   "outputs": [
    {
     "data": {
      "text/html": [
       "<div>\n",
       "<style scoped>\n",
       "    .dataframe tbody tr th:only-of-type {\n",
       "        vertical-align: middle;\n",
       "    }\n",
       "\n",
       "    .dataframe tbody tr th {\n",
       "        vertical-align: top;\n",
       "    }\n",
       "\n",
       "    .dataframe thead th {\n",
       "        text-align: right;\n",
       "    }\n",
       "</style>\n",
       "<table border=\"1\" class=\"dataframe\">\n",
       "  <thead>\n",
       "    <tr style=\"text-align: right;\">\n",
       "      <th></th>\n",
       "      <th>Date</th>\n",
       "      <th>1 Mo</th>\n",
       "      <th>1.5 Mo</th>\n",
       "      <th>2 Mo</th>\n",
       "      <th>3 Mo</th>\n",
       "      <th>4 Mo</th>\n",
       "      <th>6 Mo</th>\n",
       "      <th>1 Yr</th>\n",
       "      <th>2 Yr</th>\n",
       "      <th>3 Yr</th>\n",
       "      <th>5 Yr</th>\n",
       "      <th>7 Yr</th>\n",
       "      <th>10 Yr</th>\n",
       "      <th>20 Yr</th>\n",
       "      <th>30 Yr</th>\n",
       "    </tr>\n",
       "  </thead>\n",
       "  <tbody>\n",
       "    <tr>\n",
       "      <th>0</th>\n",
       "      <td>7/16/2025</td>\n",
       "      <td>4.36</td>\n",
       "      <td>4.40</td>\n",
       "      <td>4.45</td>\n",
       "      <td>4.41</td>\n",
       "      <td>4.42</td>\n",
       "      <td>4.31</td>\n",
       "      <td>4.08</td>\n",
       "      <td>3.88</td>\n",
       "      <td>3.86</td>\n",
       "      <td>3.99</td>\n",
       "      <td>4.21</td>\n",
       "      <td>4.46</td>\n",
       "      <td>5.01</td>\n",
       "      <td>5.01</td>\n",
       "    </tr>\n",
       "    <tr>\n",
       "      <th>1</th>\n",
       "      <td>7/15/2025</td>\n",
       "      <td>4.36</td>\n",
       "      <td>4.40</td>\n",
       "      <td>4.46</td>\n",
       "      <td>4.42</td>\n",
       "      <td>4.43</td>\n",
       "      <td>4.33</td>\n",
       "      <td>4.12</td>\n",
       "      <td>3.95</td>\n",
       "      <td>3.93</td>\n",
       "      <td>4.05</td>\n",
       "      <td>4.26</td>\n",
       "      <td>4.50</td>\n",
       "      <td>5.02</td>\n",
       "      <td>5.01</td>\n",
       "    </tr>\n",
       "    <tr>\n",
       "      <th>2</th>\n",
       "      <td>7/14/2025</td>\n",
       "      <td>4.37</td>\n",
       "      <td>4.41</td>\n",
       "      <td>4.46</td>\n",
       "      <td>4.42</td>\n",
       "      <td>4.42</td>\n",
       "      <td>4.31</td>\n",
       "      <td>4.08</td>\n",
       "      <td>3.90</td>\n",
       "      <td>3.86</td>\n",
       "      <td>3.98</td>\n",
       "      <td>4.19</td>\n",
       "      <td>4.43</td>\n",
       "      <td>4.97</td>\n",
       "      <td>4.97</td>\n",
       "    </tr>\n",
       "    <tr>\n",
       "      <th>3</th>\n",
       "      <td>7/11/2025</td>\n",
       "      <td>4.37</td>\n",
       "      <td>4.39</td>\n",
       "      <td>4.47</td>\n",
       "      <td>4.41</td>\n",
       "      <td>4.42</td>\n",
       "      <td>4.31</td>\n",
       "      <td>4.09</td>\n",
       "      <td>3.90</td>\n",
       "      <td>3.86</td>\n",
       "      <td>3.99</td>\n",
       "      <td>4.19</td>\n",
       "      <td>4.43</td>\n",
       "      <td>4.96</td>\n",
       "      <td>4.96</td>\n",
       "    </tr>\n",
       "    <tr>\n",
       "      <th>4</th>\n",
       "      <td>7/10/2025</td>\n",
       "      <td>4.36</td>\n",
       "      <td>4.39</td>\n",
       "      <td>4.47</td>\n",
       "      <td>4.42</td>\n",
       "      <td>4.42</td>\n",
       "      <td>4.31</td>\n",
       "      <td>4.07</td>\n",
       "      <td>3.86</td>\n",
       "      <td>3.82</td>\n",
       "      <td>3.93</td>\n",
       "      <td>4.12</td>\n",
       "      <td>4.35</td>\n",
       "      <td>4.87</td>\n",
       "      <td>4.86</td>\n",
       "    </tr>\n",
       "    <tr>\n",
       "      <th>...</th>\n",
       "      <td>...</td>\n",
       "      <td>...</td>\n",
       "      <td>...</td>\n",
       "      <td>...</td>\n",
       "      <td>...</td>\n",
       "      <td>...</td>\n",
       "      <td>...</td>\n",
       "      <td>...</td>\n",
       "      <td>...</td>\n",
       "      <td>...</td>\n",
       "      <td>...</td>\n",
       "      <td>...</td>\n",
       "      <td>...</td>\n",
       "      <td>...</td>\n",
       "      <td>...</td>\n",
       "    </tr>\n",
       "    <tr>\n",
       "      <th>129</th>\n",
       "      <td>1/8/2025</td>\n",
       "      <td>4.41</td>\n",
       "      <td>NaN</td>\n",
       "      <td>4.34</td>\n",
       "      <td>4.35</td>\n",
       "      <td>4.31</td>\n",
       "      <td>4.25</td>\n",
       "      <td>4.19</td>\n",
       "      <td>4.28</td>\n",
       "      <td>4.31</td>\n",
       "      <td>4.45</td>\n",
       "      <td>4.56</td>\n",
       "      <td>4.67</td>\n",
       "      <td>4.97</td>\n",
       "      <td>4.91</td>\n",
       "    </tr>\n",
       "    <tr>\n",
       "      <th>130</th>\n",
       "      <td>1/7/2025</td>\n",
       "      <td>4.42</td>\n",
       "      <td>NaN</td>\n",
       "      <td>4.35</td>\n",
       "      <td>4.35</td>\n",
       "      <td>4.31</td>\n",
       "      <td>4.24</td>\n",
       "      <td>4.19</td>\n",
       "      <td>4.30</td>\n",
       "      <td>4.33</td>\n",
       "      <td>4.46</td>\n",
       "      <td>4.57</td>\n",
       "      <td>4.67</td>\n",
       "      <td>4.97</td>\n",
       "      <td>4.91</td>\n",
       "    </tr>\n",
       "    <tr>\n",
       "      <th>131</th>\n",
       "      <td>1/6/2025</td>\n",
       "      <td>4.43</td>\n",
       "      <td>NaN</td>\n",
       "      <td>4.36</td>\n",
       "      <td>4.35</td>\n",
       "      <td>4.31</td>\n",
       "      <td>4.24</td>\n",
       "      <td>4.17</td>\n",
       "      <td>4.28</td>\n",
       "      <td>4.30</td>\n",
       "      <td>4.42</td>\n",
       "      <td>4.52</td>\n",
       "      <td>4.62</td>\n",
       "      <td>4.91</td>\n",
       "      <td>4.85</td>\n",
       "    </tr>\n",
       "    <tr>\n",
       "      <th>132</th>\n",
       "      <td>1/3/2025</td>\n",
       "      <td>4.44</td>\n",
       "      <td>NaN</td>\n",
       "      <td>4.35</td>\n",
       "      <td>4.34</td>\n",
       "      <td>4.31</td>\n",
       "      <td>4.25</td>\n",
       "      <td>4.18</td>\n",
       "      <td>4.28</td>\n",
       "      <td>4.32</td>\n",
       "      <td>4.41</td>\n",
       "      <td>4.51</td>\n",
       "      <td>4.60</td>\n",
       "      <td>4.88</td>\n",
       "      <td>4.82</td>\n",
       "    </tr>\n",
       "    <tr>\n",
       "      <th>133</th>\n",
       "      <td>1/2/2025</td>\n",
       "      <td>4.45</td>\n",
       "      <td>NaN</td>\n",
       "      <td>4.36</td>\n",
       "      <td>4.36</td>\n",
       "      <td>4.31</td>\n",
       "      <td>4.25</td>\n",
       "      <td>4.17</td>\n",
       "      <td>4.25</td>\n",
       "      <td>4.29</td>\n",
       "      <td>4.38</td>\n",
       "      <td>4.47</td>\n",
       "      <td>4.57</td>\n",
       "      <td>4.86</td>\n",
       "      <td>4.79</td>\n",
       "    </tr>\n",
       "  </tbody>\n",
       "</table>\n",
       "<p>134 rows × 15 columns</p>\n",
       "</div>"
      ],
      "text/plain": [
       "          Date  1 Mo  1.5 Mo  2 Mo  3 Mo  4 Mo  6 Mo  1 Yr  2 Yr  3 Yr  5 Yr  \\\n",
       "0    7/16/2025  4.36    4.40  4.45  4.41  4.42  4.31  4.08  3.88  3.86  3.99   \n",
       "1    7/15/2025  4.36    4.40  4.46  4.42  4.43  4.33  4.12  3.95  3.93  4.05   \n",
       "2    7/14/2025  4.37    4.41  4.46  4.42  4.42  4.31  4.08  3.90  3.86  3.98   \n",
       "3    7/11/2025  4.37    4.39  4.47  4.41  4.42  4.31  4.09  3.90  3.86  3.99   \n",
       "4    7/10/2025  4.36    4.39  4.47  4.42  4.42  4.31  4.07  3.86  3.82  3.93   \n",
       "..         ...   ...     ...   ...   ...   ...   ...   ...   ...   ...   ...   \n",
       "129   1/8/2025  4.41     NaN  4.34  4.35  4.31  4.25  4.19  4.28  4.31  4.45   \n",
       "130   1/7/2025  4.42     NaN  4.35  4.35  4.31  4.24  4.19  4.30  4.33  4.46   \n",
       "131   1/6/2025  4.43     NaN  4.36  4.35  4.31  4.24  4.17  4.28  4.30  4.42   \n",
       "132   1/3/2025  4.44     NaN  4.35  4.34  4.31  4.25  4.18  4.28  4.32  4.41   \n",
       "133   1/2/2025  4.45     NaN  4.36  4.36  4.31  4.25  4.17  4.25  4.29  4.38   \n",
       "\n",
       "     7 Yr  10 Yr  20 Yr  30 Yr  \n",
       "0    4.21   4.46   5.01   5.01  \n",
       "1    4.26   4.50   5.02   5.01  \n",
       "2    4.19   4.43   4.97   4.97  \n",
       "3    4.19   4.43   4.96   4.96  \n",
       "4    4.12   4.35   4.87   4.86  \n",
       "..    ...    ...    ...    ...  \n",
       "129  4.56   4.67   4.97   4.91  \n",
       "130  4.57   4.67   4.97   4.91  \n",
       "131  4.52   4.62   4.91   4.85  \n",
       "132  4.51   4.60   4.88   4.82  \n",
       "133  4.47   4.57   4.86   4.79  \n",
       "\n",
       "[134 rows x 15 columns]"
      ]
     },
     "execution_count": 38,
     "metadata": {},
     "output_type": "execute_result"
    }
   ],
   "source": [
    "data_7_16_2025"
   ]
  },
  {
   "cell_type": "markdown",
   "id": "01c3b21b",
   "metadata": {},
   "source": [
    "### Plotting the data"
   ]
  },
  {
   "cell_type": "code",
   "execution_count": 39,
   "id": "f6cc8ccf",
   "metadata": {},
   "outputs": [
    {
     "data": {
      "text/html": [
       "<div>\n",
       "<style scoped>\n",
       "    .dataframe tbody tr th:only-of-type {\n",
       "        vertical-align: middle;\n",
       "    }\n",
       "\n",
       "    .dataframe tbody tr th {\n",
       "        vertical-align: top;\n",
       "    }\n",
       "\n",
       "    .dataframe thead th {\n",
       "        text-align: right;\n",
       "    }\n",
       "</style>\n",
       "<table border=\"1\" class=\"dataframe\">\n",
       "  <thead>\n",
       "    <tr style=\"text-align: right;\">\n",
       "      <th></th>\n",
       "      <th>Date</th>\n",
       "      <th>1 Mo</th>\n",
       "      <th>1.5 Mo</th>\n",
       "      <th>2 Mo</th>\n",
       "      <th>3 Mo</th>\n",
       "      <th>4 Mo</th>\n",
       "      <th>6 Mo</th>\n",
       "      <th>1 Yr</th>\n",
       "      <th>2 Yr</th>\n",
       "      <th>3 Yr</th>\n",
       "      <th>5 Yr</th>\n",
       "      <th>7 Yr</th>\n",
       "      <th>10 Yr</th>\n",
       "      <th>20 Yr</th>\n",
       "      <th>30 Yr</th>\n",
       "    </tr>\n",
       "  </thead>\n",
       "  <tbody>\n",
       "    <tr>\n",
       "      <th>0</th>\n",
       "      <td>7/16/2025</td>\n",
       "      <td>4.36</td>\n",
       "      <td>4.4</td>\n",
       "      <td>4.45</td>\n",
       "      <td>4.41</td>\n",
       "      <td>4.42</td>\n",
       "      <td>4.31</td>\n",
       "      <td>4.08</td>\n",
       "      <td>3.88</td>\n",
       "      <td>3.86</td>\n",
       "      <td>3.99</td>\n",
       "      <td>4.21</td>\n",
       "      <td>4.46</td>\n",
       "      <td>5.01</td>\n",
       "      <td>5.01</td>\n",
       "    </tr>\n",
       "  </tbody>\n",
       "</table>\n",
       "</div>"
      ],
      "text/plain": [
       "        Date  1 Mo  1.5 Mo  2 Mo  3 Mo  4 Mo  6 Mo  1 Yr  2 Yr  3 Yr  5 Yr  \\\n",
       "0  7/16/2025  4.36     4.4  4.45  4.41  4.42  4.31  4.08  3.88  3.86  3.99   \n",
       "\n",
       "   7 Yr  10 Yr  20 Yr  30 Yr  \n",
       "0  4.21   4.46   5.01   5.01  "
      ]
     },
     "execution_count": 39,
     "metadata": {},
     "output_type": "execute_result"
    }
   ],
   "source": [
    "# only first row\n",
    "date_7_16_2025 = data_7_16_2025.iloc[0:1]\n",
    "date_7_16_2025.reset_index(drop=True , inplace=True)\n",
    "date_7_16_2025"
   ]
  },
  {
   "cell_type": "code",
   "execution_count": 40,
   "id": "749c9e2f",
   "metadata": {},
   "outputs": [
    {
     "data": {
      "image/png": "[encoded data removed]",
      "text/plain": [
       "<Figure size 1000x500 with 1 Axes>"
      ]
     },
     "metadata": {},
     "output_type": "display_data"
    }
   ],
   "source": [
    "# Plotting the data\n",
    "plt.figure(figsize=(10, 5))\n",
    "plt.plot(date_7_16_2025.columns[1:], date_7_16_2025.iloc[0, 1:], marker='o')\n",
    "plt.title('Yield Curve for 07/16/2025')\n",
    "plt.xlabel('Maturity')\n",
    "plt.ylabel('Yield (%)')\n",
    "plt.xticks(rotation=45)\n",
    "plt.grid()\n",
    "plt.tight_layout()\n",
    "plt.show()"
   ]
  },
  {
   "cell_type": "markdown",
   "id": "807f6acc",
   "metadata": {},
   "source": [
    "### Data preparation"
   ]
  },
  {
   "cell_type": "code",
   "execution_count": 41,
   "id": "cf5f92eb",
   "metadata": {},
   "outputs": [],
   "source": [
    "# def maturity in years\n",
    "def convert_maturity_to_years(maturity):\n",
    "    if 'Yr' in maturity:\n",
    "        return float(maturity.replace('Yr', '').strip())\n",
    "    elif 'Mo' in maturity:\n",
    "        return float(maturity.replace('Mo', '').strip()) / 12"
   ]
  },
  {
   "cell_type": "code",
   "execution_count": 42,
   "id": "bec6c267",
   "metadata": {},
   "outputs": [
    {
     "data": {
      "text/html": [
       "<div>\n",
       "<style scoped>\n",
       "    .dataframe tbody tr th:only-of-type {\n",
       "        vertical-align: middle;\n",
       "    }\n",
       "\n",
       "    .dataframe tbody tr th {\n",
       "        vertical-align: top;\n",
       "    }\n",
       "\n",
       "    .dataframe thead th {\n",
       "        text-align: right;\n",
       "    }\n",
       "</style>\n",
       "<table border=\"1\" class=\"dataframe\">\n",
       "  <thead>\n",
       "    <tr style=\"text-align: right;\">\n",
       "      <th></th>\n",
       "      <th>Maturity</th>\n",
       "      <th>Yield %</th>\n",
       "      <th>Maturity (Years)</th>\n",
       "    </tr>\n",
       "  </thead>\n",
       "  <tbody>\n",
       "    <tr>\n",
       "      <th>0</th>\n",
       "      <td>1 Mo</td>\n",
       "      <td>4.36</td>\n",
       "      <td>0.083</td>\n",
       "    </tr>\n",
       "    <tr>\n",
       "      <th>1</th>\n",
       "      <td>1.5 Mo</td>\n",
       "      <td>4.4</td>\n",
       "      <td>0.125</td>\n",
       "    </tr>\n",
       "    <tr>\n",
       "      <th>2</th>\n",
       "      <td>2 Mo</td>\n",
       "      <td>4.45</td>\n",
       "      <td>0.167</td>\n",
       "    </tr>\n",
       "    <tr>\n",
       "      <th>3</th>\n",
       "      <td>3 Mo</td>\n",
       "      <td>4.41</td>\n",
       "      <td>0.250</td>\n",
       "    </tr>\n",
       "    <tr>\n",
       "      <th>4</th>\n",
       "      <td>4 Mo</td>\n",
       "      <td>4.42</td>\n",
       "      <td>0.333</td>\n",
       "    </tr>\n",
       "    <tr>\n",
       "      <th>5</th>\n",
       "      <td>6 Mo</td>\n",
       "      <td>4.31</td>\n",
       "      <td>0.500</td>\n",
       "    </tr>\n",
       "    <tr>\n",
       "      <th>6</th>\n",
       "      <td>1 Yr</td>\n",
       "      <td>4.08</td>\n",
       "      <td>1.000</td>\n",
       "    </tr>\n",
       "    <tr>\n",
       "      <th>7</th>\n",
       "      <td>2 Yr</td>\n",
       "      <td>3.88</td>\n",
       "      <td>2.000</td>\n",
       "    </tr>\n",
       "    <tr>\n",
       "      <th>8</th>\n",
       "      <td>3 Yr</td>\n",
       "      <td>3.86</td>\n",
       "      <td>3.000</td>\n",
       "    </tr>\n",
       "    <tr>\n",
       "      <th>9</th>\n",
       "      <td>5 Yr</td>\n",
       "      <td>3.99</td>\n",
       "      <td>5.000</td>\n",
       "    </tr>\n",
       "    <tr>\n",
       "      <th>10</th>\n",
       "      <td>7 Yr</td>\n",
       "      <td>4.21</td>\n",
       "      <td>7.000</td>\n",
       "    </tr>\n",
       "    <tr>\n",
       "      <th>11</th>\n",
       "      <td>10 Yr</td>\n",
       "      <td>4.46</td>\n",
       "      <td>10.000</td>\n",
       "    </tr>\n",
       "    <tr>\n",
       "      <th>12</th>\n",
       "      <td>20 Yr</td>\n",
       "      <td>5.01</td>\n",
       "      <td>20.000</td>\n",
       "    </tr>\n",
       "    <tr>\n",
       "      <th>13</th>\n",
       "      <td>30 Yr</td>\n",
       "      <td>5.01</td>\n",
       "      <td>30.000</td>\n",
       "    </tr>\n",
       "  </tbody>\n",
       "</table>\n",
       "</div>"
      ],
      "text/plain": [
       "   Maturity Yield %  Maturity (Years)\n",
       "0      1 Mo    4.36             0.083\n",
       "1    1.5 Mo     4.4             0.125\n",
       "2      2 Mo    4.45             0.167\n",
       "3      3 Mo    4.41             0.250\n",
       "4      4 Mo    4.42             0.333\n",
       "5      6 Mo    4.31             0.500\n",
       "6      1 Yr    4.08             1.000\n",
       "7      2 Yr    3.88             2.000\n",
       "8      3 Yr    3.86             3.000\n",
       "9      5 Yr    3.99             5.000\n",
       "10     7 Yr    4.21             7.000\n",
       "11    10 Yr    4.46            10.000\n",
       "12    20 Yr    5.01            20.000\n",
       "13    30 Yr    5.01            30.000"
      ]
     },
     "execution_count": 42,
     "metadata": {},
     "output_type": "execute_result"
    }
   ],
   "source": [
    "# transpose the data for better readability and remove date row and rename columns\n",
    "data_7_16_2025 = date_7_16_2025.T\n",
    "data_7_16_2025.columns = ['Yield %']\n",
    "data_7_16_2025 = data_7_16_2025.iloc[1:]\n",
    "data_7_16_2025.reset_index(inplace=True)\n",
    "data_7_16_2025.rename(columns={'index': 'Maturity'}, inplace=True)\n",
    "\n",
    "# Adding the 'Maturity' column as a numeric type as a new column. If Yr , then extract the number. If Mo, then convert to years dividing by 12.\n",
    "data_7_16_2025['Maturity (Years)'] = round(data_7_16_2025['Maturity'].apply(convert_maturity_to_years),3)\n",
    "data_7_16_2025"
   ]
  },
  {
   "cell_type": "markdown",
   "id": "4f83acd7",
   "metadata": {},
   "source": [
    "## Nelson Siegel Model"
   ]
  },
  {
   "cell_type": "markdown",
   "id": "7dbe2dd2",
   "metadata": {},
   "source": [
    "### Calibration using non linear curve fitting"
   ]
  },
  {
   "cell_type": "code",
   "execution_count": 43,
   "id": "e5d509ef",
   "metadata": {},
   "outputs": [],
   "source": [
    "# NS model calibration\n",
    "def nelson_siegel_model(t, beta0, beta1, beta2, lambd):\n",
    "    t = np.array(t)\n",
    "    # Avoid division by zero for very small t\n",
    "    t = np.where(t == 0, 1e-6, t)\n",
    "    term1 = (1 - np.exp(-lambd * t)) / (lambd * t)\n",
    "    term2 = term1 - np.exp(-lambd * t)\n",
    "    return beta0 + beta1 * term1 + beta2 * term2\n",
    "\n",
    "def objective(params, t, yields):\n",
    "    beta0, beta1, beta2, lambd = params\n",
    "    fitted = nelson_siegel_model(t, beta0, beta1, beta2, lambd)\n",
    "    return np.sum((yields - fitted) ** 2)"
   ]
  },
  {
   "cell_type": "code",
   "execution_count": 44,
   "id": "f655e360",
   "metadata": {},
   "outputs": [
    {
     "name": "stdout",
     "output_type": "stream",
     "text": [
      "Fitted parameters:\n",
      "beta0 = 5.4196\n",
      "beta1 = -0.9010\n",
      "beta2 = -3.6287\n",
      "lambda = 0.4512\n"
     ]
    }
   ],
   "source": [
    "maturities = data_7_16_2025[\"Maturity (Years)\"].values\n",
    "yields = data_7_16_2025[\"Yield %\"].values\n",
    "\n",
    "# Initial guess and bounds (length 4!)\n",
    "initial_guess = [4, -1, 1, 0.5]\n",
    "bounds = [(0, 8),   # beta0\n",
    "          (-10, 10),   # beta1\n",
    "          (-10, 10),   # beta2\n",
    "          (0.001, 10)]  # lambd\n",
    "\n",
    "# Fit using minimize\n",
    "result = minimize(\n",
    "    objective,\n",
    "    initial_guess,\n",
    "    args=(maturities, yields),\n",
    "    bounds=bounds,\n",
    "    method='L-BFGS-B',\n",
    "    options={'maxiter': 10000}\n",
    ")\n",
    "\n",
    "# Extract results\n",
    "beta0, beta1, beta2, lambd = result.x\n",
    "print(f\"Fitted parameters:\")\n",
    "print(f\"beta0 = {beta0:.4f}\")\n",
    "print(f\"beta1 = {beta1:.4f}\")\n",
    "print(f\"beta2 = {beta2:.4f}\")\n",
    "print(f\"lambda = {lambd:.4f}\")"
   ]
  },
  {
   "cell_type": "code",
   "execution_count": 45,
   "id": "465ab21e",
   "metadata": {},
   "outputs": [
    {
     "data": {
      "image/png": "[encoded data removed]",
      "text/plain": [
       "<Figure size 1000x500 with 1 Axes>"
      ]
     },
     "metadata": {},
     "output_type": "display_data"
    }
   ],
   "source": [
    "# Add fitted values to the DataFrame\n",
    "data_7_16_2025['Fitted Yield % OLS(NS)'] = nelson_siegel_model(maturities, beta0, beta1, beta2, lambd)\n",
    "# round the fitted values to 3 decimal places\n",
    "data_7_16_2025['Fitted Yield % OLS(NS)'] = data_7_16_2025['Fitted Yield % OLS(NS)'].round(3)\n",
    "# Plotting the original yields and fitted curve vs the maturities\n",
    "plt.figure(figsize=(10, 5))\n",
    "plt.plot(data_7_16_2025['Maturity'], data_7_16_2025['Yield %'], marker='o', label='Observed Yield')\n",
    "plt.plot(data_7_16_2025['Maturity'], data_7_16_2025['Fitted Yield % OLS(NS)'], marker='x', linestyle='--', label='Fitted Yield using curve fitting')\n",
    "plt.title('Yield Curve Fitting using Nelson-Siegel Model')\n",
    "plt.xlabel('Maturity')\n",
    "plt.ylabel('Yield (%)')\n",
    "plt.xticks(rotation=45)\n",
    "plt.legend()\n",
    "plt.grid()\n",
    "plt.show()\n"
   ]
  },
  {
   "cell_type": "markdown",
   "id": "c3a5271a",
   "metadata": {},
   "source": [
    "### Calibration using MLE"
   ]
  },
  {
   "cell_type": "code",
   "execution_count": 46,
   "id": "07e3fd15",
   "metadata": {},
   "outputs": [],
   "source": [
    "def neg_log_likelihood(params_mle, t, y):\n",
    "    beta0_mle, beta1_mle, beta2_mle, lambd_mle, sigma_mle = params_mle\n",
    "    y_hat = nelson_siegel_model(t, beta0_mle, beta1_mle, beta2_mle, lambd_mle)\n",
    "    n = len(y)\n",
    "    # NLL for Gaussian\n",
    "    nll = 0.5 * n * np.log(2 * np.pi * sigma_mle ** 2) + 0.5 * np.sum((y - y_hat) ** 2) / sigma_mle ** 2\n",
    "    return nll\n"
   ]
  },
  {
   "cell_type": "code",
   "execution_count": 47,
   "id": "232842bf",
   "metadata": {},
   "outputs": [
    {
     "name": "stdout",
     "output_type": "stream",
     "text": [
      "Fitted parameters (MLE):\n",
      "beta0_mle = 5.4196\n",
      "beta1_mle = -0.9010\n",
      "beta2_mle = -3.6287\n",
      "lambda_mle = 0.4512\n",
      "sigma_mle = 0.0538\n"
     ]
    }
   ],
   "source": [
    "initial_guess = [5.0, 1.0, 1.0, 0.1, 0.1]\n",
    "bounds = [(-10, 20), (-20, 20), (-20, 20), (1e-6, 10), (1e-6, 2)]  # reasonable bounds\n",
    "\n",
    "result = minimize(\n",
    "    neg_log_likelihood,\n",
    "    initial_guess,\n",
    "    args=(maturities, yields),\n",
    "    bounds=bounds,\n",
    "    method='L-BFGS-B'\n",
    ")\n",
    "\n",
    "beta0_mle, beta1_mle, beta2_mle, lambd_mle, sigma_mle = result.x\n",
    "\n",
    "print(\"Fitted parameters (MLE):\")\n",
    "print(f\"beta0_mle = {beta0_mle:.4f}\")\n",
    "print(f\"beta1_mle = {beta1_mle:.4f}\")\n",
    "print(f\"beta2_mle = {beta2_mle:.4f}\")\n",
    "print(f\"lambda_mle = {lambd_mle:.4f}\")\n",
    "print(f\"sigma_mle = {sigma_mle:.4f}\")"
   ]
  },
  {
   "cell_type": "code",
   "execution_count": 48,
   "id": "275b5e84",
   "metadata": {},
   "outputs": [],
   "source": [
    "# adding fitted values to the DataFrame\n",
    "data_7_16_2025['Fitted Yield % MLE (NS)'] = nelson_siegel_model(maturities, beta0_mle, beta1_mle, beta2_mle, lambd_mle)\n",
    "# round the fitted values to 3 decimal places\n",
    "data_7_16_2025['Fitted Yield % MLE (NS)'] = data_7_16_2025['Fitted Yield % MLE (NS)'].round(3)\n"
   ]
  },
  {
   "cell_type": "code",
   "execution_count": 49,
   "id": "4f0e32bf",
   "metadata": {},
   "outputs": [
    {
     "data": {
      "image/png": "[encoded data removed]",
      "text/plain": [
       "<Figure size 1000x500 with 1 Axes>"
      ]
     },
     "metadata": {},
     "output_type": "display_data"
    }
   ],
   "source": [
    "#plotting  original yields, fitted , MLE fitted vs maturities\n",
    "plt.figure(figsize=(10, 5))\n",
    "plt.plot(data_7_16_2025['Maturity'], data_7_16_2025['Yield %'], marker='o',color = 'b', label='Observed Yield')\n",
    "plt.plot(data_7_16_2025['Maturity'], data_7_16_2025['Fitted Yield % OLS(NS)'], marker='x',color = 'r', linestyle='--', label='Fitted Yield using curve fitting')\n",
    "plt.plot(data_7_16_2025['Maturity'], data_7_16_2025['Fitted Yield % MLE (NS)'], marker='s',color = 'g', linestyle=':', label='Fitted Yield using MLE')\n",
    "plt.title('Yield Curve Fitting using Nelson-Siegel Model')\n",
    "plt.xlabel('Maturity')\n",
    "plt.ylabel('Yield (%)')\n",
    "plt.xticks(rotation=45)\n",
    "plt.legend()\n",
    "plt.grid()\n",
    "plt.show()"
   ]
  },
  {
   "cell_type": "markdown",
   "id": "7ec31594",
   "metadata": {},
   "source": [
    "### Why did we get the same optimized parameters for mle and non linear curve fitting?\n",
    "Nonlinear curve fitting (least squares) and Maximum Likelihood Estimation (MLE) both solve for the parameters that best fit your data.\n",
    "\n",
    "If you assume Gaussian (normal) errors, then minimizing sum of squared errors (SSE) (what curve fitting does) is mathematically equivalent to maximizing the likelihood (MLE).\n",
    "\n",
    "So both methods, when applied correctly to the same model and data, will yield the same optimal parameters."
   ]
  },
  {
   "cell_type": "markdown",
   "id": "99054e93",
   "metadata": {},
   "source": [
    "### Testing the data"
   ]
  },
  {
   "cell_type": "code",
   "execution_count": 50,
   "id": "4a273570",
   "metadata": {},
   "outputs": [
    {
     "name": "stdout",
     "output_type": "stream",
     "text": [
      "Yields for specific maturities:\n",
      "Maturity: 0.08 years, Yield: 4.4688 %\n",
      "Maturity: 0.17 years, Yield: 4.4219 %\n",
      "Maturity: 0.25 years, Yield: 4.3777 %\n",
      "Maturity: 0.33 years, Yield: 4.3361 %\n",
      "Maturity: 0.42 years, Yield: 4.2970 %\n",
      "Maturity: 0.50 years, Yield: 4.2604 %\n",
      "Maturity: 0.58 years, Yield: 4.2260 %\n",
      "Maturity: 0.67 years, Yield: 4.1938 %\n",
      "Maturity: 0.75 years, Yield: 4.1637 %\n",
      "Maturity: 0.83 years, Yield: 4.1356 %\n",
      "Maturity: 0.92 years, Yield: 4.1094 %\n",
      "Maturity: 1.00 years, Yield: 4.0850 %\n",
      "Maturity: 2.00 years, Yield: 3.9077 %\n",
      "Maturity: 3.00 years, Yield: 3.8749 %\n",
      "Maturity: 4.00 years, Yield: 3.9196 %\n",
      "Maturity: 5.00 years, Yield: 4.0023 %\n",
      "Maturity: 6.00 years, Yield: 4.1001 %\n",
      "Maturity: 7.00 years, Yield: 4.2005 %\n",
      "Maturity: 8.00 years, Yield: 4.2968 %\n",
      "Maturity: 9.00 years, Yield: 4.3858 %\n",
      "Maturity: 10.00 years, Yield: 4.4665 %\n",
      "Maturity: 11.00 years, Yield: 4.5386 %\n",
      "Maturity: 12.00 years, Yield: 4.6028 %\n",
      "Maturity: 13.00 years, Yield: 4.6598 %\n",
      "Maturity: 14.00 years, Yield: 4.7103 %\n",
      "Maturity: 15.00 years, Yield: 4.7552 %\n",
      "Maturity: 16.00 years, Yield: 4.7952 %\n",
      "Maturity: 17.00 years, Yield: 4.8310 %\n",
      "Maturity: 18.00 years, Yield: 4.8631 %\n",
      "Maturity: 19.00 years, Yield: 4.8920 %\n",
      "Maturity: 20.00 years, Yield: 4.9181 %\n",
      "Maturity: 21.00 years, Yield: 4.9418 %\n",
      "Maturity: 22.00 years, Yield: 4.9634 %\n",
      "Maturity: 23.00 years, Yield: 4.9832 %\n",
      "Maturity: 24.00 years, Yield: 5.0013 %\n",
      "Maturity: 25.00 years, Yield: 5.0180 %\n",
      "Maturity: 26.00 years, Yield: 5.0335 %\n",
      "Maturity: 27.00 years, Yield: 5.0478 %\n",
      "Maturity: 28.00 years, Yield: 5.0610 %\n",
      "Maturity: 29.00 years, Yield: 5.0734 %\n",
      "Maturity: 30.00 years, Yield: 5.0849 %\n"
     ]
    }
   ],
   "source": [
    "# find the yeild for 1 Mo, 1.5 Mo, 2 Mo, 2.5 Mo, 3 Mo, 3.5 Mo, 4 Mo, 4.5 Mo, 5 Mo, 5.5 Mo, 6 Mo, 6.5 Mo, 7 Mo, 7.5 Mo, 8 Mo, 8.5 Mo, 9 Mo, 9.5 Mo, 10 Mo, 10.5 Mo, 11 Mo, 11.5 Mo, 12 Mo, 1 Yr, 2 Yr, 3 Yr, 4 Yr, 5 Yr, 6 Yr, 7 Yr, 8 Yr, 9 Yr, 10 Yr, 11 Yr, 12 Yr, 13 Yr, 14 Yr, 15 Yr, 16 Yr, 17 Yr, 18 Yr, 19 Yr, 20 Yr, 21 Yr, 22 Yr, 23 Yr, 24 Yr, 25 Yr, 26 Yr, 27 Yr, 28 Yr, 29 Yr, 30 Yr\n",
    "maturities_to_check = [1/12, 2/12, 3/12, 4/12,  5/12, 6/12,  7/12, 8/12, 9/12, 10/12, 11/12, 1, 2, 3, 4, 5, 6, 7, 8, 9, 10, 11, 12, 13, 14, 15, 16, 17, 18, 19, 20, 21, 22, 23, 24, 25, 26, 27, 28, 29, 30]\n",
    "yields_to_check = nelson_siegel_model(maturities_to_check, beta0, beta1, beta2, lambd)\n",
    "print(\"Yields for specific maturities:\")\n",
    "for maturity, yield_value in zip(maturities_to_check, yields_to_check):\n",
    "    print(f\"Maturity: {maturity:.2f} years, Yield: {yield_value:.4f} %\")\n",
    "\n",
    "# store it in a DataFrame\n",
    "test_yields_df = pd.DataFrame({\n",
    "    'Maturity (Years)': maturities_to_check,\n",
    "    'Yield % OLS (NS)': nelson_siegel_model(maturities_to_check, beta0, beta1, beta2, lambd),})\n"
   ]
  },
  {
   "cell_type": "code",
   "execution_count": 51,
   "id": "fa5a7b85",
   "metadata": {},
   "outputs": [
    {
     "data": {
      "image/png": "[encoded data removed]",
      "text/plain": [
       "<Figure size 1000x500 with 1 Axes>"
      ]
     },
     "metadata": {},
     "output_type": "display_data"
    }
   ],
   "source": [
    "# plot the test yields with yields number on each point with equal spacing and the values not clashing on each other\n",
    "plt.figure(figsize=(10, 5))\n",
    "plt.plot(maturities_to_check, yields_to_check, marker='o', label='Test Yields')\n",
    "\n",
    "plt.title('Test Yields for Specific Maturities')\n",
    "plt.xlabel('Maturity (Years)')\n",
    "plt.ylabel('Yield (%)')\n",
    "plt.xticks(rotation=45)\n",
    "plt.legend()\n",
    "plt.grid()\n",
    "plt.tight_layout()\n",
    "plt.show()\n"
   ]
  },
  {
   "cell_type": "code",
   "execution_count": 52,
   "id": "1623ce77",
   "metadata": {},
   "outputs": [
    {
     "data": {
      "application/vnd.plotly.v1+json": {
       "config": {
        "plotlyServerURL": "https://plot.ly"
       },
       "data": [
        {
         "marker": {
          "size": 8
         },
         "mode": "markers+lines",
         "name": "Test Yields",
         "type": "scatter",
         "x": [
          0.08333333333333333,
          0.16666666666666666,
          0.25,
          0.3333333333333333,
          0.4166666666666667,
          0.5,
          0.5833333333333334,
          0.6666666666666666,
          0.75,
          0.8333333333333334,
          0.9166666666666666,
          1,
          2,
          3,
          4,
          5,
          6,
          7,
          8,
          9,
          10,
          11,
          12,
          13,
          14,
          15,
          16,
          17,
          18,
          19,
          20,
          21,
          22,
          23,
          24,
          25,
          26,
          27,
          28,
          29,
          30
         ],
         "y": [
          4.468813774377599,
          4.421878584752408,
          4.377684049362194,
          4.336110429128509,
          4.297042815275275,
          4.260370940959352,
          4.225989000118873,
          4.193795473265675,
          4.163692959958377,
          4.135588017702636,
          4.109391007034659,
          4.085015942553212,
          3.9077321763053154,
          3.874935847879886,
          3.91961651921518,
          4.002265056157777,
          4.100120419097203,
          4.20052005278902,
          4.296809618413215,
          4.385843854352054,
          4.466472781123599,
          4.5386351673508125,
          4.602823990005362,
          4.659778020563812,
          4.710309497865842,
          4.755212615854734,
          4.795219132362268,
          4.830980741993427,
          4.863066057500458,
          4.891965055279215,
          4.9180968779136665,
          4.9418187083392695,
          4.963434507588316,
          4.983203033192561,
          5.001344908189203,
          5.018048701714232,
          5.033476078617501,
          5.047766117996062,
          5.061038913251785,
          5.07339856348607,
          5.084935655953764
         ]
        }
       ],
       "layout": {
        "height": 400,
        "legend": {
         "x": 0.01,
         "y": 0.99
        },
        "template": {
         "data": {
          "bar": [
           {
            "error_x": {
             "color": "#f2f5fa"
            },
            "error_y": {
             "color": "#f2f5fa"
            },
            "marker": {
             "line": {
              "color": "rgb(17,17,17)",
              "width": 0.5
             },
             "pattern": {
              "fillmode": "overlay",
              "size": 10,
              "solidity": 0.2
             }
            },
            "type": "bar"
           }
          ],
          "barpolar": [
           {
            "marker": {
             "line": {
              "color": "rgb(17,17,17)",
              "width": 0.5
             },
             "pattern": {
              "fillmode": "overlay",
              "size": 10,
              "solidity": 0.2
             }
            },
            "type": "barpolar"
           }
          ],
          "carpet": [
           {
            "aaxis": {
             "endlinecolor": "#A2B1C6",
             "gridcolor": "#506784",
             "linecolor": "#506784",
             "minorgridcolor": "#506784",
             "startlinecolor": "#A2B1C6"
            },
            "baxis": {
             "endlinecolor": "#A2B1C6",
             "gridcolor": "#506784",
             "linecolor": "#506784",
             "minorgridcolor": "#506784",
             "startlinecolor": "#A2B1C6"
            },
            "type": "carpet"
           }
          ],
          "choropleth": [
           {
            "colorbar": {
             "outlinewidth": 0,
             "ticks": ""
            },
            "type": "choropleth"
           }
          ],
          "contour": [
           {
            "colorbar": {
             "outlinewidth": 0,
             "ticks": ""
            },
            "colorscale": [
             [
              0,
              "#0d0887"
             ],
             [
              0.1111111111111111,
              "#46039f"
             ],
             [
              0.2222222222222222,
              "#7201a8"
             ],
             [
              0.3333333333333333,
              "#9c179e"
             ],
             [
              0.4444444444444444,
              "#bd3786"
             ],
             [
              0.5555555555555556,
              "#d8576b"
             ],
             [
              0.6666666666666666,
              "#ed7953"
             ],
             [
              0.7777777777777778,
              "#fb9f3a"
             ],
             [
              0.8888888888888888,
              "#fdca26"
             ],
             [
              1,
              "#f0f921"
             ]
            ],
            "type": "contour"
           }
          ],
          "contourcarpet": [
           {
            "colorbar": {
             "outlinewidth": 0,
             "ticks": ""
            },
            "type": "contourcarpet"
           }
          ],
          "heatmap": [
           {
            "colorbar": {
             "outlinewidth": 0,
             "ticks": ""
            },
            "colorscale": [
             [
              0,
              "#0d0887"
             ],
             [
              0.1111111111111111,
              "#46039f"
             ],
             [
              0.2222222222222222,
              "#7201a8"
             ],
             [
              0.3333333333333333,
              "#9c179e"
             ],
             [
              0.4444444444444444,
              "#bd3786"
             ],
             [
              0.5555555555555556,
              "#d8576b"
             ],
             [
              0.6666666666666666,
              "#ed7953"
             ],
             [
              0.7777777777777778,
              "#fb9f3a"
             ],
             [
              0.8888888888888888,
              "#fdca26"
             ],
             [
              1,
              "#f0f921"
             ]
            ],
            "type": "heatmap"
           }
          ],
          "heatmapgl": [
           {
            "colorbar": {
             "outlinewidth": 0,
             "ticks": ""
            },
            "colorscale": [
             [
              0,
              "#0d0887"
             ],
             [
              0.1111111111111111,
              "#46039f"
             ],
             [
              0.2222222222222222,
              "#7201a8"
             ],
             [
              0.3333333333333333,
              "#9c179e"
             ],
             [
              0.4444444444444444,
              "#bd3786"
             ],
             [
              0.5555555555555556,
              "#d8576b"
             ],
             [
              0.6666666666666666,
              "#ed7953"
             ],
             [
              0.7777777777777778,
              "#fb9f3a"
             ],
             [
              0.8888888888888888,
              "#fdca26"
             ],
             [
              1,
              "#f0f921"
             ]
            ],
            "type": "heatmapgl"
           }
          ],
          "histogram": [
           {
            "marker": {
             "pattern": {
              "fillmode": "overlay",
              "size": 10,
              "solidity": 0.2
             }
            },
            "type": "histogram"
           }
          ],
          "histogram2d": [
           {
            "colorbar": {
             "outlinewidth": 0,
             "ticks": ""
            },
            "colorscale": [
             [
              0,
              "#0d0887"
             ],
             [
              0.1111111111111111,
              "#46039f"
             ],
             [
              0.2222222222222222,
              "#7201a8"
             ],
             [
              0.3333333333333333,
              "#9c179e"
             ],
             [
              0.4444444444444444,
              "#bd3786"
             ],
             [
              0.5555555555555556,
              "#d8576b"
             ],
             [
              0.6666666666666666,
              "#ed7953"
             ],
             [
              0.7777777777777778,
              "#fb9f3a"
             ],
             [
              0.8888888888888888,
              "#fdca26"
             ],
             [
              1,
              "#f0f921"
             ]
            ],
            "type": "histogram2d"
           }
          ],
          "histogram2dcontour": [
           {
            "colorbar": {
             "outlinewidth": 0,
             "ticks": ""
            },
            "colorscale": [
             [
              0,
              "#0d0887"
             ],
             [
              0.1111111111111111,
              "#46039f"
             ],
             [
              0.2222222222222222,
              "#7201a8"
             ],
             [
              0.3333333333333333,
              "#9c179e"
             ],
             [
              0.4444444444444444,
              "#bd3786"
             ],
             [
              0.5555555555555556,
              "#d8576b"
             ],
             [
              0.6666666666666666,
              "#ed7953"
             ],
             [
              0.7777777777777778,
              "#fb9f3a"
             ],
             [
              0.8888888888888888,
              "#fdca26"
             ],
             [
              1,
              "#f0f921"
             ]
            ],
            "type": "histogram2dcontour"
           }
          ],
          "mesh3d": [
           {
            "colorbar": {
             "outlinewidth": 0,
             "ticks": ""
            },
            "type": "mesh3d"
           }
          ],
          "parcoords": [
           {
            "line": {
             "colorbar": {
              "outlinewidth": 0,
              "ticks": ""
             }
            },
            "type": "parcoords"
           }
          ],
          "pie": [
           {
            "automargin": true,
            "type": "pie"
           }
          ],
          "scatter": [
           {
            "marker": {
             "line": {
              "color": "#283442"
             }
            },
            "type": "scatter"
           }
          ],
          "scatter3d": [
           {
            "line": {
             "colorbar": {
              "outlinewidth": 0,
              "ticks": ""
             }
            },
            "marker": {
             "colorbar": {
              "outlinewidth": 0,
              "ticks": ""
             }
            },
            "type": "scatter3d"
           }
          ],
          "scattercarpet": [
           {
            "marker": {
             "colorbar": {
              "outlinewidth": 0,
              "ticks": ""
             }
            },
            "type": "scattercarpet"
           }
          ],
          "scattergeo": [
           {
            "marker": {
             "colorbar": {
              "outlinewidth": 0,
              "ticks": ""
             }
            },
            "type": "scattergeo"
           }
          ],
          "scattergl": [
           {
            "marker": {
             "line": {
              "color": "#283442"
             }
            },
            "type": "scattergl"
           }
          ],
          "scattermapbox": [
           {
            "marker": {
             "colorbar": {
              "outlinewidth": 0,
              "ticks": ""
             }
            },
            "type": "scattermapbox"
           }
          ],
          "scatterpolar": [
           {
            "marker": {
             "colorbar": {
              "outlinewidth": 0,
              "ticks": ""
             }
            },
            "type": "scatterpolar"
           }
          ],
          "scatterpolargl": [
           {
            "marker": {
             "colorbar": {
              "outlinewidth": 0,
              "ticks": ""
             }
            },
            "type": "scatterpolargl"
           }
          ],
          "scatterternary": [
           {
            "marker": {
             "colorbar": {
              "outlinewidth": 0,
              "ticks": ""
             }
            },
            "type": "scatterternary"
           }
          ],
          "surface": [
           {
            "colorbar": {
             "outlinewidth": 0,
             "ticks": ""
            },
            "colorscale": [
             [
              0,
              "#0d0887"
             ],
             [
              0.1111111111111111,
              "#46039f"
             ],
             [
              0.2222222222222222,
              "#7201a8"
             ],
             [
              0.3333333333333333,
              "#9c179e"
             ],
             [
              0.4444444444444444,
              "#bd3786"
             ],
             [
              0.5555555555555556,
              "#d8576b"
             ],
             [
              0.6666666666666666,
              "#ed7953"
             ],
             [
              0.7777777777777778,
              "#fb9f3a"
             ],
             [
              0.8888888888888888,
              "#fdca26"
             ],
             [
              1,
              "#f0f921"
             ]
            ],
            "type": "surface"
           }
          ],
          "table": [
           {
            "cells": {
             "fill": {
              "color": "#506784"
             },
             "line": {
              "color": "rgb(17,17,17)"
             }
            },
            "header": {
             "fill": {
              "color": "#2a3f5f"
             },
             "line": {
              "color": "rgb(17,17,17)"
             }
            },
            "type": "table"
           }
          ]
         },
         "layout": {
          "annotationdefaults": {
           "arrowcolor": "#f2f5fa",
           "arrowhead": 0,
           "arrowwidth": 1
          },
          "autotypenumbers": "strict",
          "coloraxis": {
           "colorbar": {
            "outlinewidth": 0,
            "ticks": ""
           }
          },
          "colorscale": {
           "diverging": [
            [
             0,
             "#8e0152"
            ],
            [
             0.1,
             "#c51b7d"
            ],
            [
             0.2,
             "#de77ae"
            ],
            [
             0.3,
             "#f1b6da"
            ],
            [
             0.4,
             "#fde0ef"
            ],
            [
             0.5,
             "#f7f7f7"
            ],
            [
             0.6,
             "#e6f5d0"
            ],
            [
             0.7,
             "#b8e186"
            ],
            [
             0.8,
             "#7fbc41"
            ],
            [
             0.9,
             "#4d9221"
            ],
            [
             1,
             "#276419"
            ]
           ],
           "sequential": [
            [
             0,
             "#0d0887"
            ],
            [
             0.1111111111111111,
             "#46039f"
            ],
            [
             0.2222222222222222,
             "#7201a8"
            ],
            [
             0.3333333333333333,
             "#9c179e"
            ],
            [
             0.4444444444444444,
             "#bd3786"
            ],
            [
             0.5555555555555556,
             "#d8576b"
            ],
            [
             0.6666666666666666,
             "#ed7953"
            ],
            [
             0.7777777777777778,
             "#fb9f3a"
            ],
            [
             0.8888888888888888,
             "#fdca26"
            ],
            [
             1,
             "#f0f921"
            ]
           ],
           "sequentialminus": [
            [
             0,
             "#0d0887"
            ],
            [
             0.1111111111111111,
             "#46039f"
            ],
            [
             0.2222222222222222,
             "#7201a8"
            ],
            [
             0.3333333333333333,
             "#9c179e"
            ],
            [
             0.4444444444444444,
             "#bd3786"
            ],
            [
             0.5555555555555556,
             "#d8576b"
            ],
            [
             0.6666666666666666,
             "#ed7953"
            ],
            [
             0.7777777777777778,
             "#fb9f3a"
            ],
            [
             0.8888888888888888,
             "#fdca26"
            ],
            [
             1,
             "#f0f921"
            ]
           ]
          },
          "colorway": [
           "#636efa",
           "#EF553B",
           "#00cc96",
           "#ab63fa",
           "#FFA15A",
           "#19d3f3",
           "#FF6692",
           "#B6E880",
           "#FF97FF",
           "#FECB52"
          ],
          "font": {
           "color": "#f2f5fa"
          },
          "geo": {
           "bgcolor": "rgb(17,17,17)",
           "lakecolor": "rgb(17,17,17)",
           "landcolor": "rgb(17,17,17)",
           "showlakes": true,
           "showland": true,
           "subunitcolor": "#506784"
          },
          "hoverlabel": {
           "align": "left"
          },
          "hovermode": "closest",
          "mapbox": {
           "style": "dark"
          },
          "paper_bgcolor": "rgb(17,17,17)",
          "plot_bgcolor": "rgb(17,17,17)",
          "polar": {
           "angularaxis": {
            "gridcolor": "#506784",
            "linecolor": "#506784",
            "ticks": ""
           },
           "bgcolor": "rgb(17,17,17)",
           "radialaxis": {
            "gridcolor": "#506784",
            "linecolor": "#506784",
            "ticks": ""
           }
          },
          "scene": {
           "xaxis": {
            "backgroundcolor": "rgb(17,17,17)",
            "gridcolor": "#506784",
            "gridwidth": 2,
            "linecolor": "#506784",
            "showbackground": true,
            "ticks": "",
            "zerolinecolor": "#C8D4E3"
           },
           "yaxis": {
            "backgroundcolor": "rgb(17,17,17)",
            "gridcolor": "#506784",
            "gridwidth": 2,
            "linecolor": "#506784",
            "showbackground": true,
            "ticks": "",
            "zerolinecolor": "#C8D4E3"
           },
           "zaxis": {
            "backgroundcolor": "rgb(17,17,17)",
            "gridcolor": "#506784",
            "gridwidth": 2,
            "linecolor": "#506784",
            "showbackground": true,
            "ticks": "",
            "zerolinecolor": "#C8D4E3"
           }
          },
          "shapedefaults": {
           "line": {
            "color": "#f2f5fa"
           }
          },
          "sliderdefaults": {
           "bgcolor": "#C8D4E3",
           "bordercolor": "rgb(17,17,17)",
           "borderwidth": 1,
           "tickwidth": 0
          },
          "ternary": {
           "aaxis": {
            "gridcolor": "#506784",
            "linecolor": "#506784",
            "ticks": ""
           },
           "baxis": {
            "gridcolor": "#506784",
            "linecolor": "#506784",
            "ticks": ""
           },
           "bgcolor": "rgb(17,17,17)",
           "caxis": {
            "gridcolor": "#506784",
            "linecolor": "#506784",
            "ticks": ""
           }
          },
          "title": {
           "x": 0.05
          },
          "updatemenudefaults": {
           "bgcolor": "#506784",
           "borderwidth": 0
          },
          "xaxis": {
           "automargin": true,
           "gridcolor": "#283442",
           "linecolor": "#506784",
           "ticks": "",
           "title": {
            "standoff": 15
           },
           "zerolinecolor": "#283442",
           "zerolinewidth": 2
          },
          "yaxis": {
           "automargin": true,
           "gridcolor": "#283442",
           "linecolor": "#506784",
           "ticks": "",
           "title": {
            "standoff": 15
           },
           "zerolinecolor": "#283442",
           "zerolinewidth": 2
          }
         }
        },
        "title": {
         "text": "Test Yields for Specific Maturities"
        },
        "width": 900,
        "xaxis": {
         "tickangle": 45,
         "title": {
          "text": "Maturity (Years)"
         }
        },
        "yaxis": {
         "title": {
          "text": "Yield (%)"
         }
        }
       }
      }
     },
     "metadata": {},
     "output_type": "display_data"
    }
   ],
   "source": [
    "import plotly.graph_objects as go\n",
    "\n",
    "fig = go.Figure()\n",
    "fig.add_trace(go.Scatter(\n",
    "    x=maturities_to_check,\n",
    "    y=yields_to_check,\n",
    "    mode='markers+lines',\n",
    "    name='Test Yields',\n",
    "    marker=dict(size=8)\n",
    "))\n",
    "\n",
    "fig.update_layout(\n",
    "    title='Test Yields for Specific Maturities',\n",
    "    xaxis_title='Maturity (Years)',\n",
    "    yaxis_title='Yield (%)',\n",
    "    xaxis=dict(tickangle=45),\n",
    "    legend=dict(x=0.01, y=0.99),\n",
    "    template='plotly_dark',  # <-- set background to black\n",
    "    width=900,\n",
    "    height=400\n",
    ")"
   ]
  },
  {
   "cell_type": "markdown",
   "id": "9b8158b0",
   "metadata": {},
   "source": [
    "## Nelson Siegel Svensson Model"
   ]
  },
  {
   "cell_type": "code",
   "execution_count": 53,
   "id": "c6f83c64",
   "metadata": {},
   "outputs": [],
   "source": [
    "def nelson_siegel_svensson_model(t, beta0, beta1, beta2, beta3, lambd1, lambd2):\n",
    "    t = np.array(t)\n",
    "    # Avoid division by zero for very small t\n",
    "    t = np.where(t == 0, 1e-6, t)\n",
    "    term1 = (1 - np.exp(-lambd1 * t)) / (lambd1 * t)\n",
    "    term2 = term1 - np.exp(-lambd1 * t)\n",
    "    term3 = ((1 - np.exp(-lambd2 * t)) / (lambd2 * t)) - np.exp(-lambd2 * t)\n",
    "    return beta0 + beta1 * term1 + beta2 * term2 + beta3 * term3\n"
   ]
  },
  {
   "cell_type": "code",
   "execution_count": 54,
   "id": "5e63d969",
   "metadata": {},
   "outputs": [],
   "source": [
    "def objective(params, t, yields):\n",
    "    beta0, beta1, beta2, beta3, lambd1, lambd2 = params\n",
    "    fitted = nelson_siegel_svensson_model(t, beta0, beta1, beta2, beta3, lambd1, lambd2)\n",
    "    return np.sum((yields - fitted) ** 2)"
   ]
  },
  {
   "cell_type": "code",
   "execution_count": 55,
   "id": "a66dbf2b",
   "metadata": {},
   "outputs": [
    {
     "name": "stdout",
     "output_type": "stream",
     "text": [
      "Fitted parameters:\n",
      "beta0  = 5.3432\n",
      "beta1  = -0.9729\n",
      "beta2  = 0.0000\n",
      "beta3  = -4.8305\n",
      "lambda1 = 3.8886\n",
      "lambda2 = 0.5834\n"
     ]
    }
   ],
   "source": [
    "maturities = data_7_16_2025[\"Maturity (Years)\"].values\n",
    "yields = data_7_16_2025[\"Yield %\"].values\n",
    "\n",
    "# Initial guess: beta0, beta1, beta2, beta3, lambd1, lambd2\n",
    "initial_guess = [5, 1.0, 1.0, 1.0, 0.5, 0.5]\n",
    "\n",
    "# For NSS (6 parameters: beta0, beta1, beta2, beta3, lambd1, lambd2)\n",
    "bounds = [(3, 6),  # beta0\n",
    "          (-10, 10),  # beta1\n",
    "          (-10, 10),  # beta2\n",
    "          (-10, 10),  # beta3\n",
    "          (0.001, 10), # lambd1\n",
    "          (0.001, 10)] # lambd2\n",
    "\n",
    "\n",
    "# Fit using minimize\n",
    "result = minimize(\n",
    "    objective,\n",
    "    initial_guess,\n",
    "    args=(maturities, yields),\n",
    "    bounds=bounds,\n",
    "    method='L-BFGS-B',\n",
    "    options={'maxiter': 10000}\n",
    ")\n",
    "\n",
    "\n",
    "beta0, beta1, beta2, beta3, lambd1, lambd2 = result.x\n",
    "\n",
    "print(f\"Fitted parameters:\")\n",
    "print(f\"beta0  = {beta0:.4f}\")\n",
    "print(f\"beta1  = {beta1:.4f}\")\n",
    "print(f\"beta2  = {beta2:.4f}\")\n",
    "print(f\"beta3  = {beta3:.4f}\")\n",
    "print(f\"lambda1 = {lambd1:.4f}\")\n",
    "print(f\"lambda2 = {lambd2:.4f}\")"
   ]
  },
  {
   "cell_type": "code",
   "execution_count": 56,
   "id": "56522e4d",
   "metadata": {},
   "outputs": [],
   "source": [
    "# Add fitted values to the DataFrame\n",
    "data_7_16_2025['Fitted Yield % OLS(NSS)'] = nelson_siegel_svensson_model(maturities, beta0, beta1, beta2, beta3, lambd1, lambd2)\n",
    "# round the fitted values to 3 decimal places\n",
    "data_7_16_2025['Fitted Yield % OLS(NSS)'] = data_7_16_2025['Fitted Yield % OLS(NSS)'].round(3)"
   ]
  },
  {
   "cell_type": "code",
   "execution_count": 57,
   "id": "45df1589",
   "metadata": {},
   "outputs": [
    {
     "data": {
      "image/png": "[encoded data removed]",
      "text/plain": [
       "<Figure size 1000x500 with 1 Axes>"
      ]
     },
     "metadata": {},
     "output_type": "display_data"
    }
   ],
   "source": [
    "#plotting  original yields, fitted , MLE fitted vs maturities\n",
    "plt.figure(figsize=(10, 5))\n",
    "plt.plot(data_7_16_2025['Maturity'], data_7_16_2025['Yield %'], marker='o',color = 'b', label='Observed Yield')\n",
    "plt.plot(data_7_16_2025['Maturity'], data_7_16_2025['Fitted Yield % OLS(NS)'], marker='x',color = 'r', linestyle='--', label='Fitted Yield using curve fitting',alpha=0.2)\n",
    "plt.plot(data_7_16_2025['Maturity'], data_7_16_2025['Fitted Yield % MLE (NS)'], marker='s',color = 'g', linestyle=':', label='Fitted Yield using MLE', alpha=0.2)\n",
    "plt.plot(data_7_16_2025['Maturity'], data_7_16_2025['Fitted Yield % OLS(NSS)'], marker='d', color='orange', linestyle='-.', label='Fitted Yield using OLS(NSS)')\n",
    "plt.title('Yield Curve Fitting using Nelson-Siegel Model')\n",
    "plt.xlabel('Maturity')\n",
    "plt.ylabel('Yield (%)')\n",
    "plt.xticks(rotation=45)\n",
    "plt.legend()\n",
    "plt.grid()\n",
    "plt.show()"
   ]
  },
  {
   "cell_type": "markdown",
   "id": "bc0fbfab",
   "metadata": {},
   "source": [
    "### Testing the data"
   ]
  },
  {
   "cell_type": "code",
   "execution_count": 58,
   "id": "8ae66411",
   "metadata": {},
   "outputs": [
    {
     "name": "stdout",
     "output_type": "stream",
     "text": [
      "Yields for specific maturities:\n",
      "Maturity: 0.08 years, Yield: 4.3986 %\n",
      "Maturity: 0.17 years, Yield: 4.4071 %\n",
      "Maturity: 0.25 years, Yield: 4.4012 %\n",
      "Maturity: 0.33 years, Yield: 4.3850 %\n",
      "Maturity: 0.42 years, Yield: 4.3615 %\n",
      "Maturity: 0.50 years, Yield: 4.3330 %\n",
      "Maturity: 0.58 years, Yield: 4.3015 %\n",
      "Maturity: 0.67 years, Yield: 4.2681 %\n",
      "Maturity: 0.75 years, Yield: 4.2340 %\n",
      "Maturity: 0.83 years, Yield: 4.1999 %\n",
      "Maturity: 0.92 years, Yield: 4.1664 %\n",
      "Maturity: 1.00 years, Yield: 4.1338 %\n",
      "Maturity: 2.00 years, Yield: 3.8713 %\n",
      "Maturity: 3.00 years, Yield: 3.8186 %\n",
      "Maturity: 4.00 years, Yield: 3.8797 %\n",
      "Maturity: 5.00 years, Yield: 3.9881 %\n",
      "Maturity: 6.00 years, Yield: 4.1090 %\n",
      "Maturity: 7.00 years, Yield: 4.2259 %\n",
      "Maturity: 8.00 years, Yield: 4.3321 %\n",
      "Maturity: 9.00 years, Yield: 4.4256 %\n",
      "Maturity: 10.00 years, Yield: 4.5068 %\n",
      "Maturity: 11.00 years, Yield: 4.5769 %\n",
      "Maturity: 12.00 years, Yield: 4.6374 %\n",
      "Maturity: 13.00 years, Yield: 4.6898 %\n",
      "Maturity: 14.00 years, Yield: 4.7355 %\n",
      "Maturity: 15.00 years, Yield: 4.7754 %\n",
      "Maturity: 16.00 years, Yield: 4.8106 %\n",
      "Maturity: 17.00 years, Yield: 4.8417 %\n",
      "Maturity: 18.00 years, Yield: 4.8695 %\n",
      "Maturity: 19.00 years, Yield: 4.8944 %\n",
      "Maturity: 20.00 years, Yield: 4.9168 %\n",
      "Maturity: 21.00 years, Yield: 4.9371 %\n",
      "Maturity: 22.00 years, Yield: 4.9555 %\n",
      "Maturity: 23.00 years, Yield: 4.9724 %\n",
      "Maturity: 24.00 years, Yield: 4.9878 %\n",
      "Maturity: 25.00 years, Yield: 5.0020 %\n",
      "Maturity: 26.00 years, Yield: 5.0151 %\n",
      "Maturity: 27.00 years, Yield: 5.0273 %\n",
      "Maturity: 28.00 years, Yield: 5.0386 %\n",
      "Maturity: 29.00 years, Yield: 5.0491 %\n",
      "Maturity: 30.00 years, Yield: 5.0589 %\n"
     ]
    }
   ],
   "source": [
    "# find the yeild for 1 Mo, 1.5 Mo, 2 Mo, 2.5 Mo, 3 Mo, 3.5 Mo, 4 Mo, 4.5 Mo, 5 Mo, 5.5 Mo, 6 Mo, 6.5 Mo, 7 Mo, 7.5 Mo, 8 Mo, 8.5 Mo, 9 Mo, 9.5 Mo, 10 Mo, 10.5 Mo, 11 Mo, 11.5 Mo, 12 Mo, 1 Yr, 2 Yr, 3 Yr, 4 Yr, 5 Yr, 6 Yr, 7 Yr, 8 Yr, 9 Yr, 10 Yr, 11 Yr, 12 Yr, 13 Yr, 14 Yr, 15 Yr, 16 Yr, 17 Yr, 18 Yr, 19 Yr, 20 Yr, 21 Yr, 22 Yr, 23 Yr, 24 Yr, 25 Yr, 26 Yr, 27 Yr, 28 Yr, 29 Yr, 30 Yr\n",
    "maturities_to_check = [1/12, 2/12, 3/12, 4/12,  5/12, 6/12,  7/12, 8/12, 9/12, 10/12, 11/12, 1, 2, 3, 4, 5, 6, 7, 8, 9, 10, 11, 12, 13, 14, 15, 16, 17, 18, 19, 20, 21, 22, 23, 24, 25, 26, 27, 28, 29, 30]\n",
    "yields_to_check = nelson_siegel_svensson_model(maturities_to_check, beta0, beta1, beta2, beta3, lambd1, lambd2)\n",
    "print(\"Yields for specific maturities:\")\n",
    "for maturity, yield_value in zip(maturities_to_check, yields_to_check):\n",
    "    print(f\"Maturity: {maturity:.2f} years, Yield: {yield_value:.4f} %\")"
   ]
  },
  {
   "cell_type": "code",
   "execution_count": 59,
   "id": "3749af6d",
   "metadata": {},
   "outputs": [],
   "source": [
    "# append this to the test_yields_df DataFrame\n",
    "test_yields_df['Yield % OLS (NSS)'] = yields_to_check"
   ]
  },
  {
   "cell_type": "code",
   "execution_count": 60,
   "id": "cbdeee4b",
   "metadata": {},
   "outputs": [
    {
     "data": {
      "text/html": [
       "<div>\n",
       "<style scoped>\n",
       "    .dataframe tbody tr th:only-of-type {\n",
       "        vertical-align: middle;\n",
       "    }\n",
       "\n",
       "    .dataframe tbody tr th {\n",
       "        vertical-align: top;\n",
       "    }\n",
       "\n",
       "    .dataframe thead th {\n",
       "        text-align: right;\n",
       "    }\n",
       "</style>\n",
       "<table border=\"1\" class=\"dataframe\">\n",
       "  <thead>\n",
       "    <tr style=\"text-align: right;\">\n",
       "      <th></th>\n",
       "      <th>Maturity (Years)</th>\n",
       "      <th>Yield % OLS (NS)</th>\n",
       "      <th>Yield % OLS (NSS)</th>\n",
       "    </tr>\n",
       "  </thead>\n",
       "  <tbody>\n",
       "    <tr>\n",
       "      <th>0</th>\n",
       "      <td>0.083333</td>\n",
       "      <td>4.468814</td>\n",
       "      <td>4.398567</td>\n",
       "    </tr>\n",
       "    <tr>\n",
       "      <th>1</th>\n",
       "      <td>0.166667</td>\n",
       "      <td>4.421879</td>\n",
       "      <td>4.407094</td>\n",
       "    </tr>\n",
       "    <tr>\n",
       "      <th>2</th>\n",
       "      <td>0.250000</td>\n",
       "      <td>4.377684</td>\n",
       "      <td>4.401222</td>\n",
       "    </tr>\n",
       "    <tr>\n",
       "      <th>3</th>\n",
       "      <td>0.333333</td>\n",
       "      <td>4.336110</td>\n",
       "      <td>4.384990</td>\n",
       "    </tr>\n",
       "    <tr>\n",
       "      <th>4</th>\n",
       "      <td>0.416667</td>\n",
       "      <td>4.297043</td>\n",
       "      <td>4.361481</td>\n",
       "    </tr>\n",
       "    <tr>\n",
       "      <th>5</th>\n",
       "      <td>0.500000</td>\n",
       "      <td>4.260371</td>\n",
       "      <td>4.333046</td>\n",
       "    </tr>\n",
       "    <tr>\n",
       "      <th>6</th>\n",
       "      <td>0.583333</td>\n",
       "      <td>4.225989</td>\n",
       "      <td>4.301472</td>\n",
       "    </tr>\n",
       "    <tr>\n",
       "      <th>7</th>\n",
       "      <td>0.666667</td>\n",
       "      <td>4.193795</td>\n",
       "      <td>4.268114</td>\n",
       "    </tr>\n",
       "    <tr>\n",
       "      <th>8</th>\n",
       "      <td>0.750000</td>\n",
       "      <td>4.163693</td>\n",
       "      <td>4.233998</td>\n",
       "    </tr>\n",
       "    <tr>\n",
       "      <th>9</th>\n",
       "      <td>0.833333</td>\n",
       "      <td>4.135588</td>\n",
       "      <td>4.199890</td>\n",
       "    </tr>\n",
       "    <tr>\n",
       "      <th>10</th>\n",
       "      <td>0.916667</td>\n",
       "      <td>4.109391</td>\n",
       "      <td>4.166363</td>\n",
       "    </tr>\n",
       "    <tr>\n",
       "      <th>11</th>\n",
       "      <td>1.000000</td>\n",
       "      <td>4.085016</td>\n",
       "      <td>4.133835</td>\n",
       "    </tr>\n",
       "    <tr>\n",
       "      <th>12</th>\n",
       "      <td>2.000000</td>\n",
       "      <td>3.907732</td>\n",
       "      <td>3.871283</td>\n",
       "    </tr>\n",
       "    <tr>\n",
       "      <th>13</th>\n",
       "      <td>3.000000</td>\n",
       "      <td>3.874936</td>\n",
       "      <td>3.818619</td>\n",
       "    </tr>\n",
       "    <tr>\n",
       "      <th>14</th>\n",
       "      <td>4.000000</td>\n",
       "      <td>3.919617</td>\n",
       "      <td>3.879672</td>\n",
       "    </tr>\n",
       "    <tr>\n",
       "      <th>15</th>\n",
       "      <td>5.000000</td>\n",
       "      <td>4.002265</td>\n",
       "      <td>3.988094</td>\n",
       "    </tr>\n",
       "    <tr>\n",
       "      <th>16</th>\n",
       "      <td>6.000000</td>\n",
       "      <td>4.100120</td>\n",
       "      <td>4.109005</td>\n",
       "    </tr>\n",
       "    <tr>\n",
       "      <th>17</th>\n",
       "      <td>7.000000</td>\n",
       "      <td>4.200520</td>\n",
       "      <td>4.225922</td>\n",
       "    </tr>\n",
       "    <tr>\n",
       "      <th>18</th>\n",
       "      <td>8.000000</td>\n",
       "      <td>4.296810</td>\n",
       "      <td>4.332088</td>\n",
       "    </tr>\n",
       "    <tr>\n",
       "      <th>19</th>\n",
       "      <td>9.000000</td>\n",
       "      <td>4.385844</td>\n",
       "      <td>4.425592</td>\n",
       "    </tr>\n",
       "    <tr>\n",
       "      <th>20</th>\n",
       "      <td>10.000000</td>\n",
       "      <td>4.466473</td>\n",
       "      <td>4.506772</td>\n",
       "    </tr>\n",
       "    <tr>\n",
       "      <th>21</th>\n",
       "      <td>11.000000</td>\n",
       "      <td>4.538635</td>\n",
       "      <td>4.576876</td>\n",
       "    </tr>\n",
       "    <tr>\n",
       "      <th>22</th>\n",
       "      <td>12.000000</td>\n",
       "      <td>4.602824</td>\n",
       "      <td>4.637411</td>\n",
       "    </tr>\n",
       "    <tr>\n",
       "      <th>23</th>\n",
       "      <td>13.000000</td>\n",
       "      <td>4.659778</td>\n",
       "      <td>4.689841</td>\n",
       "    </tr>\n",
       "    <tr>\n",
       "      <th>24</th>\n",
       "      <td>14.000000</td>\n",
       "      <td>4.710309</td>\n",
       "      <td>4.735468</td>\n",
       "    </tr>\n",
       "    <tr>\n",
       "      <th>25</th>\n",
       "      <td>15.000000</td>\n",
       "      <td>4.755213</td>\n",
       "      <td>4.775402</td>\n",
       "    </tr>\n",
       "    <tr>\n",
       "      <th>26</th>\n",
       "      <td>16.000000</td>\n",
       "      <td>4.795219</td>\n",
       "      <td>4.810564</td>\n",
       "    </tr>\n",
       "    <tr>\n",
       "      <th>27</th>\n",
       "      <td>17.000000</td>\n",
       "      <td>4.830981</td>\n",
       "      <td>4.841714</td>\n",
       "    </tr>\n",
       "    <tr>\n",
       "      <th>28</th>\n",
       "      <td>18.000000</td>\n",
       "      <td>4.863066</td>\n",
       "      <td>4.869474</td>\n",
       "    </tr>\n",
       "    <tr>\n",
       "      <th>29</th>\n",
       "      <td>19.000000</td>\n",
       "      <td>4.891965</td>\n",
       "      <td>4.894351</td>\n",
       "    </tr>\n",
       "    <tr>\n",
       "      <th>30</th>\n",
       "      <td>20.000000</td>\n",
       "      <td>4.918097</td>\n",
       "      <td>4.916763</td>\n",
       "    </tr>\n",
       "    <tr>\n",
       "      <th>31</th>\n",
       "      <td>21.000000</td>\n",
       "      <td>4.941819</td>\n",
       "      <td>4.937053</td>\n",
       "    </tr>\n",
       "    <tr>\n",
       "      <th>32</th>\n",
       "      <td>22.000000</td>\n",
       "      <td>4.963435</td>\n",
       "      <td>4.955505</td>\n",
       "    </tr>\n",
       "    <tr>\n",
       "      <th>33</th>\n",
       "      <td>23.000000</td>\n",
       "      <td>4.983203</td>\n",
       "      <td>4.972357</td>\n",
       "    </tr>\n",
       "    <tr>\n",
       "      <th>34</th>\n",
       "      <td>24.000000</td>\n",
       "      <td>5.001345</td>\n",
       "      <td>4.987806</td>\n",
       "    </tr>\n",
       "    <tr>\n",
       "      <th>35</th>\n",
       "      <td>25.000000</td>\n",
       "      <td>5.018049</td>\n",
       "      <td>5.002021</td>\n",
       "    </tr>\n",
       "    <tr>\n",
       "      <th>36</th>\n",
       "      <td>26.000000</td>\n",
       "      <td>5.033476</td>\n",
       "      <td>5.015143</td>\n",
       "    </tr>\n",
       "    <tr>\n",
       "      <th>37</th>\n",
       "      <td>27.000000</td>\n",
       "      <td>5.047766</td>\n",
       "      <td>5.027294</td>\n",
       "    </tr>\n",
       "    <tr>\n",
       "      <th>38</th>\n",
       "      <td>28.000000</td>\n",
       "      <td>5.061039</td>\n",
       "      <td>5.038577</td>\n",
       "    </tr>\n",
       "    <tr>\n",
       "      <th>39</th>\n",
       "      <td>29.000000</td>\n",
       "      <td>5.073399</td>\n",
       "      <td>5.049082</td>\n",
       "    </tr>\n",
       "    <tr>\n",
       "      <th>40</th>\n",
       "      <td>30.000000</td>\n",
       "      <td>5.084936</td>\n",
       "      <td>5.058886</td>\n",
       "    </tr>\n",
       "  </tbody>\n",
       "</table>\n",
       "</div>"
      ],
      "text/plain": [
       "    Maturity (Years)  Yield % OLS (NS)  Yield % OLS (NSS)\n",
       "0           0.083333          4.468814           4.398567\n",
       "1           0.166667          4.421879           4.407094\n",
       "2           0.250000          4.377684           4.401222\n",
       "3           0.333333          4.336110           4.384990\n",
       "4           0.416667          4.297043           4.361481\n",
       "5           0.500000          4.260371           4.333046\n",
       "6           0.583333          4.225989           4.301472\n",
       "7           0.666667          4.193795           4.268114\n",
       "8           0.750000          4.163693           4.233998\n",
       "9           0.833333          4.135588           4.199890\n",
       "10          0.916667          4.109391           4.166363\n",
       "11          1.000000          4.085016           4.133835\n",
       "12          2.000000          3.907732           3.871283\n",
       "13          3.000000          3.874936           3.818619\n",
       "14          4.000000          3.919617           3.879672\n",
       "15          5.000000          4.002265           3.988094\n",
       "16          6.000000          4.100120           4.109005\n",
       "17          7.000000          4.200520           4.225922\n",
       "18          8.000000          4.296810           4.332088\n",
       "19          9.000000          4.385844           4.425592\n",
       "20         10.000000          4.466473           4.506772\n",
       "21         11.000000          4.538635           4.576876\n",
       "22         12.000000          4.602824           4.637411\n",
       "23         13.000000          4.659778           4.689841\n",
       "24         14.000000          4.710309           4.735468\n",
       "25         15.000000          4.755213           4.775402\n",
       "26         16.000000          4.795219           4.810564\n",
       "27         17.000000          4.830981           4.841714\n",
       "28         18.000000          4.863066           4.869474\n",
       "29         19.000000          4.891965           4.894351\n",
       "30         20.000000          4.918097           4.916763\n",
       "31         21.000000          4.941819           4.937053\n",
       "32         22.000000          4.963435           4.955505\n",
       "33         23.000000          4.983203           4.972357\n",
       "34         24.000000          5.001345           4.987806\n",
       "35         25.000000          5.018049           5.002021\n",
       "36         26.000000          5.033476           5.015143\n",
       "37         27.000000          5.047766           5.027294\n",
       "38         28.000000          5.061039           5.038577\n",
       "39         29.000000          5.073399           5.049082\n",
       "40         30.000000          5.084936           5.058886"
      ]
     },
     "execution_count": 60,
     "metadata": {},
     "output_type": "execute_result"
    }
   ],
   "source": [
    "test_yields_df"
   ]
  },
  {
   "cell_type": "code",
   "execution_count": 61,
   "id": "f9d84600",
   "metadata": {},
   "outputs": [
    {
     "data": {
      "image/png": "[encoded data removed]",
      "text/plain": [
       "<Figure size 1000x500 with 1 Axes>"
      ]
     },
     "metadata": {},
     "output_type": "display_data"
    }
   ],
   "source": [
    "# plot the test yields with yields number on each point with equal spacing and the values not clashing on each other\n",
    "plt.figure(figsize=(10, 5))\n",
    "plt.plot(maturities_to_check, yields_to_check, marker='o', label='Test Yields')\n",
    "\n",
    "plt.title('Test Yields for Specific Maturities')\n",
    "plt.xlabel('Maturity (Years)')\n",
    "plt.ylabel('Yield (%)')\n",
    "plt.xticks(rotation=45)\n",
    "plt.legend()\n",
    "plt.grid()\n",
    "plt.tight_layout()\n",
    "plt.show()"
   ]
  },
  {
   "cell_type": "code",
   "execution_count": 62,
   "id": "a377132a",
   "metadata": {},
   "outputs": [
    {
     "data": {
      "application/vnd.plotly.v1+json": {
       "config": {
        "plotlyServerURL": "https://plot.ly"
       },
       "data": [
        {
         "marker": {
          "size": 8
         },
         "mode": "markers+lines",
         "name": "Test Yields",
         "type": "scatter",
         "x": [
          0.08333333333333333,
          0.16666666666666666,
          0.25,
          0.3333333333333333,
          0.4166666666666667,
          0.5,
          0.5833333333333334,
          0.6666666666666666,
          0.75,
          0.8333333333333334,
          0.9166666666666666,
          1,
          2,
          3,
          4,
          5,
          6,
          7,
          8,
          9,
          10,
          11,
          12,
          13,
          14,
          15,
          16,
          17,
          18,
          19,
          20,
          21,
          22,
          23,
          24,
          25,
          26,
          27,
          28,
          29,
          30
         ],
         "y": [
          4.398566766732043,
          4.407093942562176,
          4.401221744407315,
          4.384989981323456,
          4.361481468729374,
          4.333046131574386,
          4.301471765468628,
          4.268114383658629,
          4.233997896528055,
          4.199890481607877,
          4.1663632064707645,
          4.133835115539517,
          3.871283315632109,
          3.8186191660932396,
          3.8796721029277332,
          3.9880936497850907,
          4.109004850395169,
          4.225921987454976,
          4.332087567162204,
          4.42559184690705,
          4.50677177090223,
          4.576876242678486,
          4.637411401397907,
          4.689841257429736,
          4.735468362055047,
          4.775401746124681,
          4.810564152183267,
          4.841714495586185,
          4.869474032677648,
          4.8943511467046195,
          4.916762856685523,
          4.937052662467092,
          4.9555049893426135,
          4.972356724367622,
          4.987806369681179,
          5.002021289560937,
          5.015143452824672,
          5.0272939956510685,
          5.038576862011417,
          5.049081722581024,
          5.058886327949182
         ]
        }
       ],
       "layout": {
        "height": 400,
        "legend": {
         "x": 0.01,
         "y": 0.99
        },
        "template": {
         "data": {
          "bar": [
           {
            "error_x": {
             "color": "#f2f5fa"
            },
            "error_y": {
             "color": "#f2f5fa"
            },
            "marker": {
             "line": {
              "color": "rgb(17,17,17)",
              "width": 0.5
             },
             "pattern": {
              "fillmode": "overlay",
              "size": 10,
              "solidity": 0.2
             }
            },
            "type": "bar"
           }
          ],
          "barpolar": [
           {
            "marker": {
             "line": {
              "color": "rgb(17,17,17)",
              "width": 0.5
             },
             "pattern": {
              "fillmode": "overlay",
              "size": 10,
              "solidity": 0.2
             }
            },
            "type": "barpolar"
           }
          ],
          "carpet": [
           {
            "aaxis": {
             "endlinecolor": "#A2B1C6",
             "gridcolor": "#506784",
             "linecolor": "#506784",
             "minorgridcolor": "#506784",
             "startlinecolor": "#A2B1C6"
            },
            "baxis": {
             "endlinecolor": "#A2B1C6",
             "gridcolor": "#506784",
             "linecolor": "#506784",
             "minorgridcolor": "#506784",
             "startlinecolor": "#A2B1C6"
            },
            "type": "carpet"
           }
          ],
          "choropleth": [
           {
            "colorbar": {
             "outlinewidth": 0,
             "ticks": ""
            },
            "type": "choropleth"
           }
          ],
          "contour": [
           {
            "colorbar": {
             "outlinewidth": 0,
             "ticks": ""
            },
            "colorscale": [
             [
              0,
              "#0d0887"
             ],
             [
              0.1111111111111111,
              "#46039f"
             ],
             [
              0.2222222222222222,
              "#7201a8"
             ],
             [
              0.3333333333333333,
              "#9c179e"
             ],
             [
              0.4444444444444444,
              "#bd3786"
             ],
             [
              0.5555555555555556,
              "#d8576b"
             ],
             [
              0.6666666666666666,
              "#ed7953"
             ],
             [
              0.7777777777777778,
              "#fb9f3a"
             ],
             [
              0.8888888888888888,
              "#fdca26"
             ],
             [
              1,
              "#f0f921"
             ]
            ],
            "type": "contour"
           }
          ],
          "contourcarpet": [
           {
            "colorbar": {
             "outlinewidth": 0,
             "ticks": ""
            },
            "type": "contourcarpet"
           }
          ],
          "heatmap": [
           {
            "colorbar": {
             "outlinewidth": 0,
             "ticks": ""
            },
            "colorscale": [
             [
              0,
              "#0d0887"
             ],
             [
              0.1111111111111111,
              "#46039f"
             ],
             [
              0.2222222222222222,
              "#7201a8"
             ],
             [
              0.3333333333333333,
              "#9c179e"
             ],
             [
              0.4444444444444444,
              "#bd3786"
             ],
             [
              0.5555555555555556,
              "#d8576b"
             ],
             [
              0.6666666666666666,
              "#ed7953"
             ],
             [
              0.7777777777777778,
              "#fb9f3a"
             ],
             [
              0.8888888888888888,
              "#fdca26"
             ],
             [
              1,
              "#f0f921"
             ]
            ],
            "type": "heatmap"
           }
          ],
          "heatmapgl": [
           {
            "colorbar": {
             "outlinewidth": 0,
             "ticks": ""
            },
            "colorscale": [
             [
              0,
              "#0d0887"
             ],
             [
              0.1111111111111111,
              "#46039f"
             ],
             [
              0.2222222222222222,
              "#7201a8"
             ],
             [
              0.3333333333333333,
              "#9c179e"
             ],
             [
              0.4444444444444444,
              "#bd3786"
             ],
             [
              0.5555555555555556,
              "#d8576b"
             ],
             [
              0.6666666666666666,
              "#ed7953"
             ],
             [
              0.7777777777777778,
              "#fb9f3a"
             ],
             [
              0.8888888888888888,
              "#fdca26"
             ],
             [
              1,
              "#f0f921"
             ]
            ],
            "type": "heatmapgl"
           }
          ],
          "histogram": [
           {
            "marker": {
             "pattern": {
              "fillmode": "overlay",
              "size": 10,
              "solidity": 0.2
             }
            },
            "type": "histogram"
           }
          ],
          "histogram2d": [
           {
            "colorbar": {
             "outlinewidth": 0,
             "ticks": ""
            },
            "colorscale": [
             [
              0,
              "#0d0887"
             ],
             [
              0.1111111111111111,
              "#46039f"
             ],
             [
              0.2222222222222222,
              "#7201a8"
             ],
             [
              0.3333333333333333,
              "#9c179e"
             ],
             [
              0.4444444444444444,
              "#bd3786"
             ],
             [
              0.5555555555555556,
              "#d8576b"
             ],
             [
              0.6666666666666666,
              "#ed7953"
             ],
             [
              0.7777777777777778,
              "#fb9f3a"
             ],
             [
              0.8888888888888888,
              "#fdca26"
             ],
             [
              1,
              "#f0f921"
             ]
            ],
            "type": "histogram2d"
           }
          ],
          "histogram2dcontour": [
           {
            "colorbar": {
             "outlinewidth": 0,
             "ticks": ""
            },
            "colorscale": [
             [
              0,
              "#0d0887"
             ],
             [
              0.1111111111111111,
              "#46039f"
             ],
             [
              0.2222222222222222,
              "#7201a8"
             ],
             [
              0.3333333333333333,
              "#9c179e"
             ],
             [
              0.4444444444444444,
              "#bd3786"
             ],
             [
              0.5555555555555556,
              "#d8576b"
             ],
             [
              0.6666666666666666,
              "#ed7953"
             ],
             [
              0.7777777777777778,
              "#fb9f3a"
             ],
             [
              0.8888888888888888,
              "#fdca26"
             ],
             [
              1,
              "#f0f921"
             ]
            ],
            "type": "histogram2dcontour"
           }
          ],
          "mesh3d": [
           {
            "colorbar": {
             "outlinewidth": 0,
             "ticks": ""
            },
            "type": "mesh3d"
           }
          ],
          "parcoords": [
           {
            "line": {
             "colorbar": {
              "outlinewidth": 0,
              "ticks": ""
             }
            },
            "type": "parcoords"
           }
          ],
          "pie": [
           {
            "automargin": true,
            "type": "pie"
           }
          ],
          "scatter": [
           {
            "marker": {
             "line": {
              "color": "#283442"
             }
            },
            "type": "scatter"
           }
          ],
          "scatter3d": [
           {
            "line": {
             "colorbar": {
              "outlinewidth": 0,
              "ticks": ""
             }
            },
            "marker": {
             "colorbar": {
              "outlinewidth": 0,
              "ticks": ""
             }
            },
            "type": "scatter3d"
           }
          ],
          "scattercarpet": [
           {
            "marker": {
             "colorbar": {
              "outlinewidth": 0,
              "ticks": ""
             }
            },
            "type": "scattercarpet"
           }
          ],
          "scattergeo": [
           {
            "marker": {
             "colorbar": {
              "outlinewidth": 0,
              "ticks": ""
             }
            },
            "type": "scattergeo"
           }
          ],
          "scattergl": [
           {
            "marker": {
             "line": {
              "color": "#283442"
             }
            },
            "type": "scattergl"
           }
          ],
          "scattermapbox": [
           {
            "marker": {
             "colorbar": {
              "outlinewidth": 0,
              "ticks": ""
             }
            },
            "type": "scattermapbox"
           }
          ],
          "scatterpolar": [
           {
            "marker": {
             "colorbar": {
              "outlinewidth": 0,
              "ticks": ""
             }
            },
            "type": "scatterpolar"
           }
          ],
          "scatterpolargl": [
           {
            "marker": {
             "colorbar": {
              "outlinewidth": 0,
              "ticks": ""
             }
            },
            "type": "scatterpolargl"
           }
          ],
          "scatterternary": [
           {
            "marker": {
             "colorbar": {
              "outlinewidth": 0,
              "ticks": ""
             }
            },
            "type": "scatterternary"
           }
          ],
          "surface": [
           {
            "colorbar": {
             "outlinewidth": 0,
             "ticks": ""
            },
            "colorscale": [
             [
              0,
              "#0d0887"
             ],
             [
              0.1111111111111111,
              "#46039f"
             ],
             [
              0.2222222222222222,
              "#7201a8"
             ],
             [
              0.3333333333333333,
              "#9c179e"
             ],
             [
              0.4444444444444444,
              "#bd3786"
             ],
             [
              0.5555555555555556,
              "#d8576b"
             ],
             [
              0.6666666666666666,
              "#ed7953"
             ],
             [
              0.7777777777777778,
              "#fb9f3a"
             ],
             [
              0.8888888888888888,
              "#fdca26"
             ],
             [
              1,
              "#f0f921"
             ]
            ],
            "type": "surface"
           }
          ],
          "table": [
           {
            "cells": {
             "fill": {
              "color": "#506784"
             },
             "line": {
              "color": "rgb(17,17,17)"
             }
            },
            "header": {
             "fill": {
              "color": "#2a3f5f"
             },
             "line": {
              "color": "rgb(17,17,17)"
             }
            },
            "type": "table"
           }
          ]
         },
         "layout": {
          "annotationdefaults": {
           "arrowcolor": "#f2f5fa",
           "arrowhead": 0,
           "arrowwidth": 1
          },
          "autotypenumbers": "strict",
          "coloraxis": {
           "colorbar": {
            "outlinewidth": 0,
            "ticks": ""
           }
          },
          "colorscale": {
           "diverging": [
            [
             0,
             "#8e0152"
            ],
            [
             0.1,
             "#c51b7d"
            ],
            [
             0.2,
             "#de77ae"
            ],
            [
             0.3,
             "#f1b6da"
            ],
            [
             0.4,
             "#fde0ef"
            ],
            [
             0.5,
             "#f7f7f7"
            ],
            [
             0.6,
             "#e6f5d0"
            ],
            [
             0.7,
             "#b8e186"
            ],
            [
             0.8,
             "#7fbc41"
            ],
            [
             0.9,
             "#4d9221"
            ],
            [
             1,
             "#276419"
            ]
           ],
           "sequential": [
            [
             0,
             "#0d0887"
            ],
            [
             0.1111111111111111,
             "#46039f"
            ],
            [
             0.2222222222222222,
             "#7201a8"
            ],
            [
             0.3333333333333333,
             "#9c179e"
            ],
            [
             0.4444444444444444,
             "#bd3786"
            ],
            [
             0.5555555555555556,
             "#d8576b"
            ],
            [
             0.6666666666666666,
             "#ed7953"
            ],
            [
             0.7777777777777778,
             "#fb9f3a"
            ],
            [
             0.8888888888888888,
             "#fdca26"
            ],
            [
             1,
             "#f0f921"
            ]
           ],
           "sequentialminus": [
            [
             0,
             "#0d0887"
            ],
            [
             0.1111111111111111,
             "#46039f"
            ],
            [
             0.2222222222222222,
             "#7201a8"
            ],
            [
             0.3333333333333333,
             "#9c179e"
            ],
            [
             0.4444444444444444,
             "#bd3786"
            ],
            [
             0.5555555555555556,
             "#d8576b"
            ],
            [
             0.6666666666666666,
             "#ed7953"
            ],
            [
             0.7777777777777778,
             "#fb9f3a"
            ],
            [
             0.8888888888888888,
             "#fdca26"
            ],
            [
             1,
             "#f0f921"
            ]
           ]
          },
          "colorway": [
           "#636efa",
           "#EF553B",
           "#00cc96",
           "#ab63fa",
           "#FFA15A",
           "#19d3f3",
           "#FF6692",
           "#B6E880",
           "#FF97FF",
           "#FECB52"
          ],
          "font": {
           "color": "#f2f5fa"
          },
          "geo": {
           "bgcolor": "rgb(17,17,17)",
           "lakecolor": "rgb(17,17,17)",
           "landcolor": "rgb(17,17,17)",
           "showlakes": true,
           "showland": true,
           "subunitcolor": "#506784"
          },
          "hoverlabel": {
           "align": "left"
          },
          "hovermode": "closest",
          "mapbox": {
           "style": "dark"
          },
          "paper_bgcolor": "rgb(17,17,17)",
          "plot_bgcolor": "rgb(17,17,17)",
          "polar": {
           "angularaxis": {
            "gridcolor": "#506784",
            "linecolor": "#506784",
            "ticks": ""
           },
           "bgcolor": "rgb(17,17,17)",
           "radialaxis": {
            "gridcolor": "#506784",
            "linecolor": "#506784",
            "ticks": ""
           }
          },
          "scene": {
           "xaxis": {
            "backgroundcolor": "rgb(17,17,17)",
            "gridcolor": "#506784",
            "gridwidth": 2,
            "linecolor": "#506784",
            "showbackground": true,
            "ticks": "",
            "zerolinecolor": "#C8D4E3"
           },
           "yaxis": {
            "backgroundcolor": "rgb(17,17,17)",
            "gridcolor": "#506784",
            "gridwidth": 2,
            "linecolor": "#506784",
            "showbackground": true,
            "ticks": "",
            "zerolinecolor": "#C8D4E3"
           },
           "zaxis": {
            "backgroundcolor": "rgb(17,17,17)",
            "gridcolor": "#506784",
            "gridwidth": 2,
            "linecolor": "#506784",
            "showbackground": true,
            "ticks": "",
            "zerolinecolor": "#C8D4E3"
           }
          },
          "shapedefaults": {
           "line": {
            "color": "#f2f5fa"
           }
          },
          "sliderdefaults": {
           "bgcolor": "#C8D4E3",
           "bordercolor": "rgb(17,17,17)",
           "borderwidth": 1,
           "tickwidth": 0
          },
          "ternary": {
           "aaxis": {
            "gridcolor": "#506784",
            "linecolor": "#506784",
            "ticks": ""
           },
           "baxis": {
            "gridcolor": "#506784",
            "linecolor": "#506784",
            "ticks": ""
           },
           "bgcolor": "rgb(17,17,17)",
           "caxis": {
            "gridcolor": "#506784",
            "linecolor": "#506784",
            "ticks": ""
           }
          },
          "title": {
           "x": 0.05
          },
          "updatemenudefaults": {
           "bgcolor": "#506784",
           "borderwidth": 0
          },
          "xaxis": {
           "automargin": true,
           "gridcolor": "#283442",
           "linecolor": "#506784",
           "ticks": "",
           "title": {
            "standoff": 15
           },
           "zerolinecolor": "#283442",
           "zerolinewidth": 2
          },
          "yaxis": {
           "automargin": true,
           "gridcolor": "#283442",
           "linecolor": "#506784",
           "ticks": "",
           "title": {
            "standoff": 15
           },
           "zerolinecolor": "#283442",
           "zerolinewidth": 2
          }
         }
        },
        "title": {
         "text": "Test Yields for Specific Maturities"
        },
        "width": 900,
        "xaxis": {
         "tickangle": 45,
         "title": {
          "text": "Maturity (Years)"
         }
        },
        "yaxis": {
         "title": {
          "text": "Yield (%)"
         }
        }
       }
      }
     },
     "metadata": {},
     "output_type": "display_data"
    }
   ],
   "source": [
    "import plotly.graph_objects as go\n",
    "\n",
    "fig = go.Figure()\n",
    "fig.add_trace(go.Scatter(\n",
    "    x=maturities_to_check,\n",
    "    y=yields_to_check,\n",
    "    mode='markers+lines',\n",
    "    name='Test Yields',\n",
    "    marker=dict(size=8)\n",
    "))\n",
    "\n",
    "fig.update_layout(\n",
    "    title='Test Yields for Specific Maturities',\n",
    "    xaxis_title='Maturity (Years)',\n",
    "    yaxis_title='Yield (%)',\n",
    "    xaxis=dict(tickangle=45),\n",
    "    legend=dict(x=0.01, y=0.99),\n",
    "    template='plotly_dark',  # <-- set background to black\n",
    "    width=900,\n",
    "    height=400\n",
    ")"
   ]
  },
  {
   "cell_type": "markdown",
   "id": "391dd1a4",
   "metadata": {},
   "source": [
    "## Linear Interpolation"
   ]
  },
  {
   "cell_type": "code",
   "execution_count": 63,
   "id": "aca81b18",
   "metadata": {},
   "outputs": [
    {
     "data": {
      "text/html": [
       "<div>\n",
       "<style scoped>\n",
       "    .dataframe tbody tr th:only-of-type {\n",
       "        vertical-align: middle;\n",
       "    }\n",
       "\n",
       "    .dataframe tbody tr th {\n",
       "        vertical-align: top;\n",
       "    }\n",
       "\n",
       "    .dataframe thead th {\n",
       "        text-align: right;\n",
       "    }\n",
       "</style>\n",
       "<table border=\"1\" class=\"dataframe\">\n",
       "  <thead>\n",
       "    <tr style=\"text-align: right;\">\n",
       "      <th></th>\n",
       "      <th>Maturity</th>\n",
       "      <th>Yield %</th>\n",
       "      <th>Maturity (Years)</th>\n",
       "      <th>Fitted Yield % OLS(NS)</th>\n",
       "      <th>Fitted Yield % MLE (NS)</th>\n",
       "      <th>Fitted Yield % OLS(NSS)</th>\n",
       "    </tr>\n",
       "  </thead>\n",
       "  <tbody>\n",
       "    <tr>\n",
       "      <th>0</th>\n",
       "      <td>1 Mo</td>\n",
       "      <td>4.36</td>\n",
       "      <td>0.083</td>\n",
       "      <td>4.469</td>\n",
       "      <td>4.469</td>\n",
       "      <td>4.398</td>\n",
       "    </tr>\n",
       "    <tr>\n",
       "      <th>1</th>\n",
       "      <td>1.5 Mo</td>\n",
       "      <td>4.4</td>\n",
       "      <td>0.125</td>\n",
       "      <td>4.445</td>\n",
       "      <td>4.445</td>\n",
       "      <td>4.405</td>\n",
       "    </tr>\n",
       "    <tr>\n",
       "      <th>2</th>\n",
       "      <td>2 Mo</td>\n",
       "      <td>4.45</td>\n",
       "      <td>0.167</td>\n",
       "      <td>4.422</td>\n",
       "      <td>4.422</td>\n",
       "      <td>4.407</td>\n",
       "    </tr>\n",
       "    <tr>\n",
       "      <th>3</th>\n",
       "      <td>3 Mo</td>\n",
       "      <td>4.41</td>\n",
       "      <td>0.250</td>\n",
       "      <td>4.378</td>\n",
       "      <td>4.378</td>\n",
       "      <td>4.401</td>\n",
       "    </tr>\n",
       "    <tr>\n",
       "      <th>4</th>\n",
       "      <td>4 Mo</td>\n",
       "      <td>4.42</td>\n",
       "      <td>0.333</td>\n",
       "      <td>4.336</td>\n",
       "      <td>4.336</td>\n",
       "      <td>4.385</td>\n",
       "    </tr>\n",
       "    <tr>\n",
       "      <th>5</th>\n",
       "      <td>6 Mo</td>\n",
       "      <td>4.31</td>\n",
       "      <td>0.500</td>\n",
       "      <td>4.260</td>\n",
       "      <td>4.260</td>\n",
       "      <td>4.333</td>\n",
       "    </tr>\n",
       "    <tr>\n",
       "      <th>6</th>\n",
       "      <td>1 Yr</td>\n",
       "      <td>4.08</td>\n",
       "      <td>1.000</td>\n",
       "      <td>4.085</td>\n",
       "      <td>4.085</td>\n",
       "      <td>4.134</td>\n",
       "    </tr>\n",
       "    <tr>\n",
       "      <th>7</th>\n",
       "      <td>2 Yr</td>\n",
       "      <td>3.88</td>\n",
       "      <td>2.000</td>\n",
       "      <td>3.908</td>\n",
       "      <td>3.908</td>\n",
       "      <td>3.871</td>\n",
       "    </tr>\n",
       "    <tr>\n",
       "      <th>8</th>\n",
       "      <td>3 Yr</td>\n",
       "      <td>3.86</td>\n",
       "      <td>3.000</td>\n",
       "      <td>3.875</td>\n",
       "      <td>3.875</td>\n",
       "      <td>3.819</td>\n",
       "    </tr>\n",
       "    <tr>\n",
       "      <th>9</th>\n",
       "      <td>5 Yr</td>\n",
       "      <td>3.99</td>\n",
       "      <td>5.000</td>\n",
       "      <td>4.002</td>\n",
       "      <td>4.002</td>\n",
       "      <td>3.988</td>\n",
       "    </tr>\n",
       "    <tr>\n",
       "      <th>10</th>\n",
       "      <td>7 Yr</td>\n",
       "      <td>4.21</td>\n",
       "      <td>7.000</td>\n",
       "      <td>4.201</td>\n",
       "      <td>4.201</td>\n",
       "      <td>4.226</td>\n",
       "    </tr>\n",
       "    <tr>\n",
       "      <th>11</th>\n",
       "      <td>10 Yr</td>\n",
       "      <td>4.46</td>\n",
       "      <td>10.000</td>\n",
       "      <td>4.466</td>\n",
       "      <td>4.466</td>\n",
       "      <td>4.507</td>\n",
       "    </tr>\n",
       "    <tr>\n",
       "      <th>12</th>\n",
       "      <td>20 Yr</td>\n",
       "      <td>5.01</td>\n",
       "      <td>20.000</td>\n",
       "      <td>4.918</td>\n",
       "      <td>4.918</td>\n",
       "      <td>4.917</td>\n",
       "    </tr>\n",
       "    <tr>\n",
       "      <th>13</th>\n",
       "      <td>30 Yr</td>\n",
       "      <td>5.01</td>\n",
       "      <td>30.000</td>\n",
       "      <td>5.085</td>\n",
       "      <td>5.085</td>\n",
       "      <td>5.059</td>\n",
       "    </tr>\n",
       "  </tbody>\n",
       "</table>\n",
       "</div>"
      ],
      "text/plain": [
       "   Maturity Yield %  Maturity (Years)  Fitted Yield % OLS(NS)  \\\n",
       "0      1 Mo    4.36             0.083                   4.469   \n",
       "1    1.5 Mo     4.4             0.125                   4.445   \n",
       "2      2 Mo    4.45             0.167                   4.422   \n",
       "3      3 Mo    4.41             0.250                   4.378   \n",
       "4      4 Mo    4.42             0.333                   4.336   \n",
       "5      6 Mo    4.31             0.500                   4.260   \n",
       "6      1 Yr    4.08             1.000                   4.085   \n",
       "7      2 Yr    3.88             2.000                   3.908   \n",
       "8      3 Yr    3.86             3.000                   3.875   \n",
       "9      5 Yr    3.99             5.000                   4.002   \n",
       "10     7 Yr    4.21             7.000                   4.201   \n",
       "11    10 Yr    4.46            10.000                   4.466   \n",
       "12    20 Yr    5.01            20.000                   4.918   \n",
       "13    30 Yr    5.01            30.000                   5.085   \n",
       "\n",
       "    Fitted Yield % MLE (NS)  Fitted Yield % OLS(NSS)  \n",
       "0                     4.469                    4.398  \n",
       "1                     4.445                    4.405  \n",
       "2                     4.422                    4.407  \n",
       "3                     4.378                    4.401  \n",
       "4                     4.336                    4.385  \n",
       "5                     4.260                    4.333  \n",
       "6                     4.085                    4.134  \n",
       "7                     3.908                    3.871  \n",
       "8                     3.875                    3.819  \n",
       "9                     4.002                    3.988  \n",
       "10                    4.201                    4.226  \n",
       "11                    4.466                    4.507  \n",
       "12                    4.918                    4.917  \n",
       "13                    5.085                    5.059  "
      ]
     },
     "execution_count": 63,
     "metadata": {},
     "output_type": "execute_result"
    }
   ],
   "source": [
    "data_7_16_2025"
   ]
  },
  {
   "cell_type": "code",
   "execution_count": 64,
   "id": "1c02cf09",
   "metadata": {},
   "outputs": [],
   "source": [
    "maturities = np.array([data_7_16_2025[\"Maturity (Years)\"].values]).flatten()\n",
    "yields = np.array([data_7_16_2025[\"Yield %\"].values]).flatten()"
   ]
  },
  {
   "cell_type": "code",
   "execution_count": 65,
   "id": "c25582a8",
   "metadata": {},
   "outputs": [
    {
     "name": "stdout",
     "output_type": "stream",
     "text": [
      "Interpolation Results:\n",
      "Maturity: 0.0833 years -> Interpolated Yield: 4.3603%\n",
      "Maturity: 0.1667 years -> Interpolated Yield: 4.4496%\n",
      "Maturity: 0.2500 years -> Interpolated Yield: 4.4100%\n",
      "Maturity: 0.3333 years -> Interpolated Yield: 4.4198%\n",
      "Maturity: 0.4167 years -> Interpolated Yield: 4.3649%\n",
      "Maturity: 0.5000 years -> Interpolated Yield: 4.3100%\n",
      "Maturity: 0.5833 years -> Interpolated Yield: 4.2717%\n",
      "Maturity: 0.6667 years -> Interpolated Yield: 4.2333%\n",
      "Maturity: 0.7500 years -> Interpolated Yield: 4.1950%\n",
      "Maturity: 0.8333 years -> Interpolated Yield: 4.1567%\n",
      "Maturity: 0.9167 years -> Interpolated Yield: 4.1183%\n",
      "Maturity: 1.0000 years -> Interpolated Yield: 4.0800%\n",
      "Maturity: 2.0000 years -> Interpolated Yield: 3.8800%\n",
      "Maturity: 3.0000 years -> Interpolated Yield: 3.8600%\n",
      "Maturity: 4.0000 years -> Interpolated Yield: 3.9250%\n",
      "Maturity: 5.0000 years -> Interpolated Yield: 3.9900%\n",
      "Maturity: 6.0000 years -> Interpolated Yield: 4.1000%\n",
      "Maturity: 7.0000 years -> Interpolated Yield: 4.2100%\n",
      "Maturity: 8.0000 years -> Interpolated Yield: 4.2933%\n",
      "Maturity: 9.0000 years -> Interpolated Yield: 4.3767%\n",
      "Maturity: 10.0000 years -> Interpolated Yield: 4.4600%\n",
      "Maturity: 11.0000 years -> Interpolated Yield: 4.5150%\n",
      "Maturity: 12.0000 years -> Interpolated Yield: 4.5700%\n",
      "Maturity: 13.0000 years -> Interpolated Yield: 4.6250%\n",
      "Maturity: 14.0000 years -> Interpolated Yield: 4.6800%\n",
      "Maturity: 15.0000 years -> Interpolated Yield: 4.7350%\n",
      "Maturity: 16.0000 years -> Interpolated Yield: 4.7900%\n",
      "Maturity: 17.0000 years -> Interpolated Yield: 4.8450%\n",
      "Maturity: 18.0000 years -> Interpolated Yield: 4.9000%\n",
      "Maturity: 19.0000 years -> Interpolated Yield: 4.9550%\n",
      "Maturity: 20.0000 years -> Interpolated Yield: 5.0100%\n",
      "Maturity: 21.0000 years -> Interpolated Yield: 5.0100%\n",
      "Maturity: 22.0000 years -> Interpolated Yield: 5.0100%\n",
      "Maturity: 23.0000 years -> Interpolated Yield: 5.0100%\n",
      "Maturity: 24.0000 years -> Interpolated Yield: 5.0100%\n",
      "Maturity: 25.0000 years -> Interpolated Yield: 5.0100%\n",
      "Maturity: 26.0000 years -> Interpolated Yield: 5.0100%\n",
      "Maturity: 27.0000 years -> Interpolated Yield: 5.0100%\n",
      "Maturity: 28.0000 years -> Interpolated Yield: 5.0100%\n",
      "Maturity: 29.0000 years -> Interpolated Yield: 5.0100%\n",
      "Maturity: 30.0000 years -> Interpolated Yield: 5.0100%\n"
     ]
    }
   ],
   "source": [
    "# Extract data from your DataFrame and convert to clean arrays\n",
    "maturities = np.asarray(data_7_16_2025[\"Maturity (Years)\"].values, dtype=float).flatten()\n",
    "yields = np.asarray(data_7_16_2025[\"Yield %\"].values, dtype=float).flatten()\n",
    "\n",
    "maturities_to_interpolate = [1/12, 2/12, 3/12, 4/12,  5/12, 6/12,  7/12, 8/12, 9/12, 10/12, 11/12, 1, 2, 3, 4, 5, 6, 7, 8, 9, 10, \n",
    "                       11, 12, 13, 14, 15, 16, 17, 18, 19, 20, 21, 22, 23, 24, 25, 26, 27, 28, 29, 30]\n",
    "\n",
    "# Interpolate yields for the desired maturities\n",
    "interpolated_yields = np.interp(maturities_to_interpolate, maturities, yields)\n",
    "\n",
    "# Display results\n",
    "print(\"Interpolation Results:\")\n",
    "for i, (m, y) in enumerate(zip(maturities_to_interpolate, interpolated_yields)):\n",
    "    print(f\"Maturity: {m:.4f} years -> Interpolated Yield: {y:.4f}%\")"
   ]
  },
  {
   "cell_type": "code",
   "execution_count": 66,
   "id": "d1566c7a",
   "metadata": {},
   "outputs": [
    {
     "name": "stdout",
     "output_type": "stream",
     "text": [
      "Maturity: 0.4167 years -> Interpolated Yield: 4.3649%\n",
      "Maturity: 0.5833 years -> Interpolated Yield: 4.2717%\n",
      "Maturity: 0.6667 years -> Interpolated Yield: 4.2333%\n",
      "Maturity: 0.7500 years -> Interpolated Yield: 4.1950%\n",
      "Maturity: 0.8333 years -> Interpolated Yield: 4.1567%\n",
      "Maturity: 0.9167 years -> Interpolated Yield: 4.1183%\n",
      "Maturity: 4.0000 years -> Interpolated Yield: 3.9250%\n",
      "Maturity: 6.0000 years -> Interpolated Yield: 4.1000%\n",
      "Maturity: 8.0000 years -> Interpolated Yield: 4.2933%\n",
      "Maturity: 9.0000 years -> Interpolated Yield: 4.3767%\n",
      "Maturity: 11.0000 years -> Interpolated Yield: 4.5150%\n",
      "Maturity: 12.0000 years -> Interpolated Yield: 4.5700%\n",
      "Maturity: 13.0000 years -> Interpolated Yield: 4.6250%\n",
      "Maturity: 14.0000 years -> Interpolated Yield: 4.6800%\n",
      "Maturity: 15.0000 years -> Interpolated Yield: 4.7350%\n",
      "Maturity: 16.0000 years -> Interpolated Yield: 4.7900%\n",
      "Maturity: 17.0000 years -> Interpolated Yield: 4.8450%\n",
      "Maturity: 18.0000 years -> Interpolated Yield: 4.9000%\n",
      "Maturity: 19.0000 years -> Interpolated Yield: 4.9550%\n",
      "Maturity: 21.0000 years -> Interpolated Yield: 5.0100%\n",
      "Maturity: 22.0000 years -> Interpolated Yield: 5.0100%\n",
      "Maturity: 23.0000 years -> Interpolated Yield: 5.0100%\n",
      "Maturity: 24.0000 years -> Interpolated Yield: 5.0100%\n",
      "Maturity: 25.0000 years -> Interpolated Yield: 5.0100%\n",
      "Maturity: 26.0000 years -> Interpolated Yield: 5.0100%\n",
      "Maturity: 27.0000 years -> Interpolated Yield: 5.0100%\n",
      "Maturity: 28.0000 years -> Interpolated Yield: 5.0100%\n",
      "Maturity: 29.0000 years -> Interpolated Yield: 5.0100%\n"
     ]
    }
   ],
   "source": [
    "def linear_interpolate(x0, y0, x1, y1, x):\n",
    "    return y0 + (x - x0) * (y1 - y0) / (x1 - x0)\n",
    "\n",
    "maturities = [0.083, 0.125, 0.167, 0.25, 0.333, 0.5, 1, 2, 3, 5, 7, 10, 20, 30]\n",
    "yields = [4.36, 4.4, 4.45, 4.41, 4.42, 4.31, 4.08, 3.88, 3.86, 3.99, 4.21, 4.46, 5.01, 5.01]\n",
    "\n",
    "targets = [5/12, 7/12, 8/12, 9/12, 10/12, 11/12, 4, 6, 8, 9, 11, 12, 13, 14, 15, 16, 17, 18, 19, 21, 22, 23, 24, 25, 26, 27, 28, 29]\n",
    "\n",
    "def interpolate_yield(maturities, yields, x):\n",
    "    # Handle if x is out of range\n",
    "    if x < maturities[0] or x > maturities[-1]:\n",
    "        return None  # or np.nan\n",
    "    for i in range(1, len(maturities)):\n",
    "        if maturities[i-1] <= x <= maturities[i]:\n",
    "            return linear_interpolate(maturities[i-1], yields[i-1], maturities[i], yields[i], x)\n",
    "    return None\n",
    "\n",
    "results = []\n",
    "for t in targets:\n",
    "    y = interpolate_yield(maturities, yields, t)\n",
    "    results.append((t, y))\n",
    "\n",
    "# Print nicely\n",
    "for t, y in results:\n",
    "    if y is not None:\n",
    "        print(f\"Maturity: {t:.4f} years -> Interpolated Yield: {y:.4f}%\")\n",
    "    else:\n",
    "        print(f\"Maturity: {t:.4f} years -> Out of range\")\n"
   ]
  },
  {
   "cell_type": "code",
   "execution_count": 67,
   "id": "c2a80904",
   "metadata": {},
   "outputs": [],
   "source": [
    "# merge the results with the maturities and yields lists\n",
    "results_df = pd.DataFrame(results, columns=['Maturity (Years)', 'Interpolated Yield (%)'])\n",
    "results_df['Maturity (Years)'] = results_df['Maturity (Years)']\n",
    "results_df['Interpolated Yield (%)'] = results_df['Interpolated Yield (%)']\n",
    "\n",
    "maturities = [0.083, 0.125, 0.167, 0.25, 0.333, 0.5, 1, 2, 3, 5, 7, 10, 20, 30]\n",
    "yields = [4.36, 4.4, 4.45, 4.41, 4.42, 4.31, 4.08, 3.88, 3.86, 3.99, 4.21, 4.46, 5.01, 5.01]\n",
    "\n",
    "# Create a DataFrame for the original maturities and yields\n",
    "original_df = pd.DataFrame({\n",
    "    'Maturity (Years)': maturities,\n",
    "    'Yield (%)': yields\n",
    "})\n",
    "\n",
    "# Merge the original DataFrame with the results DataFrame\n",
    "merged_df = pd.merge(original_df, results_df, on='Maturity (Years)', how='outer', suffixes=('_Original', '_Interpolated'))\n",
    "\n",
    "\n",
    "# create an other column with both original and interpolated yields\n",
    "merged_df['Final Yield (%)'] = merged_df['Yield (%)'].combine_first(merged_df['Interpolated Yield (%)'])\n"
   ]
  },
  {
   "cell_type": "code",
   "execution_count": 68,
   "id": "52a9bf52",
   "metadata": {},
   "outputs": [],
   "source": [
    "# append this to the test_yields_df DataFrame\n",
    "test_yields_df['Yield % (LI)'] = merged_df['Final Yield (%)']"
   ]
  },
  {
   "cell_type": "code",
   "execution_count": 69,
   "id": "d14df439",
   "metadata": {},
   "outputs": [
    {
     "data": {
      "image/png": "[encoded data removed]",
      "text/plain": [
       "<Figure size 1000x500 with 1 Axes>"
      ]
     },
     "metadata": {},
     "output_type": "display_data"
    }
   ],
   "source": [
    "# plot the test_yields_df\n",
    "plt.figure(figsize=(10, 5))\n",
    "plt.plot(test_yields_df['Maturity (Years)'], test_yields_df['Yield % OLS (NS)'], marker='o', label='Yield % OLS (NS)')\n",
    "plt.plot(test_yields_df['Maturity (Years)'], test_yields_df['Yield % OLS (NSS)'], marker='x', label='Yield % OLS (NSS)')\n",
    "plt.plot(test_yields_df['Maturity (Years)'], test_yields_df['Yield % (LI)'], marker='s', label='Yield % (LI)')\n",
    "plt.title('Test Yields for Specific Maturities')\n",
    "plt.xlabel('Maturity (Years)')\n",
    "plt.ylabel('Yield (%)')\n",
    "plt.xticks(rotation=45)\n",
    "plt.legend()\n",
    "plt.grid()\n",
    "plt.tight_layout()\n",
    "plt.show()"
   ]
  },
  {
   "cell_type": "markdown",
   "id": "94245ce5",
   "metadata": {},
   "source": [
    "## Cubic Spline Interpolation"
   ]
  },
  {
   "cell_type": "code",
   "execution_count": 73,
   "id": "67d89986",
   "metadata": {},
   "outputs": [],
   "source": [
    "from scipy.interpolate import CubicSpline\n",
    "\n",
    "# Prepare the original maturities and yields as arrays\n",
    "maturities_array = np.array(original_df['Maturity (Years)'])\n",
    "yields_array = np.array(original_df['Yield (%)'])\n",
    "\n",
    "# Create cubic spline interpolator\n",
    "cs = CubicSpline(maturities_array, yields_array)\n",
    "\n",
    "# Interpolate for the desired maturities\n",
    "cubic_spline_yields = cs(maturities_to_check)\n",
    "\n",
    "# Add results to test_yields_df\n",
    "test_yields_df['Yield % (CS)'] = cubic_spline_yields\n",
    "\n"
   ]
  },
  {
   "cell_type": "code",
   "execution_count": 80,
   "id": "7e629cd1",
   "metadata": {},
   "outputs": [
    {
     "data": {
      "image/png": "[encoded data removed]",
      "text/plain": [
       "<Figure size 1000x500 with 1 Axes>"
      ]
     },
     "metadata": {},
     "output_type": "display_data"
    }
   ],
   "source": [
    "# plotting \n",
    "plt.figure(figsize=(10, 5))\n",
    "plt.plot(maturities, yields,'o',color= 'red', label='original Yield')\n",
    "plt.plot(maturities_to_check, test_yields_df['Yield % (CS)'], '--', color='blue', label = 'Interpolated Yields for new maturities')\n",
    "plt.title('Yield Curve Interpolation using Cubic Spline')\n",
    "plt.xlabel('Maturity (Years)')\n",
    "plt.ylabel('Yield (%)')\n",
    "plt.xticks(rotation=45)\n",
    "plt.legend()\n",
    "plt.grid()\n",
    "plt.tight_layout()\n",
    "plt.show()\n"
   ]
  },
  {
   "cell_type": "markdown",
   "id": "f4cd1795",
   "metadata": {},
   "source": [
    "# Conclusion"
   ]
  },
  {
   "cell_type": "markdown",
   "id": "78fbe964",
   "metadata": {},
   "source": [
    "## plots"
   ]
  },
  {
   "cell_type": "code",
   "execution_count": 74,
   "id": "4b5e06c8",
   "metadata": {},
   "outputs": [
    {
     "data": {
      "image/png": "[encoded data removed]",
      "text/plain": [
       "<Figure size 1000x500 with 1 Axes>"
      ]
     },
     "metadata": {},
     "output_type": "display_data"
    }
   ],
   "source": [
    "# Plot the results\n",
    "plt.figure(figsize=(10, 5))\n",
    "plt.plot(test_yields_df['Maturity (Years)'], test_yields_df['Yield % OLS (NS)'], marker='o', label='Yield % OLS (NS)')\n",
    "plt.plot(test_yields_df['Maturity (Years)'], test_yields_df['Yield % OLS (NSS)'], marker='x', label='Yield % OLS (NSS)')\n",
    "plt.plot(test_yields_df['Maturity (Years)'], test_yields_df['Yield % (LI)'], marker='s', label='Yield % (LI)')\n",
    "plt.plot(test_yields_df['Maturity (Years)'], test_yields_df['Yield % (CS)'], marker='d', label='Yield % (CS)')\n",
    "plt.title('Test Yields for Specific Maturities')\n",
    "plt.xlabel('Maturity (Years)')\n",
    "plt.ylabel('Yield (%)')\n",
    "plt.xticks(rotation=45)\n",
    "plt.legend()\n",
    "plt.grid()\n",
    "plt.tight_layout()\n",
    "plt.show()"
   ]
  },
  {
   "cell_type": "code",
   "execution_count": 86,
   "id": "0df78077",
   "metadata": {},
   "outputs": [
    {
     "data": {
      "text/html": [
       "<div>\n",
       "<style scoped>\n",
       "    .dataframe tbody tr th:only-of-type {\n",
       "        vertical-align: middle;\n",
       "    }\n",
       "\n",
       "    .dataframe tbody tr th {\n",
       "        vertical-align: top;\n",
       "    }\n",
       "\n",
       "    .dataframe thead th {\n",
       "        text-align: right;\n",
       "    }\n",
       "</style>\n",
       "<table border=\"1\" class=\"dataframe\">\n",
       "  <thead>\n",
       "    <tr style=\"text-align: right;\">\n",
       "      <th></th>\n",
       "      <th>Maturity</th>\n",
       "      <th>Yield %</th>\n",
       "      <th>Maturity (Years)</th>\n",
       "      <th>Fitted Yield % OLS(NS)</th>\n",
       "      <th>Fitted Yield % MLE (NS)</th>\n",
       "      <th>Fitted Yield % OLS(NSS)</th>\n",
       "    </tr>\n",
       "  </thead>\n",
       "  <tbody>\n",
       "    <tr>\n",
       "      <th>0</th>\n",
       "      <td>1 Mo</td>\n",
       "      <td>4.36</td>\n",
       "      <td>0.083</td>\n",
       "      <td>4.469</td>\n",
       "      <td>4.469</td>\n",
       "      <td>4.398</td>\n",
       "    </tr>\n",
       "    <tr>\n",
       "      <th>1</th>\n",
       "      <td>1.5 Mo</td>\n",
       "      <td>4.4</td>\n",
       "      <td>0.125</td>\n",
       "      <td>4.445</td>\n",
       "      <td>4.445</td>\n",
       "      <td>4.405</td>\n",
       "    </tr>\n",
       "    <tr>\n",
       "      <th>2</th>\n",
       "      <td>2 Mo</td>\n",
       "      <td>4.45</td>\n",
       "      <td>0.167</td>\n",
       "      <td>4.422</td>\n",
       "      <td>4.422</td>\n",
       "      <td>4.407</td>\n",
       "    </tr>\n",
       "    <tr>\n",
       "      <th>3</th>\n",
       "      <td>3 Mo</td>\n",
       "      <td>4.41</td>\n",
       "      <td>0.250</td>\n",
       "      <td>4.378</td>\n",
       "      <td>4.378</td>\n",
       "      <td>4.401</td>\n",
       "    </tr>\n",
       "    <tr>\n",
       "      <th>4</th>\n",
       "      <td>4 Mo</td>\n",
       "      <td>4.42</td>\n",
       "      <td>0.333</td>\n",
       "      <td>4.336</td>\n",
       "      <td>4.336</td>\n",
       "      <td>4.385</td>\n",
       "    </tr>\n",
       "    <tr>\n",
       "      <th>5</th>\n",
       "      <td>6 Mo</td>\n",
       "      <td>4.31</td>\n",
       "      <td>0.500</td>\n",
       "      <td>4.260</td>\n",
       "      <td>4.260</td>\n",
       "      <td>4.333</td>\n",
       "    </tr>\n",
       "    <tr>\n",
       "      <th>6</th>\n",
       "      <td>1 Yr</td>\n",
       "      <td>4.08</td>\n",
       "      <td>1.000</td>\n",
       "      <td>4.085</td>\n",
       "      <td>4.085</td>\n",
       "      <td>4.134</td>\n",
       "    </tr>\n",
       "    <tr>\n",
       "      <th>7</th>\n",
       "      <td>2 Yr</td>\n",
       "      <td>3.88</td>\n",
       "      <td>2.000</td>\n",
       "      <td>3.908</td>\n",
       "      <td>3.908</td>\n",
       "      <td>3.871</td>\n",
       "    </tr>\n",
       "    <tr>\n",
       "      <th>8</th>\n",
       "      <td>3 Yr</td>\n",
       "      <td>3.86</td>\n",
       "      <td>3.000</td>\n",
       "      <td>3.875</td>\n",
       "      <td>3.875</td>\n",
       "      <td>3.819</td>\n",
       "    </tr>\n",
       "    <tr>\n",
       "      <th>9</th>\n",
       "      <td>5 Yr</td>\n",
       "      <td>3.99</td>\n",
       "      <td>5.000</td>\n",
       "      <td>4.002</td>\n",
       "      <td>4.002</td>\n",
       "      <td>3.988</td>\n",
       "    </tr>\n",
       "    <tr>\n",
       "      <th>10</th>\n",
       "      <td>7 Yr</td>\n",
       "      <td>4.21</td>\n",
       "      <td>7.000</td>\n",
       "      <td>4.201</td>\n",
       "      <td>4.201</td>\n",
       "      <td>4.226</td>\n",
       "    </tr>\n",
       "    <tr>\n",
       "      <th>11</th>\n",
       "      <td>10 Yr</td>\n",
       "      <td>4.46</td>\n",
       "      <td>10.000</td>\n",
       "      <td>4.466</td>\n",
       "      <td>4.466</td>\n",
       "      <td>4.507</td>\n",
       "    </tr>\n",
       "    <tr>\n",
       "      <th>12</th>\n",
       "      <td>20 Yr</td>\n",
       "      <td>5.01</td>\n",
       "      <td>20.000</td>\n",
       "      <td>4.918</td>\n",
       "      <td>4.918</td>\n",
       "      <td>4.917</td>\n",
       "    </tr>\n",
       "    <tr>\n",
       "      <th>13</th>\n",
       "      <td>30 Yr</td>\n",
       "      <td>5.01</td>\n",
       "      <td>30.000</td>\n",
       "      <td>5.085</td>\n",
       "      <td>5.085</td>\n",
       "      <td>5.059</td>\n",
       "    </tr>\n",
       "  </tbody>\n",
       "</table>\n",
       "</div>"
      ],
      "text/plain": [
       "   Maturity Yield %  Maturity (Years)  Fitted Yield % OLS(NS)  \\\n",
       "0      1 Mo    4.36             0.083                   4.469   \n",
       "1    1.5 Mo     4.4             0.125                   4.445   \n",
       "2      2 Mo    4.45             0.167                   4.422   \n",
       "3      3 Mo    4.41             0.250                   4.378   \n",
       "4      4 Mo    4.42             0.333                   4.336   \n",
       "5      6 Mo    4.31             0.500                   4.260   \n",
       "6      1 Yr    4.08             1.000                   4.085   \n",
       "7      2 Yr    3.88             2.000                   3.908   \n",
       "8      3 Yr    3.86             3.000                   3.875   \n",
       "9      5 Yr    3.99             5.000                   4.002   \n",
       "10     7 Yr    4.21             7.000                   4.201   \n",
       "11    10 Yr    4.46            10.000                   4.466   \n",
       "12    20 Yr    5.01            20.000                   4.918   \n",
       "13    30 Yr    5.01            30.000                   5.085   \n",
       "\n",
       "    Fitted Yield % MLE (NS)  Fitted Yield % OLS(NSS)  \n",
       "0                     4.469                    4.398  \n",
       "1                     4.445                    4.405  \n",
       "2                     4.422                    4.407  \n",
       "3                     4.378                    4.401  \n",
       "4                     4.336                    4.385  \n",
       "5                     4.260                    4.333  \n",
       "6                     4.085                    4.134  \n",
       "7                     3.908                    3.871  \n",
       "8                     3.875                    3.819  \n",
       "9                     4.002                    3.988  \n",
       "10                    4.201                    4.226  \n",
       "11                    4.466                    4.507  \n",
       "12                    4.918                    4.917  \n",
       "13                    5.085                    5.059  "
      ]
     },
     "execution_count": 86,
     "metadata": {},
     "output_type": "execute_result"
    }
   ],
   "source": [
    "data_7_16_2025"
   ]
  },
  {
   "cell_type": "code",
   "execution_count": 87,
   "id": "47784c03",
   "metadata": {},
   "outputs": [
    {
     "data": {
      "text/html": [
       "<div>\n",
       "<style scoped>\n",
       "    .dataframe tbody tr th:only-of-type {\n",
       "        vertical-align: middle;\n",
       "    }\n",
       "\n",
       "    .dataframe tbody tr th {\n",
       "        vertical-align: top;\n",
       "    }\n",
       "\n",
       "    .dataframe thead th {\n",
       "        text-align: right;\n",
       "    }\n",
       "</style>\n",
       "<table border=\"1\" class=\"dataframe\">\n",
       "  <thead>\n",
       "    <tr style=\"text-align: right;\">\n",
       "      <th></th>\n",
       "      <th>Maturity (Years)</th>\n",
       "      <th>Yield % OLS (NS)</th>\n",
       "      <th>Yield % OLS (NSS)</th>\n",
       "      <th>Yield % (LI)</th>\n",
       "      <th>Yield % (CS)</th>\n",
       "    </tr>\n",
       "  </thead>\n",
       "  <tbody>\n",
       "    <tr>\n",
       "      <th>0</th>\n",
       "      <td>0.083333</td>\n",
       "      <td>4.468814</td>\n",
       "      <td>4.398567</td>\n",
       "      <td>4.360000</td>\n",
       "      <td>4.360021</td>\n",
       "    </tr>\n",
       "    <tr>\n",
       "      <th>1</th>\n",
       "      <td>0.166667</td>\n",
       "      <td>4.421879</td>\n",
       "      <td>4.407094</td>\n",
       "      <td>4.400000</td>\n",
       "      <td>4.449821</td>\n",
       "    </tr>\n",
       "    <tr>\n",
       "      <th>2</th>\n",
       "      <td>0.250000</td>\n",
       "      <td>4.377684</td>\n",
       "      <td>4.401222</td>\n",
       "      <td>4.450000</td>\n",
       "      <td>4.410000</td>\n",
       "    </tr>\n",
       "    <tr>\n",
       "      <th>3</th>\n",
       "      <td>0.333333</td>\n",
       "      <td>4.336110</td>\n",
       "      <td>4.384990</td>\n",
       "      <td>4.410000</td>\n",
       "      <td>4.420028</td>\n",
       "    </tr>\n",
       "    <tr>\n",
       "      <th>4</th>\n",
       "      <td>0.416667</td>\n",
       "      <td>4.297043</td>\n",
       "      <td>4.361481</td>\n",
       "      <td>4.420000</td>\n",
       "      <td>4.385813</td>\n",
       "    </tr>\n",
       "    <tr>\n",
       "      <th>5</th>\n",
       "      <td>0.500000</td>\n",
       "      <td>4.260371</td>\n",
       "      <td>4.333046</td>\n",
       "      <td>4.364890</td>\n",
       "      <td>4.310000</td>\n",
       "    </tr>\n",
       "    <tr>\n",
       "      <th>6</th>\n",
       "      <td>0.583333</td>\n",
       "      <td>4.225989</td>\n",
       "      <td>4.301472</td>\n",
       "      <td>4.310000</td>\n",
       "      <td>4.242651</td>\n",
       "    </tr>\n",
       "    <tr>\n",
       "      <th>7</th>\n",
       "      <td>0.666667</td>\n",
       "      <td>4.193795</td>\n",
       "      <td>4.268114</td>\n",
       "      <td>4.271667</td>\n",
       "      <td>4.191201</td>\n",
       "    </tr>\n",
       "    <tr>\n",
       "      <th>8</th>\n",
       "      <td>0.750000</td>\n",
       "      <td>4.163693</td>\n",
       "      <td>4.233998</td>\n",
       "      <td>4.233333</td>\n",
       "      <td>4.152431</td>\n",
       "    </tr>\n",
       "    <tr>\n",
       "      <th>9</th>\n",
       "      <td>0.833333</td>\n",
       "      <td>4.135588</td>\n",
       "      <td>4.199890</td>\n",
       "      <td>4.195000</td>\n",
       "      <td>4.123121</td>\n",
       "    </tr>\n",
       "    <tr>\n",
       "      <th>10</th>\n",
       "      <td>0.916667</td>\n",
       "      <td>4.109391</td>\n",
       "      <td>4.166363</td>\n",
       "      <td>4.156667</td>\n",
       "      <td>4.100051</td>\n",
       "    </tr>\n",
       "    <tr>\n",
       "      <th>11</th>\n",
       "      <td>1.000000</td>\n",
       "      <td>4.085016</td>\n",
       "      <td>4.133835</td>\n",
       "      <td>4.118333</td>\n",
       "      <td>4.080000</td>\n",
       "    </tr>\n",
       "    <tr>\n",
       "      <th>12</th>\n",
       "      <td>2.000000</td>\n",
       "      <td>3.907732</td>\n",
       "      <td>3.871283</td>\n",
       "      <td>4.080000</td>\n",
       "      <td>3.880000</td>\n",
       "    </tr>\n",
       "    <tr>\n",
       "      <th>13</th>\n",
       "      <td>3.000000</td>\n",
       "      <td>3.874936</td>\n",
       "      <td>3.818619</td>\n",
       "      <td>3.880000</td>\n",
       "      <td>3.860000</td>\n",
       "    </tr>\n",
       "    <tr>\n",
       "      <th>14</th>\n",
       "      <td>4.000000</td>\n",
       "      <td>3.919617</td>\n",
       "      <td>3.879672</td>\n",
       "      <td>3.860000</td>\n",
       "      <td>3.909686</td>\n",
       "    </tr>\n",
       "    <tr>\n",
       "      <th>15</th>\n",
       "      <td>5.000000</td>\n",
       "      <td>4.002265</td>\n",
       "      <td>3.988094</td>\n",
       "      <td>3.925000</td>\n",
       "      <td>3.990000</td>\n",
       "    </tr>\n",
       "    <tr>\n",
       "      <th>16</th>\n",
       "      <td>6.000000</td>\n",
       "      <td>4.100120</td>\n",
       "      <td>4.109005</td>\n",
       "      <td>3.990000</td>\n",
       "      <td>4.097487</td>\n",
       "    </tr>\n",
       "    <tr>\n",
       "      <th>17</th>\n",
       "      <td>7.000000</td>\n",
       "      <td>4.200520</td>\n",
       "      <td>4.225922</td>\n",
       "      <td>4.100000</td>\n",
       "      <td>4.210000</td>\n",
       "    </tr>\n",
       "    <tr>\n",
       "      <th>18</th>\n",
       "      <td>8.000000</td>\n",
       "      <td>4.296810</td>\n",
       "      <td>4.332088</td>\n",
       "      <td>4.210000</td>\n",
       "      <td>4.306291</td>\n",
       "    </tr>\n",
       "    <tr>\n",
       "      <th>19</th>\n",
       "      <td>9.000000</td>\n",
       "      <td>4.385844</td>\n",
       "      <td>4.425592</td>\n",
       "      <td>4.293333</td>\n",
       "      <td>4.387414</td>\n",
       "    </tr>\n",
       "    <tr>\n",
       "      <th>20</th>\n",
       "      <td>10.000000</td>\n",
       "      <td>4.466473</td>\n",
       "      <td>4.506772</td>\n",
       "      <td>4.376667</td>\n",
       "      <td>4.460000</td>\n",
       "    </tr>\n",
       "    <tr>\n",
       "      <th>21</th>\n",
       "      <td>11.000000</td>\n",
       "      <td>4.538635</td>\n",
       "      <td>4.576876</td>\n",
       "      <td>4.460000</td>\n",
       "      <td>4.529513</td>\n",
       "    </tr>\n",
       "    <tr>\n",
       "      <th>22</th>\n",
       "      <td>12.000000</td>\n",
       "      <td>4.602824</td>\n",
       "      <td>4.637411</td>\n",
       "      <td>4.515000</td>\n",
       "      <td>4.596759</td>\n",
       "    </tr>\n",
       "    <tr>\n",
       "      <th>23</th>\n",
       "      <td>13.000000</td>\n",
       "      <td>4.659778</td>\n",
       "      <td>4.689841</td>\n",
       "      <td>4.570000</td>\n",
       "      <td>4.661378</td>\n",
       "    </tr>\n",
       "    <tr>\n",
       "      <th>24</th>\n",
       "      <td>14.000000</td>\n",
       "      <td>4.710309</td>\n",
       "      <td>4.735468</td>\n",
       "      <td>4.625000</td>\n",
       "      <td>4.723011</td>\n",
       "    </tr>\n",
       "    <tr>\n",
       "      <th>25</th>\n",
       "      <td>15.000000</td>\n",
       "      <td>4.755213</td>\n",
       "      <td>4.775402</td>\n",
       "      <td>4.680000</td>\n",
       "      <td>4.781300</td>\n",
       "    </tr>\n",
       "    <tr>\n",
       "      <th>26</th>\n",
       "      <td>16.000000</td>\n",
       "      <td>4.795219</td>\n",
       "      <td>4.810564</td>\n",
       "      <td>4.735000</td>\n",
       "      <td>4.835885</td>\n",
       "    </tr>\n",
       "    <tr>\n",
       "      <th>27</th>\n",
       "      <td>17.000000</td>\n",
       "      <td>4.830981</td>\n",
       "      <td>4.841714</td>\n",
       "      <td>4.790000</td>\n",
       "      <td>4.886407</td>\n",
       "    </tr>\n",
       "    <tr>\n",
       "      <th>28</th>\n",
       "      <td>18.000000</td>\n",
       "      <td>4.863066</td>\n",
       "      <td>4.869474</td>\n",
       "      <td>4.845000</td>\n",
       "      <td>4.932506</td>\n",
       "    </tr>\n",
       "    <tr>\n",
       "      <th>29</th>\n",
       "      <td>19.000000</td>\n",
       "      <td>4.891965</td>\n",
       "      <td>4.894351</td>\n",
       "      <td>4.900000</td>\n",
       "      <td>4.973823</td>\n",
       "    </tr>\n",
       "    <tr>\n",
       "      <th>30</th>\n",
       "      <td>20.000000</td>\n",
       "      <td>4.918097</td>\n",
       "      <td>4.916763</td>\n",
       "      <td>4.955000</td>\n",
       "      <td>5.010000</td>\n",
       "    </tr>\n",
       "    <tr>\n",
       "      <th>31</th>\n",
       "      <td>21.000000</td>\n",
       "      <td>4.941819</td>\n",
       "      <td>4.937053</td>\n",
       "      <td>5.010000</td>\n",
       "      <td>5.040677</td>\n",
       "    </tr>\n",
       "    <tr>\n",
       "      <th>32</th>\n",
       "      <td>22.000000</td>\n",
       "      <td>4.963435</td>\n",
       "      <td>4.955505</td>\n",
       "      <td>5.010000</td>\n",
       "      <td>5.065494</td>\n",
       "    </tr>\n",
       "    <tr>\n",
       "      <th>33</th>\n",
       "      <td>23.000000</td>\n",
       "      <td>4.983203</td>\n",
       "      <td>4.972357</td>\n",
       "      <td>5.010000</td>\n",
       "      <td>5.084093</td>\n",
       "    </tr>\n",
       "    <tr>\n",
       "      <th>34</th>\n",
       "      <td>24.000000</td>\n",
       "      <td>5.001345</td>\n",
       "      <td>4.987806</td>\n",
       "      <td>5.010000</td>\n",
       "      <td>5.096115</td>\n",
       "    </tr>\n",
       "    <tr>\n",
       "      <th>35</th>\n",
       "      <td>25.000000</td>\n",
       "      <td>5.018049</td>\n",
       "      <td>5.002021</td>\n",
       "      <td>5.010000</td>\n",
       "      <td>5.101200</td>\n",
       "    </tr>\n",
       "    <tr>\n",
       "      <th>36</th>\n",
       "      <td>26.000000</td>\n",
       "      <td>5.033476</td>\n",
       "      <td>5.015143</td>\n",
       "      <td>5.010000</td>\n",
       "      <td>5.098989</td>\n",
       "    </tr>\n",
       "    <tr>\n",
       "      <th>37</th>\n",
       "      <td>27.000000</td>\n",
       "      <td>5.047766</td>\n",
       "      <td>5.027294</td>\n",
       "      <td>5.010000</td>\n",
       "      <td>5.089122</td>\n",
       "    </tr>\n",
       "    <tr>\n",
       "      <th>38</th>\n",
       "      <td>28.000000</td>\n",
       "      <td>5.061039</td>\n",
       "      <td>5.038577</td>\n",
       "      <td>5.010000</td>\n",
       "      <td>5.071241</td>\n",
       "    </tr>\n",
       "    <tr>\n",
       "      <th>39</th>\n",
       "      <td>29.000000</td>\n",
       "      <td>5.073399</td>\n",
       "      <td>5.049082</td>\n",
       "      <td>5.010000</td>\n",
       "      <td>5.044987</td>\n",
       "    </tr>\n",
       "    <tr>\n",
       "      <th>40</th>\n",
       "      <td>30.000000</td>\n",
       "      <td>5.084936</td>\n",
       "      <td>5.058886</td>\n",
       "      <td>5.010000</td>\n",
       "      <td>5.010000</td>\n",
       "    </tr>\n",
       "  </tbody>\n",
       "</table>\n",
       "</div>"
      ],
      "text/plain": [
       "    Maturity (Years)  Yield % OLS (NS)  Yield % OLS (NSS)  Yield % (LI)  \\\n",
       "0           0.083333          4.468814           4.398567      4.360000   \n",
       "1           0.166667          4.421879           4.407094      4.400000   \n",
       "2           0.250000          4.377684           4.401222      4.450000   \n",
       "3           0.333333          4.336110           4.384990      4.410000   \n",
       "4           0.416667          4.297043           4.361481      4.420000   \n",
       "5           0.500000          4.260371           4.333046      4.364890   \n",
       "6           0.583333          4.225989           4.301472      4.310000   \n",
       "7           0.666667          4.193795           4.268114      4.271667   \n",
       "8           0.750000          4.163693           4.233998      4.233333   \n",
       "9           0.833333          4.135588           4.199890      4.195000   \n",
       "10          0.916667          4.109391           4.166363      4.156667   \n",
       "11          1.000000          4.085016           4.133835      4.118333   \n",
       "12          2.000000          3.907732           3.871283      4.080000   \n",
       "13          3.000000          3.874936           3.818619      3.880000   \n",
       "14          4.000000          3.919617           3.879672      3.860000   \n",
       "15          5.000000          4.002265           3.988094      3.925000   \n",
       "16          6.000000          4.100120           4.109005      3.990000   \n",
       "17          7.000000          4.200520           4.225922      4.100000   \n",
       "18          8.000000          4.296810           4.332088      4.210000   \n",
       "19          9.000000          4.385844           4.425592      4.293333   \n",
       "20         10.000000          4.466473           4.506772      4.376667   \n",
       "21         11.000000          4.538635           4.576876      4.460000   \n",
       "22         12.000000          4.602824           4.637411      4.515000   \n",
       "23         13.000000          4.659778           4.689841      4.570000   \n",
       "24         14.000000          4.710309           4.735468      4.625000   \n",
       "25         15.000000          4.755213           4.775402      4.680000   \n",
       "26         16.000000          4.795219           4.810564      4.735000   \n",
       "27         17.000000          4.830981           4.841714      4.790000   \n",
       "28         18.000000          4.863066           4.869474      4.845000   \n",
       "29         19.000000          4.891965           4.894351      4.900000   \n",
       "30         20.000000          4.918097           4.916763      4.955000   \n",
       "31         21.000000          4.941819           4.937053      5.010000   \n",
       "32         22.000000          4.963435           4.955505      5.010000   \n",
       "33         23.000000          4.983203           4.972357      5.010000   \n",
       "34         24.000000          5.001345           4.987806      5.010000   \n",
       "35         25.000000          5.018049           5.002021      5.010000   \n",
       "36         26.000000          5.033476           5.015143      5.010000   \n",
       "37         27.000000          5.047766           5.027294      5.010000   \n",
       "38         28.000000          5.061039           5.038577      5.010000   \n",
       "39         29.000000          5.073399           5.049082      5.010000   \n",
       "40         30.000000          5.084936           5.058886      5.010000   \n",
       "\n",
       "    Yield % (CS)  \n",
       "0       4.360021  \n",
       "1       4.449821  \n",
       "2       4.410000  \n",
       "3       4.420028  \n",
       "4       4.385813  \n",
       "5       4.310000  \n",
       "6       4.242651  \n",
       "7       4.191201  \n",
       "8       4.152431  \n",
       "9       4.123121  \n",
       "10      4.100051  \n",
       "11      4.080000  \n",
       "12      3.880000  \n",
       "13      3.860000  \n",
       "14      3.909686  \n",
       "15      3.990000  \n",
       "16      4.097487  \n",
       "17      4.210000  \n",
       "18      4.306291  \n",
       "19      4.387414  \n",
       "20      4.460000  \n",
       "21      4.529513  \n",
       "22      4.596759  \n",
       "23      4.661378  \n",
       "24      4.723011  \n",
       "25      4.781300  \n",
       "26      4.835885  \n",
       "27      4.886407  \n",
       "28      4.932506  \n",
       "29      4.973823  \n",
       "30      5.010000  \n",
       "31      5.040677  \n",
       "32      5.065494  \n",
       "33      5.084093  \n",
       "34      5.096115  \n",
       "35      5.101200  \n",
       "36      5.098989  \n",
       "37      5.089122  \n",
       "38      5.071241  \n",
       "39      5.044987  \n",
       "40      5.010000  "
      ]
     },
     "execution_count": 87,
     "metadata": {},
     "output_type": "execute_result"
    }
   ],
   "source": [
    "test_yields_df"
   ]
  },
  {
   "cell_type": "markdown",
   "id": "d3d332da",
   "metadata": {},
   "source": [
    "## Error metrics"
   ]
  },
  {
   "cell_type": "code",
   "execution_count": 85,
   "id": "834f7cd1",
   "metadata": {},
   "outputs": [
    {
     "name": "stdout",
     "output_type": "stream",
     "text": [
      "NS Model: RMSE = 0.0539, MAE = 0.0421\n",
      "NSS Model: RMSE = 0.0408, MAE = 0.0331\n"
     ]
    }
   ],
   "source": [
    "# Actual yields\n",
    "y_actual = data_7_16_2025['Yield %']\n",
    "\n",
    "# Fitted yields for each model\n",
    "y_ns = data_7_16_2025['Fitted Yield % OLS(NS)']\n",
    "y_nss = data_7_16_2025['Fitted Yield % OLS(NSS)']\n",
    "\n",
    "def rmse(y_true, y_pred):\n",
    "    return np.sqrt(np.mean((y_true - y_pred)**2))\n",
    "\n",
    "def mae(y_true, y_pred):\n",
    "    return np.mean(np.abs(y_true - y_pred))\n",
    "\n",
    "# NS Model\n",
    "rmse_ns = rmse(y_actual, y_ns)\n",
    "mae_ns = mae(y_actual, y_ns)\n",
    "\n",
    "# NSS Model\n",
    "rmse_nss = rmse(y_actual, y_nss)\n",
    "mae_nss = mae(y_actual, y_nss)\n",
    "\n",
    "print(f\"NS Model: RMSE = {rmse_ns:.4f}, MAE = {mae_ns:.4f}\")\n",
    "print(f\"NSS Model: RMSE = {rmse_nss:.4f}, MAE = {mae_nss:.4f}\")\n"
   ]
  },
  {
   "cell_type": "markdown",
   "id": "e950cf84",
   "metadata": {},
   "source": [
    "## Parameter stability"
   ]
  },
  {
   "cell_type": "markdown",
   "id": "eba10cd6",
   "metadata": {},
   "source": []
  }
 ],
 "metadata": {
  "kernelspec": {
   "display_name": "trading",
   "language": "python",
   "name": "python3"
  },
  "language_info": {
   "codemirror_mode": {
    "name": "ipython",
    "version": 3
   },
   "file_extension": ".py",
   "mimetype": "text/x-python",
   "name": "python",
   "nbconvert_exporter": "python",
   "pygments_lexer": "ipython3",
   "version": "3.11.11"
  }
 },
 "nbformat": 4,
 "nbformat_minor": 5
}
